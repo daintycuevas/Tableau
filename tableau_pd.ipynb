{
 "metadata": {
  "language_info": {
   "codemirror_mode": {
    "name": "ipython",
    "version": 3
   },
   "file_extension": ".py",
   "mimetype": "text/x-python",
   "name": "python",
   "nbconvert_exporter": "python",
   "pygments_lexer": "ipython3",
   "version": "3.6.13-final"
  },
  "orig_nbformat": 2,
  "kernelspec": {
   "name": "python3613jvsc74a57bd0bc97885fc9fa4801ecfb4c59a4d2d1a77881e92c2e5cd873fdf42506df8d42c8",
   "display_name": "Python 3.6.13 64-bit ('PythonAdv': conda)"
  }
 },
 "nbformat": 4,
 "nbformat_minor": 2,
 "cells": [
  {
   "cell_type": "code",
   "execution_count": 1,
   "metadata": {},
   "outputs": [],
   "source": [
    "import pandas as pd"
   ]
  },
  {
   "cell_type": "code",
   "execution_count": 2,
   "metadata": {},
   "outputs": [],
   "source": [
    "jan_data = pd.read_csv(\"JC-202001-citibike-tripdata.csv\")\n",
    "feb_data = pd.read_csv(\"JC-202002-citibike-tripdata.csv\")\n",
    "mar_data = pd.read_csv(\"JC-202003-citibike-tripdata.csv\")\n",
    "apr_data = pd.read_csv(\"JC-202004-citibike-tripdata.csv\")\n",
    "may_data = pd.read_csv(\"JC-202005-citibike-tripdata.csv\")\n",
    "jun_data = pd.read_csv(\"JC-202006-citibike-tripdata.csv\")\n",
    "jul_data = pd.read_csv(\"JC-202007-citibike-tripdata.csv\")\n",
    "aug_data = pd.read_csv(\"JC-202008-citibike-tripdata.csv\")\n",
    "sep_data = pd.read_csv(\"JC-202009-citibike-tripdata.csv\")\n",
    "oct_data = pd.read_csv(\"JC-202010-citibike-tripdata.csv\")\n",
    "nov_data = pd.read_csv(\"JC-202011-citibike-tripdata.csv\")\n",
    "dec_data = pd.read_csv(\"JC-202012-citibike-tripdata.csv\")\n",
    "third_year_jan_data = pd.read_csv(\"JC-202101-citibike-tripdata.csv\")\n",
    "third_year_feb_data = pd.read_csv(\"JC-202102-citibike-tripdat.csv\")"
   ]
  },
  {
   "cell_type": "code",
   "execution_count": 3,
   "metadata": {},
   "outputs": [],
   "source": [
    "jan_df = pd.DataFrame(jan_data)\n",
    "feb_df = pd.DataFrame(feb_data)\n",
    "mar_df = pd.DataFrame(mar_data)\n",
    "apr_df = pd.DataFrame(apr_data)\n",
    "may_df = pd.DataFrame(may_data)\n",
    "jun_df = pd.DataFrame(jun_data)\n",
    "jul_df = pd.DataFrame(jul_data)\n",
    "aug_df = pd.DataFrame(aug_data)\n",
    "sep_df = pd.DataFrame(sep_data)\n",
    "oct_df = pd.DataFrame(oct_data)\n",
    "nov_df = pd.DataFrame(nov_data)\n",
    "dec_df = pd.DataFrame(dec_data)"
   ]
  },
  {
   "cell_type": "code",
   "execution_count": 4,
   "metadata": {},
   "outputs": [
    {
     "output_type": "execute_result",
     "data": {
      "text/plain": [
       "(66701, 15)"
      ]
     },
     "metadata": {},
     "execution_count": 4
    }
   ],
   "source": [
    "first_frame = [jan_df, feb_df, mar_df]\n",
    "first_qtr = pd.concat(first_frame)\n",
    "first_qtr.shape"
   ]
  },
  {
   "cell_type": "code",
   "execution_count": 5,
   "metadata": {},
   "outputs": [
    {
     "output_type": "execute_result",
     "data": {
      "text/plain": [
       "(71266, 15)"
      ]
     },
     "metadata": {},
     "execution_count": 5
    }
   ],
   "source": [
    "second_frame = [apr_df, may_df, jun_df]\n",
    "second_qtr = pd.concat(second_frame)\n",
    "second_qtr.shape"
   ]
  },
  {
   "cell_type": "code",
   "execution_count": 6,
   "metadata": {},
   "outputs": [
    {
     "output_type": "execute_result",
     "data": {
      "text/plain": [
       "(135780, 15)"
      ]
     },
     "metadata": {},
     "execution_count": 6
    }
   ],
   "source": [
    "third_frame = [jul_df, aug_df, sep_df]\n",
    "third_qtr = pd.concat(third_frame)\n",
    "third_qtr.shape"
   ]
  },
  {
   "cell_type": "code",
   "execution_count": 7,
   "metadata": {},
   "outputs": [
    {
     "output_type": "execute_result",
     "data": {
      "text/plain": [
       "(63055, 15)"
      ]
     },
     "metadata": {},
     "execution_count": 7
    }
   ],
   "source": [
    "fourth_frame = [oct_df, nov_df, dec_df]\n",
    "fourth_qtr = pd.concat(fourth_frame)\n",
    "fourth_qtr.shape"
   ]
  },
  {
   "cell_type": "code",
   "execution_count": 8,
   "metadata": {},
   "outputs": [
    {
     "output_type": "execute_result",
     "data": {
      "text/plain": [
       "   tripduration                 starttime                  stoptime  \\\n",
       "0           226  2020-01-01 00:04:50.1920  2020-01-01 00:08:37.0370   \n",
       "1           377  2020-01-01 00:16:01.6700  2020-01-01 00:22:19.0800   \n",
       "2           288  2020-01-01 00:17:33.8770  2020-01-01 00:22:22.4420   \n",
       "3           435  2020-01-01 00:32:05.9020  2020-01-01 00:39:21.0660   \n",
       "4           231  2020-01-01 00:46:19.6780  2020-01-01 00:50:11.3440   \n",
       "\n",
       "   start station id start station name  start station latitude  \\\n",
       "0              3186      Grove St PATH               40.719586   \n",
       "1              3186      Grove St PATH               40.719586   \n",
       "2              3186      Grove St PATH               40.719586   \n",
       "3              3195            Sip Ave               40.730897   \n",
       "4              3186      Grove St PATH               40.719586   \n",
       "\n",
       "   start station longitude  end station id  end station name  \\\n",
       "0               -74.043117            3211        Newark Ave   \n",
       "1               -74.043117            3269   Brunswick & 6th   \n",
       "2               -74.043117            3269   Brunswick & 6th   \n",
       "3               -74.063913            3280       Astor Place   \n",
       "4               -74.043117            3276  Marin Light Rail   \n",
       "\n",
       "   end station latitude  end station longitude  bikeid    usertype  \\\n",
       "0             40.721525             -74.046305   29444  Subscriber   \n",
       "1             40.726012             -74.050389   26305  Subscriber   \n",
       "2             40.726012             -74.050389   29268    Customer   \n",
       "3             40.719282             -74.071262   29278    Customer   \n",
       "4             40.714584             -74.042817   29276  Subscriber   \n",
       "\n",
       "   birth year  gender  \n",
       "0        1984       2  \n",
       "1        1989       2  \n",
       "2        1989       1  \n",
       "3        1969       0  \n",
       "4        1983       2  "
      ],
      "text/html": "<div>\n<style scoped>\n    .dataframe tbody tr th:only-of-type {\n        vertical-align: middle;\n    }\n\n    .dataframe tbody tr th {\n        vertical-align: top;\n    }\n\n    .dataframe thead th {\n        text-align: right;\n    }\n</style>\n<table border=\"1\" class=\"dataframe\">\n  <thead>\n    <tr style=\"text-align: right;\">\n      <th></th>\n      <th>tripduration</th>\n      <th>starttime</th>\n      <th>stoptime</th>\n      <th>start station id</th>\n      <th>start station name</th>\n      <th>start station latitude</th>\n      <th>start station longitude</th>\n      <th>end station id</th>\n      <th>end station name</th>\n      <th>end station latitude</th>\n      <th>end station longitude</th>\n      <th>bikeid</th>\n      <th>usertype</th>\n      <th>birth year</th>\n      <th>gender</th>\n    </tr>\n  </thead>\n  <tbody>\n    <tr>\n      <th>0</th>\n      <td>226</td>\n      <td>2020-01-01 00:04:50.1920</td>\n      <td>2020-01-01 00:08:37.0370</td>\n      <td>3186</td>\n      <td>Grove St PATH</td>\n      <td>40.719586</td>\n      <td>-74.043117</td>\n      <td>3211</td>\n      <td>Newark Ave</td>\n      <td>40.721525</td>\n      <td>-74.046305</td>\n      <td>29444</td>\n      <td>Subscriber</td>\n      <td>1984</td>\n      <td>2</td>\n    </tr>\n    <tr>\n      <th>1</th>\n      <td>377</td>\n      <td>2020-01-01 00:16:01.6700</td>\n      <td>2020-01-01 00:22:19.0800</td>\n      <td>3186</td>\n      <td>Grove St PATH</td>\n      <td>40.719586</td>\n      <td>-74.043117</td>\n      <td>3269</td>\n      <td>Brunswick &amp; 6th</td>\n      <td>40.726012</td>\n      <td>-74.050389</td>\n      <td>26305</td>\n      <td>Subscriber</td>\n      <td>1989</td>\n      <td>2</td>\n    </tr>\n    <tr>\n      <th>2</th>\n      <td>288</td>\n      <td>2020-01-01 00:17:33.8770</td>\n      <td>2020-01-01 00:22:22.4420</td>\n      <td>3186</td>\n      <td>Grove St PATH</td>\n      <td>40.719586</td>\n      <td>-74.043117</td>\n      <td>3269</td>\n      <td>Brunswick &amp; 6th</td>\n      <td>40.726012</td>\n      <td>-74.050389</td>\n      <td>29268</td>\n      <td>Customer</td>\n      <td>1989</td>\n      <td>1</td>\n    </tr>\n    <tr>\n      <th>3</th>\n      <td>435</td>\n      <td>2020-01-01 00:32:05.9020</td>\n      <td>2020-01-01 00:39:21.0660</td>\n      <td>3195</td>\n      <td>Sip Ave</td>\n      <td>40.730897</td>\n      <td>-74.063913</td>\n      <td>3280</td>\n      <td>Astor Place</td>\n      <td>40.719282</td>\n      <td>-74.071262</td>\n      <td>29278</td>\n      <td>Customer</td>\n      <td>1969</td>\n      <td>0</td>\n    </tr>\n    <tr>\n      <th>4</th>\n      <td>231</td>\n      <td>2020-01-01 00:46:19.6780</td>\n      <td>2020-01-01 00:50:11.3440</td>\n      <td>3186</td>\n      <td>Grove St PATH</td>\n      <td>40.719586</td>\n      <td>-74.043117</td>\n      <td>3276</td>\n      <td>Marin Light Rail</td>\n      <td>40.714584</td>\n      <td>-74.042817</td>\n      <td>29276</td>\n      <td>Subscriber</td>\n      <td>1983</td>\n      <td>2</td>\n    </tr>\n  </tbody>\n</table>\n</div>"
     },
     "metadata": {},
     "execution_count": 8
    }
   ],
   "source": [
    "first_qtr.head()"
   ]
  },
  {
   "cell_type": "code",
   "execution_count": 9,
   "metadata": {},
   "outputs": [
    {
     "output_type": "execute_result",
     "data": {
      "text/plain": [
       "                   tripduration                 starttime  \\\n",
       "usertype   gender                                           \n",
       "Subscriber 2                226  2020-01-01 00:04:50.1920   \n",
       "           2                377  2020-01-01 00:16:01.6700   \n",
       "Customer   1                288  2020-01-01 00:17:33.8770   \n",
       "           0                435  2020-01-01 00:32:05.9020   \n",
       "Subscriber 2                231  2020-01-01 00:46:19.6780   \n",
       "...                         ...                       ...   \n",
       "           1                296  2020-03-31 22:50:39.0410   \n",
       "           1                147  2020-03-31 23:09:15.9690   \n",
       "           1                364  2020-03-31 23:17:02.0240   \n",
       "           1               1217  2020-03-31 23:36:10.6430   \n",
       "           1                846  2020-03-31 23:37:21.1840   \n",
       "\n",
       "                                   stoptime  start station id  \\\n",
       "usertype   gender                                               \n",
       "Subscriber 2       2020-01-01 00:08:37.0370              3186   \n",
       "           2       2020-01-01 00:22:19.0800              3186   \n",
       "Customer   1       2020-01-01 00:22:22.4420              3186   \n",
       "           0       2020-01-01 00:39:21.0660              3195   \n",
       "Subscriber 2       2020-01-01 00:50:11.3440              3186   \n",
       "...                                     ...               ...   \n",
       "           1       2020-03-31 22:55:35.5980              3191   \n",
       "           1       2020-03-31 23:11:43.5310              3640   \n",
       "           1       2020-03-31 23:23:06.8200              3195   \n",
       "           1       2020-03-31 23:56:27.8120              3267   \n",
       "           1       2020-03-31 23:51:28.1220              3195   \n",
       "\n",
       "                  start station name  start station latitude  \\\n",
       "usertype   gender                                              \n",
       "Subscriber 2           Grove St PATH               40.719586   \n",
       "           2           Grove St PATH               40.719586   \n",
       "Customer   1           Grove St PATH               40.719586   \n",
       "           0                 Sip Ave               40.730897   \n",
       "Subscriber 2           Grove St PATH               40.719586   \n",
       "...                              ...                     ...   \n",
       "           1                Union St               40.718211   \n",
       "           1          Journal Square               40.733670   \n",
       "           1                 Sip Ave               40.730897   \n",
       "           1            Morris Canal               40.712419   \n",
       "           1                 Sip Ave               40.730897   \n",
       "\n",
       "                   start station longitude  end station id  end station name  \\\n",
       "usertype   gender                                                              \n",
       "Subscriber 2                    -74.043117            3211        Newark Ave   \n",
       "           2                    -74.043117            3269   Brunswick & 6th   \n",
       "Customer   1                    -74.043117            3269   Brunswick & 6th   \n",
       "           0                    -74.063913            3280       Astor Place   \n",
       "Subscriber 2                    -74.043117            3276  Marin Light Rail   \n",
       "...                                    ...             ...               ...   \n",
       "           1                    -74.083639            3694    Jackson Square   \n",
       "           1                    -74.062500            3206           Hilltop   \n",
       "           1                    -74.063913            3679        Bergen Ave   \n",
       "           1                    -74.038526            3276  Marin Light Rail   \n",
       "           1                    -74.063913            3193      Lincoln Park   \n",
       "\n",
       "                   end station latitude  end station longitude  bikeid  \\\n",
       "usertype   gender                                                        \n",
       "Subscriber 2                  40.721525             -74.046305   29444   \n",
       "           2                  40.726012             -74.050389   26305   \n",
       "Customer   1                  40.726012             -74.050389   29268   \n",
       "           0                  40.719282             -74.071262   29278   \n",
       "Subscriber 2                  40.714584             -74.042817   29276   \n",
       "...                                 ...                    ...     ...   \n",
       "           1                  40.711130             -74.078900   42145   \n",
       "           1                  40.731169             -74.057574   42110   \n",
       "           1                  40.722104             -74.071455   42550   \n",
       "           1                  40.714584             -74.042817   42115   \n",
       "           1                  40.724605             -74.078406   42362   \n",
       "\n",
       "                   birth year  \n",
       "usertype   gender              \n",
       "Subscriber 2             1984  \n",
       "           2             1989  \n",
       "Customer   1             1989  \n",
       "           0             1969  \n",
       "Subscriber 2             1983  \n",
       "...                       ...  \n",
       "           1             1994  \n",
       "           1             1991  \n",
       "           1             1986  \n",
       "           1             1986  \n",
       "           1             1965  \n",
       "\n",
       "[66701 rows x 13 columns]"
      ],
      "text/html": "<div>\n<style scoped>\n    .dataframe tbody tr th:only-of-type {\n        vertical-align: middle;\n    }\n\n    .dataframe tbody tr th {\n        vertical-align: top;\n    }\n\n    .dataframe thead th {\n        text-align: right;\n    }\n</style>\n<table border=\"1\" class=\"dataframe\">\n  <thead>\n    <tr style=\"text-align: right;\">\n      <th></th>\n      <th></th>\n      <th>tripduration</th>\n      <th>starttime</th>\n      <th>stoptime</th>\n      <th>start station id</th>\n      <th>start station name</th>\n      <th>start station latitude</th>\n      <th>start station longitude</th>\n      <th>end station id</th>\n      <th>end station name</th>\n      <th>end station latitude</th>\n      <th>end station longitude</th>\n      <th>bikeid</th>\n      <th>birth year</th>\n    </tr>\n    <tr>\n      <th>usertype</th>\n      <th>gender</th>\n      <th></th>\n      <th></th>\n      <th></th>\n      <th></th>\n      <th></th>\n      <th></th>\n      <th></th>\n      <th></th>\n      <th></th>\n      <th></th>\n      <th></th>\n      <th></th>\n      <th></th>\n    </tr>\n  </thead>\n  <tbody>\n    <tr>\n      <th rowspan=\"2\" valign=\"top\">Subscriber</th>\n      <th>2</th>\n      <td>226</td>\n      <td>2020-01-01 00:04:50.1920</td>\n      <td>2020-01-01 00:08:37.0370</td>\n      <td>3186</td>\n      <td>Grove St PATH</td>\n      <td>40.719586</td>\n      <td>-74.043117</td>\n      <td>3211</td>\n      <td>Newark Ave</td>\n      <td>40.721525</td>\n      <td>-74.046305</td>\n      <td>29444</td>\n      <td>1984</td>\n    </tr>\n    <tr>\n      <th>2</th>\n      <td>377</td>\n      <td>2020-01-01 00:16:01.6700</td>\n      <td>2020-01-01 00:22:19.0800</td>\n      <td>3186</td>\n      <td>Grove St PATH</td>\n      <td>40.719586</td>\n      <td>-74.043117</td>\n      <td>3269</td>\n      <td>Brunswick &amp; 6th</td>\n      <td>40.726012</td>\n      <td>-74.050389</td>\n      <td>26305</td>\n      <td>1989</td>\n    </tr>\n    <tr>\n      <th rowspan=\"2\" valign=\"top\">Customer</th>\n      <th>1</th>\n      <td>288</td>\n      <td>2020-01-01 00:17:33.8770</td>\n      <td>2020-01-01 00:22:22.4420</td>\n      <td>3186</td>\n      <td>Grove St PATH</td>\n      <td>40.719586</td>\n      <td>-74.043117</td>\n      <td>3269</td>\n      <td>Brunswick &amp; 6th</td>\n      <td>40.726012</td>\n      <td>-74.050389</td>\n      <td>29268</td>\n      <td>1989</td>\n    </tr>\n    <tr>\n      <th>0</th>\n      <td>435</td>\n      <td>2020-01-01 00:32:05.9020</td>\n      <td>2020-01-01 00:39:21.0660</td>\n      <td>3195</td>\n      <td>Sip Ave</td>\n      <td>40.730897</td>\n      <td>-74.063913</td>\n      <td>3280</td>\n      <td>Astor Place</td>\n      <td>40.719282</td>\n      <td>-74.071262</td>\n      <td>29278</td>\n      <td>1969</td>\n    </tr>\n    <tr>\n      <th rowspan=\"7\" valign=\"top\">Subscriber</th>\n      <th>2</th>\n      <td>231</td>\n      <td>2020-01-01 00:46:19.6780</td>\n      <td>2020-01-01 00:50:11.3440</td>\n      <td>3186</td>\n      <td>Grove St PATH</td>\n      <td>40.719586</td>\n      <td>-74.043117</td>\n      <td>3276</td>\n      <td>Marin Light Rail</td>\n      <td>40.714584</td>\n      <td>-74.042817</td>\n      <td>29276</td>\n      <td>1983</td>\n    </tr>\n    <tr>\n      <th>...</th>\n      <td>...</td>\n      <td>...</td>\n      <td>...</td>\n      <td>...</td>\n      <td>...</td>\n      <td>...</td>\n      <td>...</td>\n      <td>...</td>\n      <td>...</td>\n      <td>...</td>\n      <td>...</td>\n      <td>...</td>\n      <td>...</td>\n    </tr>\n    <tr>\n      <th>1</th>\n      <td>296</td>\n      <td>2020-03-31 22:50:39.0410</td>\n      <td>2020-03-31 22:55:35.5980</td>\n      <td>3191</td>\n      <td>Union St</td>\n      <td>40.718211</td>\n      <td>-74.083639</td>\n      <td>3694</td>\n      <td>Jackson Square</td>\n      <td>40.711130</td>\n      <td>-74.078900</td>\n      <td>42145</td>\n      <td>1994</td>\n    </tr>\n    <tr>\n      <th>1</th>\n      <td>147</td>\n      <td>2020-03-31 23:09:15.9690</td>\n      <td>2020-03-31 23:11:43.5310</td>\n      <td>3640</td>\n      <td>Journal Square</td>\n      <td>40.733670</td>\n      <td>-74.062500</td>\n      <td>3206</td>\n      <td>Hilltop</td>\n      <td>40.731169</td>\n      <td>-74.057574</td>\n      <td>42110</td>\n      <td>1991</td>\n    </tr>\n    <tr>\n      <th>1</th>\n      <td>364</td>\n      <td>2020-03-31 23:17:02.0240</td>\n      <td>2020-03-31 23:23:06.8200</td>\n      <td>3195</td>\n      <td>Sip Ave</td>\n      <td>40.730897</td>\n      <td>-74.063913</td>\n      <td>3679</td>\n      <td>Bergen Ave</td>\n      <td>40.722104</td>\n      <td>-74.071455</td>\n      <td>42550</td>\n      <td>1986</td>\n    </tr>\n    <tr>\n      <th>1</th>\n      <td>1217</td>\n      <td>2020-03-31 23:36:10.6430</td>\n      <td>2020-03-31 23:56:27.8120</td>\n      <td>3267</td>\n      <td>Morris Canal</td>\n      <td>40.712419</td>\n      <td>-74.038526</td>\n      <td>3276</td>\n      <td>Marin Light Rail</td>\n      <td>40.714584</td>\n      <td>-74.042817</td>\n      <td>42115</td>\n      <td>1986</td>\n    </tr>\n    <tr>\n      <th>1</th>\n      <td>846</td>\n      <td>2020-03-31 23:37:21.1840</td>\n      <td>2020-03-31 23:51:28.1220</td>\n      <td>3195</td>\n      <td>Sip Ave</td>\n      <td>40.730897</td>\n      <td>-74.063913</td>\n      <td>3193</td>\n      <td>Lincoln Park</td>\n      <td>40.724605</td>\n      <td>-74.078406</td>\n      <td>42362</td>\n      <td>1965</td>\n    </tr>\n  </tbody>\n</table>\n<p>66701 rows × 13 columns</p>\n</div>"
     },
     "metadata": {},
     "execution_count": 9
    }
   ],
   "source": [
    "first_qtr_df = first_qtr.set_index([\"usertype\", \"gender\"])\n",
    "first_qtr_df"
   ]
  },
  {
   "cell_type": "code",
   "execution_count": 10,
   "metadata": {},
   "outputs": [
    {
     "output_type": "execute_result",
     "data": {
      "text/plain": [
       "                   tripduration                 starttime  \\\n",
       "usertype   gender                                           \n",
       "Subscriber 2                226  2020-01-01 00:04:50.1920   \n",
       "           2                377  2020-01-01 00:16:01.6700   \n",
       "           2                231  2020-01-01 00:46:19.6780   \n",
       "           1                437  2020-01-01 00:47:21.0850   \n",
       "           1               1227  2020-01-01 01:07:07.6230   \n",
       "\n",
       "                                   stoptime  start station id  \\\n",
       "usertype   gender                                               \n",
       "Subscriber 2       2020-01-01 00:08:37.0370              3186   \n",
       "           2       2020-01-01 00:22:19.0800              3186   \n",
       "           2       2020-01-01 00:50:11.3440              3186   \n",
       "           1       2020-01-01 00:54:38.7460              3199   \n",
       "           1       2020-01-01 01:27:34.8230              3186   \n",
       "\n",
       "                  start station name  start station latitude  \\\n",
       "usertype   gender                                              \n",
       "Subscriber 2           Grove St PATH               40.719586   \n",
       "           2           Grove St PATH               40.719586   \n",
       "           2           Grove St PATH               40.719586   \n",
       "           1            Newport Pkwy               40.728745   \n",
       "           1           Grove St PATH               40.719586   \n",
       "\n",
       "                   start station longitude  end station id  end station name  \\\n",
       "usertype   gender                                                              \n",
       "Subscriber 2                    -74.043117            3211        Newark Ave   \n",
       "           2                    -74.043117            3269   Brunswick & 6th   \n",
       "           2                    -74.043117            3276  Marin Light Rail   \n",
       "           1                    -74.032108            3639        Harborside   \n",
       "           1                    -74.043117            3280       Astor Place   \n",
       "\n",
       "                   end station latitude  end station longitude  bikeid  \\\n",
       "usertype   gender                                                        \n",
       "Subscriber 2                  40.721525             -74.046305   29444   \n",
       "           2                  40.726012             -74.050389   26305   \n",
       "           2                  40.714584             -74.042817   29276   \n",
       "           1                  40.719252             -74.034234   26261   \n",
       "           1                  40.719282             -74.071262   29467   \n",
       "\n",
       "                   birth year  \n",
       "usertype   gender              \n",
       "Subscriber 2             1984  \n",
       "           2             1989  \n",
       "           2             1983  \n",
       "           1             1990  \n",
       "           1             1976  "
      ],
      "text/html": "<div>\n<style scoped>\n    .dataframe tbody tr th:only-of-type {\n        vertical-align: middle;\n    }\n\n    .dataframe tbody tr th {\n        vertical-align: top;\n    }\n\n    .dataframe thead th {\n        text-align: right;\n    }\n</style>\n<table border=\"1\" class=\"dataframe\">\n  <thead>\n    <tr style=\"text-align: right;\">\n      <th></th>\n      <th></th>\n      <th>tripduration</th>\n      <th>starttime</th>\n      <th>stoptime</th>\n      <th>start station id</th>\n      <th>start station name</th>\n      <th>start station latitude</th>\n      <th>start station longitude</th>\n      <th>end station id</th>\n      <th>end station name</th>\n      <th>end station latitude</th>\n      <th>end station longitude</th>\n      <th>bikeid</th>\n      <th>birth year</th>\n    </tr>\n    <tr>\n      <th>usertype</th>\n      <th>gender</th>\n      <th></th>\n      <th></th>\n      <th></th>\n      <th></th>\n      <th></th>\n      <th></th>\n      <th></th>\n      <th></th>\n      <th></th>\n      <th></th>\n      <th></th>\n      <th></th>\n      <th></th>\n    </tr>\n  </thead>\n  <tbody>\n    <tr>\n      <th rowspan=\"5\" valign=\"top\">Subscriber</th>\n      <th>2</th>\n      <td>226</td>\n      <td>2020-01-01 00:04:50.1920</td>\n      <td>2020-01-01 00:08:37.0370</td>\n      <td>3186</td>\n      <td>Grove St PATH</td>\n      <td>40.719586</td>\n      <td>-74.043117</td>\n      <td>3211</td>\n      <td>Newark Ave</td>\n      <td>40.721525</td>\n      <td>-74.046305</td>\n      <td>29444</td>\n      <td>1984</td>\n    </tr>\n    <tr>\n      <th>2</th>\n      <td>377</td>\n      <td>2020-01-01 00:16:01.6700</td>\n      <td>2020-01-01 00:22:19.0800</td>\n      <td>3186</td>\n      <td>Grove St PATH</td>\n      <td>40.719586</td>\n      <td>-74.043117</td>\n      <td>3269</td>\n      <td>Brunswick &amp; 6th</td>\n      <td>40.726012</td>\n      <td>-74.050389</td>\n      <td>26305</td>\n      <td>1989</td>\n    </tr>\n    <tr>\n      <th>2</th>\n      <td>231</td>\n      <td>2020-01-01 00:46:19.6780</td>\n      <td>2020-01-01 00:50:11.3440</td>\n      <td>3186</td>\n      <td>Grove St PATH</td>\n      <td>40.719586</td>\n      <td>-74.043117</td>\n      <td>3276</td>\n      <td>Marin Light Rail</td>\n      <td>40.714584</td>\n      <td>-74.042817</td>\n      <td>29276</td>\n      <td>1983</td>\n    </tr>\n    <tr>\n      <th>1</th>\n      <td>437</td>\n      <td>2020-01-01 00:47:21.0850</td>\n      <td>2020-01-01 00:54:38.7460</td>\n      <td>3199</td>\n      <td>Newport Pkwy</td>\n      <td>40.728745</td>\n      <td>-74.032108</td>\n      <td>3639</td>\n      <td>Harborside</td>\n      <td>40.719252</td>\n      <td>-74.034234</td>\n      <td>26261</td>\n      <td>1990</td>\n    </tr>\n    <tr>\n      <th>1</th>\n      <td>1227</td>\n      <td>2020-01-01 01:07:07.6230</td>\n      <td>2020-01-01 01:27:34.8230</td>\n      <td>3186</td>\n      <td>Grove St PATH</td>\n      <td>40.719586</td>\n      <td>-74.043117</td>\n      <td>3280</td>\n      <td>Astor Place</td>\n      <td>40.719282</td>\n      <td>-74.071262</td>\n      <td>29467</td>\n      <td>1976</td>\n    </tr>\n  </tbody>\n</table>\n</div>"
     },
     "metadata": {},
     "execution_count": 10
    }
   ],
   "source": [
    "first_qtr_subscriber_df = first_qtr_df.drop(index='Customer', level=0)\n",
    "first_qtr_subscriber_df.head()"
   ]
  },
  {
   "cell_type": "code",
   "execution_count": 11,
   "metadata": {},
   "outputs": [
    {
     "output_type": "execute_result",
     "data": {
      "text/plain": [
       "                 tripduration                 starttime  \\\n",
       "usertype gender                                           \n",
       "Customer 1                288  2020-01-01 00:17:33.8770   \n",
       "         0                435  2020-01-01 00:32:05.9020   \n",
       "         0                438  2020-01-01 00:59:19.6180   \n",
       "         0                403  2020-01-01 00:59:31.5680   \n",
       "         0                395  2020-01-01 00:59:34.4200   \n",
       "\n",
       "                                 stoptime  start station id  \\\n",
       "usertype gender                                               \n",
       "Customer 1       2020-01-01 00:22:22.4420              3186   \n",
       "         0       2020-01-01 00:39:21.0660              3195   \n",
       "         0       2020-01-01 01:06:38.4200              3792   \n",
       "         0       2020-01-01 01:06:15.3510              3792   \n",
       "         0       2020-01-01 01:06:10.2390              3792   \n",
       "\n",
       "                         start station name  start station latitude  \\\n",
       "usertype gender                                                       \n",
       "Customer 1                    Grove St PATH               40.719586   \n",
       "         0                          Sip Ave               40.730897   \n",
       "         0       Columbus Dr at Exchange Pl               40.716870   \n",
       "         0       Columbus Dr at Exchange Pl               40.716870   \n",
       "         0       Columbus Dr at Exchange Pl               40.716870   \n",
       "\n",
       "                 start station longitude  end station id end station name  \\\n",
       "usertype gender                                                             \n",
       "Customer 1                    -74.043117            3269  Brunswick & 6th   \n",
       "         0                    -74.063913            3280      Astor Place   \n",
       "         0                    -74.032810            3638    Washington St   \n",
       "         0                    -74.032810            3638    Washington St   \n",
       "         0                    -74.032810            3638    Washington St   \n",
       "\n",
       "                 end station latitude  end station longitude  bikeid  \\\n",
       "usertype gender                                                        \n",
       "Customer 1                  40.726012             -74.050389   29268   \n",
       "         0                  40.719282             -74.071262   29278   \n",
       "         0                  40.724294             -74.035483   29120   \n",
       "         0                  40.724294             -74.035483   26182   \n",
       "         0                  40.724294             -74.035483   29601   \n",
       "\n",
       "                 birth year  \n",
       "usertype gender              \n",
       "Customer 1             1989  \n",
       "         0             1969  \n",
       "         0             1969  \n",
       "         0             1969  \n",
       "         0             1969  "
      ],
      "text/html": "<div>\n<style scoped>\n    .dataframe tbody tr th:only-of-type {\n        vertical-align: middle;\n    }\n\n    .dataframe tbody tr th {\n        vertical-align: top;\n    }\n\n    .dataframe thead th {\n        text-align: right;\n    }\n</style>\n<table border=\"1\" class=\"dataframe\">\n  <thead>\n    <tr style=\"text-align: right;\">\n      <th></th>\n      <th></th>\n      <th>tripduration</th>\n      <th>starttime</th>\n      <th>stoptime</th>\n      <th>start station id</th>\n      <th>start station name</th>\n      <th>start station latitude</th>\n      <th>start station longitude</th>\n      <th>end station id</th>\n      <th>end station name</th>\n      <th>end station latitude</th>\n      <th>end station longitude</th>\n      <th>bikeid</th>\n      <th>birth year</th>\n    </tr>\n    <tr>\n      <th>usertype</th>\n      <th>gender</th>\n      <th></th>\n      <th></th>\n      <th></th>\n      <th></th>\n      <th></th>\n      <th></th>\n      <th></th>\n      <th></th>\n      <th></th>\n      <th></th>\n      <th></th>\n      <th></th>\n      <th></th>\n    </tr>\n  </thead>\n  <tbody>\n    <tr>\n      <th rowspan=\"5\" valign=\"top\">Customer</th>\n      <th>1</th>\n      <td>288</td>\n      <td>2020-01-01 00:17:33.8770</td>\n      <td>2020-01-01 00:22:22.4420</td>\n      <td>3186</td>\n      <td>Grove St PATH</td>\n      <td>40.719586</td>\n      <td>-74.043117</td>\n      <td>3269</td>\n      <td>Brunswick &amp; 6th</td>\n      <td>40.726012</td>\n      <td>-74.050389</td>\n      <td>29268</td>\n      <td>1989</td>\n    </tr>\n    <tr>\n      <th>0</th>\n      <td>435</td>\n      <td>2020-01-01 00:32:05.9020</td>\n      <td>2020-01-01 00:39:21.0660</td>\n      <td>3195</td>\n      <td>Sip Ave</td>\n      <td>40.730897</td>\n      <td>-74.063913</td>\n      <td>3280</td>\n      <td>Astor Place</td>\n      <td>40.719282</td>\n      <td>-74.071262</td>\n      <td>29278</td>\n      <td>1969</td>\n    </tr>\n    <tr>\n      <th>0</th>\n      <td>438</td>\n      <td>2020-01-01 00:59:19.6180</td>\n      <td>2020-01-01 01:06:38.4200</td>\n      <td>3792</td>\n      <td>Columbus Dr at Exchange Pl</td>\n      <td>40.716870</td>\n      <td>-74.032810</td>\n      <td>3638</td>\n      <td>Washington St</td>\n      <td>40.724294</td>\n      <td>-74.035483</td>\n      <td>29120</td>\n      <td>1969</td>\n    </tr>\n    <tr>\n      <th>0</th>\n      <td>403</td>\n      <td>2020-01-01 00:59:31.5680</td>\n      <td>2020-01-01 01:06:15.3510</td>\n      <td>3792</td>\n      <td>Columbus Dr at Exchange Pl</td>\n      <td>40.716870</td>\n      <td>-74.032810</td>\n      <td>3638</td>\n      <td>Washington St</td>\n      <td>40.724294</td>\n      <td>-74.035483</td>\n      <td>26182</td>\n      <td>1969</td>\n    </tr>\n    <tr>\n      <th>0</th>\n      <td>395</td>\n      <td>2020-01-01 00:59:34.4200</td>\n      <td>2020-01-01 01:06:10.2390</td>\n      <td>3792</td>\n      <td>Columbus Dr at Exchange Pl</td>\n      <td>40.716870</td>\n      <td>-74.032810</td>\n      <td>3638</td>\n      <td>Washington St</td>\n      <td>40.724294</td>\n      <td>-74.035483</td>\n      <td>29601</td>\n      <td>1969</td>\n    </tr>\n  </tbody>\n</table>\n</div>"
     },
     "metadata": {},
     "execution_count": 11
    }
   ],
   "source": [
    "first_qtr_customer_df = first_qtr_df.drop(index='Subscriber', level=0)\n",
    "first_qtr_customer_df.head()"
   ]
  },
  {
   "cell_type": "code",
   "execution_count": 12,
   "metadata": {},
   "outputs": [
    {
     "output_type": "execute_result",
     "data": {
      "text/plain": [
       "                   bikeid  birth year start station name  end station name\n",
       "usertype   gender                                                         \n",
       "Subscriber 2        29444        1984      Grove St PATH        Newark Ave\n",
       "           2        26305        1989      Grove St PATH   Brunswick & 6th\n",
       "           2        29276        1983      Grove St PATH  Marin Light Rail\n",
       "           1        26261        1990       Newport Pkwy        Harborside\n",
       "           1        29467        1976      Grove St PATH       Astor Place"
      ],
      "text/html": "<div>\n<style scoped>\n    .dataframe tbody tr th:only-of-type {\n        vertical-align: middle;\n    }\n\n    .dataframe tbody tr th {\n        vertical-align: top;\n    }\n\n    .dataframe thead th {\n        text-align: right;\n    }\n</style>\n<table border=\"1\" class=\"dataframe\">\n  <thead>\n    <tr style=\"text-align: right;\">\n      <th></th>\n      <th></th>\n      <th>bikeid</th>\n      <th>birth year</th>\n      <th>start station name</th>\n      <th>end station name</th>\n    </tr>\n    <tr>\n      <th>usertype</th>\n      <th>gender</th>\n      <th></th>\n      <th></th>\n      <th></th>\n      <th></th>\n    </tr>\n  </thead>\n  <tbody>\n    <tr>\n      <th rowspan=\"5\" valign=\"top\">Subscriber</th>\n      <th>2</th>\n      <td>29444</td>\n      <td>1984</td>\n      <td>Grove St PATH</td>\n      <td>Newark Ave</td>\n    </tr>\n    <tr>\n      <th>2</th>\n      <td>26305</td>\n      <td>1989</td>\n      <td>Grove St PATH</td>\n      <td>Brunswick &amp; 6th</td>\n    </tr>\n    <tr>\n      <th>2</th>\n      <td>29276</td>\n      <td>1983</td>\n      <td>Grove St PATH</td>\n      <td>Marin Light Rail</td>\n    </tr>\n    <tr>\n      <th>1</th>\n      <td>26261</td>\n      <td>1990</td>\n      <td>Newport Pkwy</td>\n      <td>Harborside</td>\n    </tr>\n    <tr>\n      <th>1</th>\n      <td>29467</td>\n      <td>1976</td>\n      <td>Grove St PATH</td>\n      <td>Astor Place</td>\n    </tr>\n  </tbody>\n</table>\n</div>"
     },
     "metadata": {},
     "execution_count": 12
    }
   ],
   "source": [
    "first_subscriber_df = first_qtr_subscriber_df[[\"bikeid\", \"birth year\", \"start station name\", \"end station name\"]]\n",
    "first_subscriber_df.head()"
   ]
  },
  {
   "cell_type": "code",
   "execution_count": 13,
   "metadata": {},
   "outputs": [
    {
     "output_type": "execute_result",
     "data": {
      "text/plain": [
       "                 bikeid  birth year          start station name  \\\n",
       "usertype gender                                                   \n",
       "Customer 1        29268        1989               Grove St PATH   \n",
       "         0        29278        1969                     Sip Ave   \n",
       "         0        29120        1969  Columbus Dr at Exchange Pl   \n",
       "         0        26182        1969  Columbus Dr at Exchange Pl   \n",
       "         0        29601        1969  Columbus Dr at Exchange Pl   \n",
       "\n",
       "                end station name  \n",
       "usertype gender                   \n",
       "Customer 1       Brunswick & 6th  \n",
       "         0           Astor Place  \n",
       "         0         Washington St  \n",
       "         0         Washington St  \n",
       "         0         Washington St  "
      ],
      "text/html": "<div>\n<style scoped>\n    .dataframe tbody tr th:only-of-type {\n        vertical-align: middle;\n    }\n\n    .dataframe tbody tr th {\n        vertical-align: top;\n    }\n\n    .dataframe thead th {\n        text-align: right;\n    }\n</style>\n<table border=\"1\" class=\"dataframe\">\n  <thead>\n    <tr style=\"text-align: right;\">\n      <th></th>\n      <th></th>\n      <th>bikeid</th>\n      <th>birth year</th>\n      <th>start station name</th>\n      <th>end station name</th>\n    </tr>\n    <tr>\n      <th>usertype</th>\n      <th>gender</th>\n      <th></th>\n      <th></th>\n      <th></th>\n      <th></th>\n    </tr>\n  </thead>\n  <tbody>\n    <tr>\n      <th rowspan=\"5\" valign=\"top\">Customer</th>\n      <th>1</th>\n      <td>29268</td>\n      <td>1989</td>\n      <td>Grove St PATH</td>\n      <td>Brunswick &amp; 6th</td>\n    </tr>\n    <tr>\n      <th>0</th>\n      <td>29278</td>\n      <td>1969</td>\n      <td>Sip Ave</td>\n      <td>Astor Place</td>\n    </tr>\n    <tr>\n      <th>0</th>\n      <td>29120</td>\n      <td>1969</td>\n      <td>Columbus Dr at Exchange Pl</td>\n      <td>Washington St</td>\n    </tr>\n    <tr>\n      <th>0</th>\n      <td>26182</td>\n      <td>1969</td>\n      <td>Columbus Dr at Exchange Pl</td>\n      <td>Washington St</td>\n    </tr>\n    <tr>\n      <th>0</th>\n      <td>29601</td>\n      <td>1969</td>\n      <td>Columbus Dr at Exchange Pl</td>\n      <td>Washington St</td>\n    </tr>\n  </tbody>\n</table>\n</div>"
     },
     "metadata": {},
     "execution_count": 13
    }
   ],
   "source": [
    "first_customer_df = first_qtr_customer_df[[\"bikeid\", \"birth year\", \"start station name\", \"end station name\"]]\n",
    "first_customer_df.head()"
   ]
  },
  {
   "cell_type": "code",
   "execution_count": 14,
   "metadata": {},
   "outputs": [
    {
     "output_type": "execute_result",
     "data": {
      "text/plain": [
       "bikeid                5620\n",
       "birth year            5620\n",
       "start station name    5620\n",
       "end station name      5620\n",
       "dtype: int64"
      ]
     },
     "metadata": {},
     "execution_count": 14
    }
   ],
   "source": [
    "first_customer_df.count()"
   ]
  },
  {
   "cell_type": "code",
   "execution_count": 15,
   "metadata": {},
   "outputs": [
    {
     "output_type": "execute_result",
     "data": {
      "text/plain": [
       "5620"
      ]
     },
     "metadata": {},
     "execution_count": 15
    }
   ],
   "source": [
    "bikeid_list = first_customer_df[\"bikeid\"].tolist()\n",
    "len(bikeid_list)"
   ]
  },
  {
   "cell_type": "code",
   "execution_count": 17,
   "metadata": {},
   "outputs": [],
   "source": [
    "first_bikeid_list = first_customer_df[\"bikeid\"].unique().tolist()\n",
    "# first_bikeid_list"
   ]
  },
  {
   "cell_type": "code",
   "execution_count": 18,
   "metadata": {},
   "outputs": [
    {
     "output_type": "execute_result",
     "data": {
      "text/plain": [
       "958"
      ]
     },
     "metadata": {},
     "execution_count": 18
    }
   ],
   "source": [
    "first_customer_bikeid = first_customer_df[\"bikeid\"].nunique()\n",
    "first_customer_bikeid"
   ]
  },
  {
   "cell_type": "code",
   "execution_count": 19,
   "metadata": {},
   "outputs": [],
   "source": [
    "gp_birthyr_list = first_customer_df[\"birth year\"].unique().tolist()\n",
    "# gp_birthyr_list"
   ]
  },
  {
   "cell_type": "code",
   "execution_count": 20,
   "metadata": {},
   "outputs": [
    {
     "output_type": "execute_result",
     "data": {
      "text/plain": [
       "48"
      ]
     },
     "metadata": {},
     "execution_count": 20
    }
   ],
   "source": [
    "gp_customer_birthyr = first_customer_df[\"birth year\"].nunique()\n",
    "gp_customer_birthyr"
   ]
  },
  {
   "cell_type": "code",
   "execution_count": 21,
   "metadata": {},
   "outputs": [
    {
     "output_type": "execute_result",
     "data": {
      "text/plain": [
       "                 bikeid  birth year          start station name  \\\n",
       "usertype gender                                                   \n",
       "Customer 1        29268        1989               Grove St PATH   \n",
       "         0        29278        1969                     Sip Ave   \n",
       "         0        29120        1969  Columbus Dr at Exchange Pl   \n",
       "         0        26182        1969  Columbus Dr at Exchange Pl   \n",
       "         0        29601        1969  Columbus Dr at Exchange Pl   \n",
       "\n",
       "                end station name  \n",
       "usertype gender                   \n",
       "Customer 1       Brunswick & 6th  \n",
       "         0           Astor Place  \n",
       "         0         Washington St  \n",
       "         0         Washington St  \n",
       "         0         Washington St  "
      ],
      "text/html": "<div>\n<style scoped>\n    .dataframe tbody tr th:only-of-type {\n        vertical-align: middle;\n    }\n\n    .dataframe tbody tr th {\n        vertical-align: top;\n    }\n\n    .dataframe thead th {\n        text-align: right;\n    }\n</style>\n<table border=\"1\" class=\"dataframe\">\n  <thead>\n    <tr style=\"text-align: right;\">\n      <th></th>\n      <th></th>\n      <th>bikeid</th>\n      <th>birth year</th>\n      <th>start station name</th>\n      <th>end station name</th>\n    </tr>\n    <tr>\n      <th>usertype</th>\n      <th>gender</th>\n      <th></th>\n      <th></th>\n      <th></th>\n      <th></th>\n    </tr>\n  </thead>\n  <tbody>\n    <tr>\n      <th rowspan=\"5\" valign=\"top\">Customer</th>\n      <th>1</th>\n      <td>29268</td>\n      <td>1989</td>\n      <td>Grove St PATH</td>\n      <td>Brunswick &amp; 6th</td>\n    </tr>\n    <tr>\n      <th>0</th>\n      <td>29278</td>\n      <td>1969</td>\n      <td>Sip Ave</td>\n      <td>Astor Place</td>\n    </tr>\n    <tr>\n      <th>0</th>\n      <td>29120</td>\n      <td>1969</td>\n      <td>Columbus Dr at Exchange Pl</td>\n      <td>Washington St</td>\n    </tr>\n    <tr>\n      <th>0</th>\n      <td>26182</td>\n      <td>1969</td>\n      <td>Columbus Dr at Exchange Pl</td>\n      <td>Washington St</td>\n    </tr>\n    <tr>\n      <th>0</th>\n      <td>29601</td>\n      <td>1969</td>\n      <td>Columbus Dr at Exchange Pl</td>\n      <td>Washington St</td>\n    </tr>\n  </tbody>\n</table>\n</div>"
     },
     "metadata": {},
     "execution_count": 21
    }
   ],
   "source": [
    "first_customer_df.head()"
   ]
  },
  {
   "cell_type": "code",
   "execution_count": 50,
   "metadata": {},
   "outputs": [],
   "source": [
    "## CUSTOMER DF"
   ]
  },
  {
   "cell_type": "code",
   "execution_count": 22,
   "metadata": {},
   "outputs": [
    {
     "output_type": "stream",
     "name": "stderr",
     "text": [
      "ipykernel_launcher:1: SettingWithCopyWarning: \nA value is trying to be set on a copy of a slice from a DataFrame.\nTry using .loc[row_indexer,col_indexer] = value instead\n\nSee the caveats in the documentation: https://pandas.pydata.org/pandas-docs/stable/user_guide/indexing.html#returning-a-view-versus-a-copy\n"
     ]
    },
    {
     "output_type": "execute_result",
     "data": {
      "text/plain": [
       "                 bikeid  birth year          start station name  \\\n",
       "usertype gender                                                   \n",
       "Customer 1        29268        1989               Grove St PATH   \n",
       "         0        29278        1969                     Sip Ave   \n",
       "         0        29120        1969  Columbus Dr at Exchange Pl   \n",
       "         0        26182        1969  Columbus Dr at Exchange Pl   \n",
       "         0        29601        1969  Columbus Dr at Exchange Pl   \n",
       "...                 ...         ...                         ...   \n",
       "         2        42180        2002               Fairmount Ave   \n",
       "         0        15363        1969                     Sip Ave   \n",
       "         2        42420        2002                 Astor Place   \n",
       "         0        42136        1969                     Sip Ave   \n",
       "         0        42617        1969                Manila & 1st   \n",
       "\n",
       "                      end station name  \\\n",
       "usertype gender                          \n",
       "Customer 1             Brunswick & 6th   \n",
       "         0                 Astor Place   \n",
       "         0               Washington St   \n",
       "         0               Washington St   \n",
       "         0               Washington St   \n",
       "...                                ...   \n",
       "         2                 Astor Place   \n",
       "         0                  Bergen Ave   \n",
       "         2               Fairmount Ave   \n",
       "         0       Baldwin at Montgomery   \n",
       "         0              Jackson Square   \n",
       "\n",
       "                 total # of male(1)/female(2) by birth year  \n",
       "usertype gender                                              \n",
       "Customer 1                                             2067  \n",
       "         0                                             2596  \n",
       "         0                                             2596  \n",
       "         0                                             2596  \n",
       "         0                                             2596  \n",
       "...                                                     ...  \n",
       "         2                                              957  \n",
       "         0                                             2596  \n",
       "         2                                              957  \n",
       "         0                                             2596  \n",
       "         0                                             2596  \n",
       "\n",
       "[5620 rows x 5 columns]"
      ],
      "text/html": "<div>\n<style scoped>\n    .dataframe tbody tr th:only-of-type {\n        vertical-align: middle;\n    }\n\n    .dataframe tbody tr th {\n        vertical-align: top;\n    }\n\n    .dataframe thead th {\n        text-align: right;\n    }\n</style>\n<table border=\"1\" class=\"dataframe\">\n  <thead>\n    <tr style=\"text-align: right;\">\n      <th></th>\n      <th></th>\n      <th>bikeid</th>\n      <th>birth year</th>\n      <th>start station name</th>\n      <th>end station name</th>\n      <th>total # of male(1)/female(2) by birth year</th>\n    </tr>\n    <tr>\n      <th>usertype</th>\n      <th>gender</th>\n      <th></th>\n      <th></th>\n      <th></th>\n      <th></th>\n      <th></th>\n    </tr>\n  </thead>\n  <tbody>\n    <tr>\n      <th rowspan=\"11\" valign=\"top\">Customer</th>\n      <th>1</th>\n      <td>29268</td>\n      <td>1989</td>\n      <td>Grove St PATH</td>\n      <td>Brunswick &amp; 6th</td>\n      <td>2067</td>\n    </tr>\n    <tr>\n      <th>0</th>\n      <td>29278</td>\n      <td>1969</td>\n      <td>Sip Ave</td>\n      <td>Astor Place</td>\n      <td>2596</td>\n    </tr>\n    <tr>\n      <th>0</th>\n      <td>29120</td>\n      <td>1969</td>\n      <td>Columbus Dr at Exchange Pl</td>\n      <td>Washington St</td>\n      <td>2596</td>\n    </tr>\n    <tr>\n      <th>0</th>\n      <td>26182</td>\n      <td>1969</td>\n      <td>Columbus Dr at Exchange Pl</td>\n      <td>Washington St</td>\n      <td>2596</td>\n    </tr>\n    <tr>\n      <th>0</th>\n      <td>29601</td>\n      <td>1969</td>\n      <td>Columbus Dr at Exchange Pl</td>\n      <td>Washington St</td>\n      <td>2596</td>\n    </tr>\n    <tr>\n      <th>...</th>\n      <td>...</td>\n      <td>...</td>\n      <td>...</td>\n      <td>...</td>\n      <td>...</td>\n    </tr>\n    <tr>\n      <th>2</th>\n      <td>42180</td>\n      <td>2002</td>\n      <td>Fairmount Ave</td>\n      <td>Astor Place</td>\n      <td>957</td>\n    </tr>\n    <tr>\n      <th>0</th>\n      <td>15363</td>\n      <td>1969</td>\n      <td>Sip Ave</td>\n      <td>Bergen Ave</td>\n      <td>2596</td>\n    </tr>\n    <tr>\n      <th>2</th>\n      <td>42420</td>\n      <td>2002</td>\n      <td>Astor Place</td>\n      <td>Fairmount Ave</td>\n      <td>957</td>\n    </tr>\n    <tr>\n      <th>0</th>\n      <td>42136</td>\n      <td>1969</td>\n      <td>Sip Ave</td>\n      <td>Baldwin at Montgomery</td>\n      <td>2596</td>\n    </tr>\n    <tr>\n      <th>0</th>\n      <td>42617</td>\n      <td>1969</td>\n      <td>Manila &amp; 1st</td>\n      <td>Jackson Square</td>\n      <td>2596</td>\n    </tr>\n  </tbody>\n</table>\n<p>5620 rows × 5 columns</p>\n</div>"
     },
     "metadata": {},
     "execution_count": 22
    }
   ],
   "source": [
    "first_customer_df[\"total # of male(1)/female(2) by birth year\"] = first_customer_df.groupby(\"gender\")[\"birth year\"].transform(len)\n",
    "first_customer_df"
   ]
  },
  {
   "cell_type": "code",
   "execution_count": 23,
   "metadata": {},
   "outputs": [
    {
     "output_type": "stream",
     "name": "stderr",
     "text": [
      "ipykernel_launcher:1: SettingWithCopyWarning: \nA value is trying to be set on a copy of a slice from a DataFrame.\nTry using .loc[row_indexer,col_indexer] = value instead\n\nSee the caveats in the documentation: https://pandas.pydata.org/pandas-docs/stable/user_guide/indexing.html#returning-a-view-versus-a-copy\n"
     ]
    },
    {
     "output_type": "execute_result",
     "data": {
      "text/plain": [
       "                 bikeid  birth year          start station name  \\\n",
       "usertype gender                                                   \n",
       "Customer 1        29268        1989               Grove St PATH   \n",
       "         0        29278        1969                     Sip Ave   \n",
       "         0        29120        1969  Columbus Dr at Exchange Pl   \n",
       "         0        26182        1969  Columbus Dr at Exchange Pl   \n",
       "         0        29601        1969  Columbus Dr at Exchange Pl   \n",
       "...                 ...         ...                         ...   \n",
       "         2        42180        2002               Fairmount Ave   \n",
       "         0        15363        1969                     Sip Ave   \n",
       "         2        42420        2002                 Astor Place   \n",
       "         0        42136        1969                     Sip Ave   \n",
       "         0        42617        1969                Manila & 1st   \n",
       "\n",
       "                      end station name  \\\n",
       "usertype gender                          \n",
       "Customer 1             Brunswick & 6th   \n",
       "         0                 Astor Place   \n",
       "         0               Washington St   \n",
       "         0               Washington St   \n",
       "         0               Washington St   \n",
       "...                                ...   \n",
       "         2                 Astor Place   \n",
       "         0                  Bergen Ave   \n",
       "         2               Fairmount Ave   \n",
       "         0       Baldwin at Montgomery   \n",
       "         0              Jackson Square   \n",
       "\n",
       "                 total # of male(1)/female(2) by birth year  \\\n",
       "usertype gender                                               \n",
       "Customer 1                                             2067   \n",
       "         0                                             2596   \n",
       "         0                                             2596   \n",
       "         0                                             2596   \n",
       "         0                                             2596   \n",
       "...                                                     ...   \n",
       "         2                                              957   \n",
       "         0                                             2596   \n",
       "         2                                              957   \n",
       "         0                                             2596   \n",
       "         0                                             2596   \n",
       "\n",
       "                 bikeid count per start station  \n",
       "usertype gender                                  \n",
       "Customer 1                                  275  \n",
       "         0                                  180  \n",
       "         0                                  200  \n",
       "         0                                  200  \n",
       "         0                                  200  \n",
       "...                                         ...  \n",
       "         2                                  135  \n",
       "         0                                  180  \n",
       "         2                                   43  \n",
       "         0                                  180  \n",
       "         0                                   93  \n",
       "\n",
       "[5620 rows x 6 columns]"
      ],
      "text/html": "<div>\n<style scoped>\n    .dataframe tbody tr th:only-of-type {\n        vertical-align: middle;\n    }\n\n    .dataframe tbody tr th {\n        vertical-align: top;\n    }\n\n    .dataframe thead th {\n        text-align: right;\n    }\n</style>\n<table border=\"1\" class=\"dataframe\">\n  <thead>\n    <tr style=\"text-align: right;\">\n      <th></th>\n      <th></th>\n      <th>bikeid</th>\n      <th>birth year</th>\n      <th>start station name</th>\n      <th>end station name</th>\n      <th>total # of male(1)/female(2) by birth year</th>\n      <th>bikeid count per start station</th>\n    </tr>\n    <tr>\n      <th>usertype</th>\n      <th>gender</th>\n      <th></th>\n      <th></th>\n      <th></th>\n      <th></th>\n      <th></th>\n      <th></th>\n    </tr>\n  </thead>\n  <tbody>\n    <tr>\n      <th rowspan=\"11\" valign=\"top\">Customer</th>\n      <th>1</th>\n      <td>29268</td>\n      <td>1989</td>\n      <td>Grove St PATH</td>\n      <td>Brunswick &amp; 6th</td>\n      <td>2067</td>\n      <td>275</td>\n    </tr>\n    <tr>\n      <th>0</th>\n      <td>29278</td>\n      <td>1969</td>\n      <td>Sip Ave</td>\n      <td>Astor Place</td>\n      <td>2596</td>\n      <td>180</td>\n    </tr>\n    <tr>\n      <th>0</th>\n      <td>29120</td>\n      <td>1969</td>\n      <td>Columbus Dr at Exchange Pl</td>\n      <td>Washington St</td>\n      <td>2596</td>\n      <td>200</td>\n    </tr>\n    <tr>\n      <th>0</th>\n      <td>26182</td>\n      <td>1969</td>\n      <td>Columbus Dr at Exchange Pl</td>\n      <td>Washington St</td>\n      <td>2596</td>\n      <td>200</td>\n    </tr>\n    <tr>\n      <th>0</th>\n      <td>29601</td>\n      <td>1969</td>\n      <td>Columbus Dr at Exchange Pl</td>\n      <td>Washington St</td>\n      <td>2596</td>\n      <td>200</td>\n    </tr>\n    <tr>\n      <th>...</th>\n      <td>...</td>\n      <td>...</td>\n      <td>...</td>\n      <td>...</td>\n      <td>...</td>\n      <td>...</td>\n    </tr>\n    <tr>\n      <th>2</th>\n      <td>42180</td>\n      <td>2002</td>\n      <td>Fairmount Ave</td>\n      <td>Astor Place</td>\n      <td>957</td>\n      <td>135</td>\n    </tr>\n    <tr>\n      <th>0</th>\n      <td>15363</td>\n      <td>1969</td>\n      <td>Sip Ave</td>\n      <td>Bergen Ave</td>\n      <td>2596</td>\n      <td>180</td>\n    </tr>\n    <tr>\n      <th>2</th>\n      <td>42420</td>\n      <td>2002</td>\n      <td>Astor Place</td>\n      <td>Fairmount Ave</td>\n      <td>957</td>\n      <td>43</td>\n    </tr>\n    <tr>\n      <th>0</th>\n      <td>42136</td>\n      <td>1969</td>\n      <td>Sip Ave</td>\n      <td>Baldwin at Montgomery</td>\n      <td>2596</td>\n      <td>180</td>\n    </tr>\n    <tr>\n      <th>0</th>\n      <td>42617</td>\n      <td>1969</td>\n      <td>Manila &amp; 1st</td>\n      <td>Jackson Square</td>\n      <td>2596</td>\n      <td>93</td>\n    </tr>\n  </tbody>\n</table>\n<p>5620 rows × 6 columns</p>\n</div>"
     },
     "metadata": {},
     "execution_count": 23
    }
   ],
   "source": [
    "first_customer_df[\"bikeid count per start station\"] = first_customer_df.groupby(\"start station name\")[\"bikeid\"].transform(len)\n",
    "first_customer_df"
   ]
  },
  {
   "cell_type": "code",
   "execution_count": 24,
   "metadata": {},
   "outputs": [
    {
     "output_type": "stream",
     "name": "stderr",
     "text": [
      "ipykernel_launcher:1: SettingWithCopyWarning: \nA value is trying to be set on a copy of a slice from a DataFrame.\nTry using .loc[row_indexer,col_indexer] = value instead\n\nSee the caveats in the documentation: https://pandas.pydata.org/pandas-docs/stable/user_guide/indexing.html#returning-a-view-versus-a-copy\n"
     ]
    },
    {
     "output_type": "execute_result",
     "data": {
      "text/plain": [
       "                 bikeid  birth year          start station name  \\\n",
       "usertype gender                                                   \n",
       "Customer 1        29268        1989               Grove St PATH   \n",
       "         0        29278        1969                     Sip Ave   \n",
       "         0        29120        1969  Columbus Dr at Exchange Pl   \n",
       "         0        26182        1969  Columbus Dr at Exchange Pl   \n",
       "         0        29601        1969  Columbus Dr at Exchange Pl   \n",
       "...                 ...         ...                         ...   \n",
       "         2        42180        2002               Fairmount Ave   \n",
       "         0        15363        1969                     Sip Ave   \n",
       "         2        42420        2002                 Astor Place   \n",
       "         0        42136        1969                     Sip Ave   \n",
       "         0        42617        1969                Manila & 1st   \n",
       "\n",
       "                      end station name  \\\n",
       "usertype gender                          \n",
       "Customer 1             Brunswick & 6th   \n",
       "         0                 Astor Place   \n",
       "         0               Washington St   \n",
       "         0               Washington St   \n",
       "         0               Washington St   \n",
       "...                                ...   \n",
       "         2                 Astor Place   \n",
       "         0                  Bergen Ave   \n",
       "         2               Fairmount Ave   \n",
       "         0       Baldwin at Montgomery   \n",
       "         0              Jackson Square   \n",
       "\n",
       "                 total # of male(1)/female(2) by birth year  \\\n",
       "usertype gender                                               \n",
       "Customer 1                                             2067   \n",
       "         0                                             2596   \n",
       "         0                                             2596   \n",
       "         0                                             2596   \n",
       "         0                                             2596   \n",
       "...                                                     ...   \n",
       "         2                                              957   \n",
       "         0                                             2596   \n",
       "         2                                              957   \n",
       "         0                                             2596   \n",
       "         0                                             2596   \n",
       "\n",
       "                 bikeid count per start station  gender per start station  \n",
       "usertype gender                                                            \n",
       "Customer 1                                  275                      2067  \n",
       "         0                                  180                      2596  \n",
       "         0                                  200                      2596  \n",
       "         0                                  200                      2596  \n",
       "         0                                  200                      2596  \n",
       "...                                         ...                       ...  \n",
       "         2                                  135                       957  \n",
       "         0                                  180                      2596  \n",
       "         2                                   43                       957  \n",
       "         0                                  180                      2596  \n",
       "         0                                   93                      2596  \n",
       "\n",
       "[5620 rows x 7 columns]"
      ],
      "text/html": "<div>\n<style scoped>\n    .dataframe tbody tr th:only-of-type {\n        vertical-align: middle;\n    }\n\n    .dataframe tbody tr th {\n        vertical-align: top;\n    }\n\n    .dataframe thead th {\n        text-align: right;\n    }\n</style>\n<table border=\"1\" class=\"dataframe\">\n  <thead>\n    <tr style=\"text-align: right;\">\n      <th></th>\n      <th></th>\n      <th>bikeid</th>\n      <th>birth year</th>\n      <th>start station name</th>\n      <th>end station name</th>\n      <th>total # of male(1)/female(2) by birth year</th>\n      <th>bikeid count per start station</th>\n      <th>gender per start station</th>\n    </tr>\n    <tr>\n      <th>usertype</th>\n      <th>gender</th>\n      <th></th>\n      <th></th>\n      <th></th>\n      <th></th>\n      <th></th>\n      <th></th>\n      <th></th>\n    </tr>\n  </thead>\n  <tbody>\n    <tr>\n      <th rowspan=\"11\" valign=\"top\">Customer</th>\n      <th>1</th>\n      <td>29268</td>\n      <td>1989</td>\n      <td>Grove St PATH</td>\n      <td>Brunswick &amp; 6th</td>\n      <td>2067</td>\n      <td>275</td>\n      <td>2067</td>\n    </tr>\n    <tr>\n      <th>0</th>\n      <td>29278</td>\n      <td>1969</td>\n      <td>Sip Ave</td>\n      <td>Astor Place</td>\n      <td>2596</td>\n      <td>180</td>\n      <td>2596</td>\n    </tr>\n    <tr>\n      <th>0</th>\n      <td>29120</td>\n      <td>1969</td>\n      <td>Columbus Dr at Exchange Pl</td>\n      <td>Washington St</td>\n      <td>2596</td>\n      <td>200</td>\n      <td>2596</td>\n    </tr>\n    <tr>\n      <th>0</th>\n      <td>26182</td>\n      <td>1969</td>\n      <td>Columbus Dr at Exchange Pl</td>\n      <td>Washington St</td>\n      <td>2596</td>\n      <td>200</td>\n      <td>2596</td>\n    </tr>\n    <tr>\n      <th>0</th>\n      <td>29601</td>\n      <td>1969</td>\n      <td>Columbus Dr at Exchange Pl</td>\n      <td>Washington St</td>\n      <td>2596</td>\n      <td>200</td>\n      <td>2596</td>\n    </tr>\n    <tr>\n      <th>...</th>\n      <td>...</td>\n      <td>...</td>\n      <td>...</td>\n      <td>...</td>\n      <td>...</td>\n      <td>...</td>\n      <td>...</td>\n    </tr>\n    <tr>\n      <th>2</th>\n      <td>42180</td>\n      <td>2002</td>\n      <td>Fairmount Ave</td>\n      <td>Astor Place</td>\n      <td>957</td>\n      <td>135</td>\n      <td>957</td>\n    </tr>\n    <tr>\n      <th>0</th>\n      <td>15363</td>\n      <td>1969</td>\n      <td>Sip Ave</td>\n      <td>Bergen Ave</td>\n      <td>2596</td>\n      <td>180</td>\n      <td>2596</td>\n    </tr>\n    <tr>\n      <th>2</th>\n      <td>42420</td>\n      <td>2002</td>\n      <td>Astor Place</td>\n      <td>Fairmount Ave</td>\n      <td>957</td>\n      <td>43</td>\n      <td>957</td>\n    </tr>\n    <tr>\n      <th>0</th>\n      <td>42136</td>\n      <td>1969</td>\n      <td>Sip Ave</td>\n      <td>Baldwin at Montgomery</td>\n      <td>2596</td>\n      <td>180</td>\n      <td>2596</td>\n    </tr>\n    <tr>\n      <th>0</th>\n      <td>42617</td>\n      <td>1969</td>\n      <td>Manila &amp; 1st</td>\n      <td>Jackson Square</td>\n      <td>2596</td>\n      <td>93</td>\n      <td>2596</td>\n    </tr>\n  </tbody>\n</table>\n<p>5620 rows × 7 columns</p>\n</div>"
     },
     "metadata": {},
     "execution_count": 24
    }
   ],
   "source": [
    "first_customer_df[\"gender per start station\"] = first_customer_df.groupby(\"gender\")[\"start station name\"].transform(len)\n",
    "first_customer_df"
   ]
  },
  {
   "cell_type": "code",
   "execution_count": 25,
   "metadata": {},
   "outputs": [
    {
     "output_type": "execute_result",
     "data": {
      "text/plain": [
       "                 bikeid  birth year          start station name  \\\n",
       "usertype gender                                                   \n",
       "Customer 1        29268        1989               Grove St PATH   \n",
       "         0        29278        1969                     Sip Ave   \n",
       "         0        29120        1969  Columbus Dr at Exchange Pl   \n",
       "         0        26182        1969  Columbus Dr at Exchange Pl   \n",
       "         0        29601        1969  Columbus Dr at Exchange Pl   \n",
       "...                 ...         ...                         ...   \n",
       "         1        21656        1989                     Sip Ave   \n",
       "         2        42624        1991            Marin Light Rail   \n",
       "         0        35358        1969     Communipaw & Berry Lane   \n",
       "         0        42372        1969               Washington St   \n",
       "         1        42615        1993                Glenwood Ave   \n",
       "\n",
       "                        end station name  \\\n",
       "usertype gender                            \n",
       "Customer 1               Brunswick & 6th   \n",
       "         0                   Astor Place   \n",
       "         0                 Washington St   \n",
       "         0                 Washington St   \n",
       "         0                 Washington St   \n",
       "...                                  ...   \n",
       "         1                   Astor Place   \n",
       "         2                       Hilltop   \n",
       "         0       Communipaw & Berry Lane   \n",
       "         0                 Washington St   \n",
       "         1                Van Vorst Park   \n",
       "\n",
       "                 total # of male(1)/female(2) by birth year  \\\n",
       "usertype gender                                               \n",
       "Customer 1                                             2067   \n",
       "         0                                             2596   \n",
       "         0                                             2596   \n",
       "         0                                             2596   \n",
       "         0                                             2596   \n",
       "...                                                     ...   \n",
       "         1                                             2067   \n",
       "         2                                              957   \n",
       "         0                                             2596   \n",
       "         0                                             2596   \n",
       "         1                                             2067   \n",
       "\n",
       "                 bikeid count per start station  gender per start station  \n",
       "usertype gender                                                            \n",
       "Customer 1                                  275                      2067  \n",
       "         0                                  180                      2596  \n",
       "         0                                  200                      2596  \n",
       "         0                                  200                      2596  \n",
       "         0                                  200                      2596  \n",
       "...                                         ...                       ...  \n",
       "         1                                  180                      2067  \n",
       "         2                                  319                       957  \n",
       "         0                                   50                      2596  \n",
       "         0                                  205                      2596  \n",
       "         1                                   33                      2067  \n",
       "\n",
       "[958 rows x 7 columns]"
      ],
      "text/html": "<div>\n<style scoped>\n    .dataframe tbody tr th:only-of-type {\n        vertical-align: middle;\n    }\n\n    .dataframe tbody tr th {\n        vertical-align: top;\n    }\n\n    .dataframe thead th {\n        text-align: right;\n    }\n</style>\n<table border=\"1\" class=\"dataframe\">\n  <thead>\n    <tr style=\"text-align: right;\">\n      <th></th>\n      <th></th>\n      <th>bikeid</th>\n      <th>birth year</th>\n      <th>start station name</th>\n      <th>end station name</th>\n      <th>total # of male(1)/female(2) by birth year</th>\n      <th>bikeid count per start station</th>\n      <th>gender per start station</th>\n    </tr>\n    <tr>\n      <th>usertype</th>\n      <th>gender</th>\n      <th></th>\n      <th></th>\n      <th></th>\n      <th></th>\n      <th></th>\n      <th></th>\n      <th></th>\n    </tr>\n  </thead>\n  <tbody>\n    <tr>\n      <th rowspan=\"11\" valign=\"top\">Customer</th>\n      <th>1</th>\n      <td>29268</td>\n      <td>1989</td>\n      <td>Grove St PATH</td>\n      <td>Brunswick &amp; 6th</td>\n      <td>2067</td>\n      <td>275</td>\n      <td>2067</td>\n    </tr>\n    <tr>\n      <th>0</th>\n      <td>29278</td>\n      <td>1969</td>\n      <td>Sip Ave</td>\n      <td>Astor Place</td>\n      <td>2596</td>\n      <td>180</td>\n      <td>2596</td>\n    </tr>\n    <tr>\n      <th>0</th>\n      <td>29120</td>\n      <td>1969</td>\n      <td>Columbus Dr at Exchange Pl</td>\n      <td>Washington St</td>\n      <td>2596</td>\n      <td>200</td>\n      <td>2596</td>\n    </tr>\n    <tr>\n      <th>0</th>\n      <td>26182</td>\n      <td>1969</td>\n      <td>Columbus Dr at Exchange Pl</td>\n      <td>Washington St</td>\n      <td>2596</td>\n      <td>200</td>\n      <td>2596</td>\n    </tr>\n    <tr>\n      <th>0</th>\n      <td>29601</td>\n      <td>1969</td>\n      <td>Columbus Dr at Exchange Pl</td>\n      <td>Washington St</td>\n      <td>2596</td>\n      <td>200</td>\n      <td>2596</td>\n    </tr>\n    <tr>\n      <th>...</th>\n      <td>...</td>\n      <td>...</td>\n      <td>...</td>\n      <td>...</td>\n      <td>...</td>\n      <td>...</td>\n      <td>...</td>\n    </tr>\n    <tr>\n      <th>1</th>\n      <td>21656</td>\n      <td>1989</td>\n      <td>Sip Ave</td>\n      <td>Astor Place</td>\n      <td>2067</td>\n      <td>180</td>\n      <td>2067</td>\n    </tr>\n    <tr>\n      <th>2</th>\n      <td>42624</td>\n      <td>1991</td>\n      <td>Marin Light Rail</td>\n      <td>Hilltop</td>\n      <td>957</td>\n      <td>319</td>\n      <td>957</td>\n    </tr>\n    <tr>\n      <th>0</th>\n      <td>35358</td>\n      <td>1969</td>\n      <td>Communipaw &amp; Berry Lane</td>\n      <td>Communipaw &amp; Berry Lane</td>\n      <td>2596</td>\n      <td>50</td>\n      <td>2596</td>\n    </tr>\n    <tr>\n      <th>0</th>\n      <td>42372</td>\n      <td>1969</td>\n      <td>Washington St</td>\n      <td>Washington St</td>\n      <td>2596</td>\n      <td>205</td>\n      <td>2596</td>\n    </tr>\n    <tr>\n      <th>1</th>\n      <td>42615</td>\n      <td>1993</td>\n      <td>Glenwood Ave</td>\n      <td>Van Vorst Park</td>\n      <td>2067</td>\n      <td>33</td>\n      <td>2067</td>\n    </tr>\n  </tbody>\n</table>\n<p>958 rows × 7 columns</p>\n</div>"
     },
     "metadata": {},
     "execution_count": 25
    }
   ],
   "source": [
    "first_bikeid_customer_df = first_customer_df.drop_duplicates(subset=['bikeid'])\n",
    "first_bikeid_customer_df"
   ]
  },
  {
   "cell_type": "code",
   "execution_count": 26,
   "metadata": {},
   "outputs": [
    {
     "output_type": "execute_result",
     "data": {
      "text/plain": [
       "                 bikeid  birth year start station name  \\\n",
       "usertype gender                                          \n",
       "Customer 1        29268        1989      Grove St PATH   \n",
       "         1        26219        1992         Harborside   \n",
       "         1        26238        1985          City Hall   \n",
       "         1        29264        1989            Sip Ave   \n",
       "         1        26270        1989        Dixon Mills   \n",
       "...                 ...         ...                ...   \n",
       "         1        40790        1987   Marin Light Rail   \n",
       "         1        42456        1983       Newport PATH   \n",
       "         1        33887        1991     Pershing Field   \n",
       "         1        21656        1989            Sip Ave   \n",
       "         1        42615        1993       Glenwood Ave   \n",
       "\n",
       "                           end station name  bikeid count per start station  \n",
       "usertype gender                                                              \n",
       "Customer 1                  Brunswick & 6th                             275  \n",
       "         1                     Jersey & 3rd                             228  \n",
       "         1                   Lafayette Park                             138  \n",
       "         1                  McGinley Square                             180  \n",
       "         1                         Grand St                              66  \n",
       "...                                     ...                             ...  \n",
       "         1       Columbus Dr at Exchange Pl                             319  \n",
       "         1                     Newport PATH                             217  \n",
       "         1                   Pershing Field                              77  \n",
       "         1                      Astor Place                             180  \n",
       "         1                   Van Vorst Park                              33  \n",
       "\n",
       "[390 rows x 5 columns]"
      ],
      "text/html": "<div>\n<style scoped>\n    .dataframe tbody tr th:only-of-type {\n        vertical-align: middle;\n    }\n\n    .dataframe tbody tr th {\n        vertical-align: top;\n    }\n\n    .dataframe thead th {\n        text-align: right;\n    }\n</style>\n<table border=\"1\" class=\"dataframe\">\n  <thead>\n    <tr style=\"text-align: right;\">\n      <th></th>\n      <th></th>\n      <th>bikeid</th>\n      <th>birth year</th>\n      <th>start station name</th>\n      <th>end station name</th>\n      <th>bikeid count per start station</th>\n    </tr>\n    <tr>\n      <th>usertype</th>\n      <th>gender</th>\n      <th></th>\n      <th></th>\n      <th></th>\n      <th></th>\n      <th></th>\n    </tr>\n  </thead>\n  <tbody>\n    <tr>\n      <th rowspan=\"11\" valign=\"top\">Customer</th>\n      <th>1</th>\n      <td>29268</td>\n      <td>1989</td>\n      <td>Grove St PATH</td>\n      <td>Brunswick &amp; 6th</td>\n      <td>275</td>\n    </tr>\n    <tr>\n      <th>1</th>\n      <td>26219</td>\n      <td>1992</td>\n      <td>Harborside</td>\n      <td>Jersey &amp; 3rd</td>\n      <td>228</td>\n    </tr>\n    <tr>\n      <th>1</th>\n      <td>26238</td>\n      <td>1985</td>\n      <td>City Hall</td>\n      <td>Lafayette Park</td>\n      <td>138</td>\n    </tr>\n    <tr>\n      <th>1</th>\n      <td>29264</td>\n      <td>1989</td>\n      <td>Sip Ave</td>\n      <td>McGinley Square</td>\n      <td>180</td>\n    </tr>\n    <tr>\n      <th>1</th>\n      <td>26270</td>\n      <td>1989</td>\n      <td>Dixon Mills</td>\n      <td>Grand St</td>\n      <td>66</td>\n    </tr>\n    <tr>\n      <th>...</th>\n      <td>...</td>\n      <td>...</td>\n      <td>...</td>\n      <td>...</td>\n      <td>...</td>\n    </tr>\n    <tr>\n      <th>1</th>\n      <td>40790</td>\n      <td>1987</td>\n      <td>Marin Light Rail</td>\n      <td>Columbus Dr at Exchange Pl</td>\n      <td>319</td>\n    </tr>\n    <tr>\n      <th>1</th>\n      <td>42456</td>\n      <td>1983</td>\n      <td>Newport PATH</td>\n      <td>Newport PATH</td>\n      <td>217</td>\n    </tr>\n    <tr>\n      <th>1</th>\n      <td>33887</td>\n      <td>1991</td>\n      <td>Pershing Field</td>\n      <td>Pershing Field</td>\n      <td>77</td>\n    </tr>\n    <tr>\n      <th>1</th>\n      <td>21656</td>\n      <td>1989</td>\n      <td>Sip Ave</td>\n      <td>Astor Place</td>\n      <td>180</td>\n    </tr>\n    <tr>\n      <th>1</th>\n      <td>42615</td>\n      <td>1993</td>\n      <td>Glenwood Ave</td>\n      <td>Van Vorst Park</td>\n      <td>33</td>\n    </tr>\n  </tbody>\n</table>\n<p>390 rows × 5 columns</p>\n</div>"
     },
     "metadata": {},
     "execution_count": 26
    }
   ],
   "source": [
    "first_male_customer_df = first_bikeid_customer_df.drop(index=['0', '2'], level=1)\n",
    "first_male_customer_df = first_male_customer_df.drop(columns=['total # of male(1)/female(2) by birth year', 'gender per start station'])\n",
    "first_male_customer_df"
   ]
  },
  {
   "cell_type": "code",
   "execution_count": null,
   "metadata": {},
   "outputs": [],
   "source": [
    "first_male_customer_df.to_csv(\"first_qtr_male_customer.csv\", index=False)"
   ]
  },
  {
   "cell_type": "code",
   "execution_count": 27,
   "metadata": {},
   "outputs": [
    {
     "output_type": "execute_result",
     "data": {
      "text/plain": [
       "                 bikeid  birth year start station name    end station name  \\\n",
       "usertype gender                                                              \n",
       "Customer 2        26250        1990     Columbus Drive        Newport Pkwy   \n",
       "         2        29228        1993     Van Vorst Park     Jersey & 6th St   \n",
       "         2        29548        1991        Dixon Mills            Grand St   \n",
       "         2        29581        1992  JC Medical Center       Hamilton Park   \n",
       "         2        26314        1987      Grove St PATH      Lafayette Park   \n",
       "...                 ...         ...                ...                 ...   \n",
       "         2        33070        2001       Manila & 1st        Manila & 1st   \n",
       "         2        27705        1993          Warren St  Liberty Light Rail   \n",
       "         2        39059        1990       Brunswick St    Marin Light Rail   \n",
       "         2        40517        1982      Fairmount Ave        Lincoln Park   \n",
       "         2        42624        1991   Marin Light Rail             Hilltop   \n",
       "\n",
       "                 bikeid count per start station  \n",
       "usertype gender                                  \n",
       "Customer 2                                  137  \n",
       "         2                                   99  \n",
       "         2                                   66  \n",
       "         2                                  167  \n",
       "         2                                  275  \n",
       "...                                         ...  \n",
       "         2                                   93  \n",
       "         2                                  129  \n",
       "         2                                   87  \n",
       "         2                                  135  \n",
       "         2                                  319  \n",
       "\n",
       "[148 rows x 5 columns]"
      ],
      "text/html": "<div>\n<style scoped>\n    .dataframe tbody tr th:only-of-type {\n        vertical-align: middle;\n    }\n\n    .dataframe tbody tr th {\n        vertical-align: top;\n    }\n\n    .dataframe thead th {\n        text-align: right;\n    }\n</style>\n<table border=\"1\" class=\"dataframe\">\n  <thead>\n    <tr style=\"text-align: right;\">\n      <th></th>\n      <th></th>\n      <th>bikeid</th>\n      <th>birth year</th>\n      <th>start station name</th>\n      <th>end station name</th>\n      <th>bikeid count per start station</th>\n    </tr>\n    <tr>\n      <th>usertype</th>\n      <th>gender</th>\n      <th></th>\n      <th></th>\n      <th></th>\n      <th></th>\n      <th></th>\n    </tr>\n  </thead>\n  <tbody>\n    <tr>\n      <th rowspan=\"11\" valign=\"top\">Customer</th>\n      <th>2</th>\n      <td>26250</td>\n      <td>1990</td>\n      <td>Columbus Drive</td>\n      <td>Newport Pkwy</td>\n      <td>137</td>\n    </tr>\n    <tr>\n      <th>2</th>\n      <td>29228</td>\n      <td>1993</td>\n      <td>Van Vorst Park</td>\n      <td>Jersey &amp; 6th St</td>\n      <td>99</td>\n    </tr>\n    <tr>\n      <th>2</th>\n      <td>29548</td>\n      <td>1991</td>\n      <td>Dixon Mills</td>\n      <td>Grand St</td>\n      <td>66</td>\n    </tr>\n    <tr>\n      <th>2</th>\n      <td>29581</td>\n      <td>1992</td>\n      <td>JC Medical Center</td>\n      <td>Hamilton Park</td>\n      <td>167</td>\n    </tr>\n    <tr>\n      <th>2</th>\n      <td>26314</td>\n      <td>1987</td>\n      <td>Grove St PATH</td>\n      <td>Lafayette Park</td>\n      <td>275</td>\n    </tr>\n    <tr>\n      <th>...</th>\n      <td>...</td>\n      <td>...</td>\n      <td>...</td>\n      <td>...</td>\n      <td>...</td>\n    </tr>\n    <tr>\n      <th>2</th>\n      <td>33070</td>\n      <td>2001</td>\n      <td>Manila &amp; 1st</td>\n      <td>Manila &amp; 1st</td>\n      <td>93</td>\n    </tr>\n    <tr>\n      <th>2</th>\n      <td>27705</td>\n      <td>1993</td>\n      <td>Warren St</td>\n      <td>Liberty Light Rail</td>\n      <td>129</td>\n    </tr>\n    <tr>\n      <th>2</th>\n      <td>39059</td>\n      <td>1990</td>\n      <td>Brunswick St</td>\n      <td>Marin Light Rail</td>\n      <td>87</td>\n    </tr>\n    <tr>\n      <th>2</th>\n      <td>40517</td>\n      <td>1982</td>\n      <td>Fairmount Ave</td>\n      <td>Lincoln Park</td>\n      <td>135</td>\n    </tr>\n    <tr>\n      <th>2</th>\n      <td>42624</td>\n      <td>1991</td>\n      <td>Marin Light Rail</td>\n      <td>Hilltop</td>\n      <td>319</td>\n    </tr>\n  </tbody>\n</table>\n<p>148 rows × 5 columns</p>\n</div>"
     },
     "metadata": {},
     "execution_count": 27
    }
   ],
   "source": [
    "first_female_customer_df = first_bikeid_customer_df.drop(index=['0', '1'], level=1)\n",
    "first_female_customer_df = first_female_customer_df.drop(columns=['total # of male(1)/female(2) by birth year', 'gender per start station'])\n",
    "first_female_customer_df"
   ]
  },
  {
   "cell_type": "code",
   "execution_count": null,
   "metadata": {},
   "outputs": [],
   "source": [
    "first_female_customer_df.to_csv(\"first_qtr_female_customer.csv\", index=False)"
   ]
  },
  {
   "cell_type": "code",
   "execution_count": 28,
   "metadata": {},
   "outputs": [
    {
     "output_type": "execute_result",
     "data": {
      "text/plain": [
       "                 bikeid  birth year          start station name  \\\n",
       "usertype gender                                                   \n",
       "Customer 0        29278        1969                     Sip Ave   \n",
       "         0        29120        1969  Columbus Dr at Exchange Pl   \n",
       "         0        26182        1969  Columbus Dr at Exchange Pl   \n",
       "         0        29601        1969  Columbus Dr at Exchange Pl   \n",
       "         0        26268        1969  Columbus Dr at Exchange Pl   \n",
       "...                 ...         ...                         ...   \n",
       "         0        15363        1969               Fairmount Ave   \n",
       "         0        38937        1969                     Sip Ave   \n",
       "         0        19999        1969                     Hilltop   \n",
       "         0        35358        1969     Communipaw & Berry Lane   \n",
       "         0        42372        1969               Washington St   \n",
       "\n",
       "                        end station name  bikeid count per start station  \n",
       "usertype gender                                                           \n",
       "Customer 0                   Astor Place                             180  \n",
       "         0                 Washington St                             200  \n",
       "         0                 Washington St                             200  \n",
       "         0                 Washington St                             200  \n",
       "         0                 Washington St                             200  \n",
       "...                                  ...                             ...  \n",
       "         0                 Fairmount Ave                             135  \n",
       "         0                   Astor Place                             180  \n",
       "         0                       Hilltop                              60  \n",
       "         0       Communipaw & Berry Lane                              50  \n",
       "         0                 Washington St                             205  \n",
       "\n",
       "[420 rows x 5 columns]"
      ],
      "text/html": "<div>\n<style scoped>\n    .dataframe tbody tr th:only-of-type {\n        vertical-align: middle;\n    }\n\n    .dataframe tbody tr th {\n        vertical-align: top;\n    }\n\n    .dataframe thead th {\n        text-align: right;\n    }\n</style>\n<table border=\"1\" class=\"dataframe\">\n  <thead>\n    <tr style=\"text-align: right;\">\n      <th></th>\n      <th></th>\n      <th>bikeid</th>\n      <th>birth year</th>\n      <th>start station name</th>\n      <th>end station name</th>\n      <th>bikeid count per start station</th>\n    </tr>\n    <tr>\n      <th>usertype</th>\n      <th>gender</th>\n      <th></th>\n      <th></th>\n      <th></th>\n      <th></th>\n      <th></th>\n    </tr>\n  </thead>\n  <tbody>\n    <tr>\n      <th rowspan=\"11\" valign=\"top\">Customer</th>\n      <th>0</th>\n      <td>29278</td>\n      <td>1969</td>\n      <td>Sip Ave</td>\n      <td>Astor Place</td>\n      <td>180</td>\n    </tr>\n    <tr>\n      <th>0</th>\n      <td>29120</td>\n      <td>1969</td>\n      <td>Columbus Dr at Exchange Pl</td>\n      <td>Washington St</td>\n      <td>200</td>\n    </tr>\n    <tr>\n      <th>0</th>\n      <td>26182</td>\n      <td>1969</td>\n      <td>Columbus Dr at Exchange Pl</td>\n      <td>Washington St</td>\n      <td>200</td>\n    </tr>\n    <tr>\n      <th>0</th>\n      <td>29601</td>\n      <td>1969</td>\n      <td>Columbus Dr at Exchange Pl</td>\n      <td>Washington St</td>\n      <td>200</td>\n    </tr>\n    <tr>\n      <th>0</th>\n      <td>26268</td>\n      <td>1969</td>\n      <td>Columbus Dr at Exchange Pl</td>\n      <td>Washington St</td>\n      <td>200</td>\n    </tr>\n    <tr>\n      <th>...</th>\n      <td>...</td>\n      <td>...</td>\n      <td>...</td>\n      <td>...</td>\n      <td>...</td>\n    </tr>\n    <tr>\n      <th>0</th>\n      <td>15363</td>\n      <td>1969</td>\n      <td>Fairmount Ave</td>\n      <td>Fairmount Ave</td>\n      <td>135</td>\n    </tr>\n    <tr>\n      <th>0</th>\n      <td>38937</td>\n      <td>1969</td>\n      <td>Sip Ave</td>\n      <td>Astor Place</td>\n      <td>180</td>\n    </tr>\n    <tr>\n      <th>0</th>\n      <td>19999</td>\n      <td>1969</td>\n      <td>Hilltop</td>\n      <td>Hilltop</td>\n      <td>60</td>\n    </tr>\n    <tr>\n      <th>0</th>\n      <td>35358</td>\n      <td>1969</td>\n      <td>Communipaw &amp; Berry Lane</td>\n      <td>Communipaw &amp; Berry Lane</td>\n      <td>50</td>\n    </tr>\n    <tr>\n      <th>0</th>\n      <td>42372</td>\n      <td>1969</td>\n      <td>Washington St</td>\n      <td>Washington St</td>\n      <td>205</td>\n    </tr>\n  </tbody>\n</table>\n<p>420 rows × 5 columns</p>\n</div>"
     },
     "metadata": {},
     "execution_count": 28
    }
   ],
   "source": [
    "first_unknown_customer_df = first_bikeid_customer_df.drop(index=['2', '1'], level=1)\n",
    "first_unknown_customer_df = first_unknown_customer_df.drop(columns=['total # of male(1)/female(2) by birth year', 'gender per start station'])\n",
    "first_unknown_customer_df"
   ]
  },
  {
   "cell_type": "code",
   "execution_count": null,
   "metadata": {},
   "outputs": [],
   "source": [
    "first_unknown_customer_df.to_csv(\"first_qtr_unknown_customer.csv\", index=False)"
   ]
  },
  {
   "cell_type": "code",
   "execution_count": 29,
   "metadata": {},
   "outputs": [
    {
     "output_type": "stream",
     "name": "stderr",
     "text": [
      "ipykernel_launcher:1: SettingWithCopyWarning: \nA value is trying to be set on a copy of a slice from a DataFrame.\nTry using .loc[row_indexer,col_indexer] = value instead\n\nSee the caveats in the documentation: https://pandas.pydata.org/pandas-docs/stable/user_guide/indexing.html#returning-a-view-versus-a-copy\n"
     ]
    },
    {
     "output_type": "execute_result",
     "data": {
      "text/plain": [
       "                   bikeid  birth year start station name  end station name  \\\n",
       "usertype   gender                                                            \n",
       "Subscriber 2        29444        1984      Grove St PATH        Newark Ave   \n",
       "           2        26305        1989      Grove St PATH   Brunswick & 6th   \n",
       "           2        29276        1983      Grove St PATH  Marin Light Rail   \n",
       "           1        26261        1990       Newport Pkwy        Harborside   \n",
       "           1        29467        1976      Grove St PATH       Astor Place   \n",
       "...                   ...         ...                ...               ...   \n",
       "           1        42145        1994           Union St    Jackson Square   \n",
       "           1        42110        1991     Journal Square           Hilltop   \n",
       "           1        42550        1986            Sip Ave        Bergen Ave   \n",
       "           1        42115        1986       Morris Canal  Marin Light Rail   \n",
       "           1        42362        1965            Sip Ave      Lincoln Park   \n",
       "\n",
       "                   bikeid count per start station  \n",
       "usertype   gender                                  \n",
       "Subscriber 2                                 6488  \n",
       "           2                                 6488  \n",
       "           2                                 6488  \n",
       "           1                                 1671  \n",
       "           1                                 6488  \n",
       "...                                           ...  \n",
       "           1                                  163  \n",
       "           1                                  957  \n",
       "           1                                 3603  \n",
       "           1                                 1342  \n",
       "           1                                 3603  \n",
       "\n",
       "[61081 rows x 5 columns]"
      ],
      "text/html": "<div>\n<style scoped>\n    .dataframe tbody tr th:only-of-type {\n        vertical-align: middle;\n    }\n\n    .dataframe tbody tr th {\n        vertical-align: top;\n    }\n\n    .dataframe thead th {\n        text-align: right;\n    }\n</style>\n<table border=\"1\" class=\"dataframe\">\n  <thead>\n    <tr style=\"text-align: right;\">\n      <th></th>\n      <th></th>\n      <th>bikeid</th>\n      <th>birth year</th>\n      <th>start station name</th>\n      <th>end station name</th>\n      <th>bikeid count per start station</th>\n    </tr>\n    <tr>\n      <th>usertype</th>\n      <th>gender</th>\n      <th></th>\n      <th></th>\n      <th></th>\n      <th></th>\n      <th></th>\n    </tr>\n  </thead>\n  <tbody>\n    <tr>\n      <th rowspan=\"11\" valign=\"top\">Subscriber</th>\n      <th>2</th>\n      <td>29444</td>\n      <td>1984</td>\n      <td>Grove St PATH</td>\n      <td>Newark Ave</td>\n      <td>6488</td>\n    </tr>\n    <tr>\n      <th>2</th>\n      <td>26305</td>\n      <td>1989</td>\n      <td>Grove St PATH</td>\n      <td>Brunswick &amp; 6th</td>\n      <td>6488</td>\n    </tr>\n    <tr>\n      <th>2</th>\n      <td>29276</td>\n      <td>1983</td>\n      <td>Grove St PATH</td>\n      <td>Marin Light Rail</td>\n      <td>6488</td>\n    </tr>\n    <tr>\n      <th>1</th>\n      <td>26261</td>\n      <td>1990</td>\n      <td>Newport Pkwy</td>\n      <td>Harborside</td>\n      <td>1671</td>\n    </tr>\n    <tr>\n      <th>1</th>\n      <td>29467</td>\n      <td>1976</td>\n      <td>Grove St PATH</td>\n      <td>Astor Place</td>\n      <td>6488</td>\n    </tr>\n    <tr>\n      <th>...</th>\n      <td>...</td>\n      <td>...</td>\n      <td>...</td>\n      <td>...</td>\n      <td>...</td>\n    </tr>\n    <tr>\n      <th>1</th>\n      <td>42145</td>\n      <td>1994</td>\n      <td>Union St</td>\n      <td>Jackson Square</td>\n      <td>163</td>\n    </tr>\n    <tr>\n      <th>1</th>\n      <td>42110</td>\n      <td>1991</td>\n      <td>Journal Square</td>\n      <td>Hilltop</td>\n      <td>957</td>\n    </tr>\n    <tr>\n      <th>1</th>\n      <td>42550</td>\n      <td>1986</td>\n      <td>Sip Ave</td>\n      <td>Bergen Ave</td>\n      <td>3603</td>\n    </tr>\n    <tr>\n      <th>1</th>\n      <td>42115</td>\n      <td>1986</td>\n      <td>Morris Canal</td>\n      <td>Marin Light Rail</td>\n      <td>1342</td>\n    </tr>\n    <tr>\n      <th>1</th>\n      <td>42362</td>\n      <td>1965</td>\n      <td>Sip Ave</td>\n      <td>Lincoln Park</td>\n      <td>3603</td>\n    </tr>\n  </tbody>\n</table>\n<p>61081 rows × 5 columns</p>\n</div>"
     },
     "metadata": {},
     "execution_count": 29
    }
   ],
   "source": [
    "first_subscriber_df[\"bikeid count per start station\"] = first_subscriber_df.groupby(\"start station name\")[\"bikeid\"].transform(len)\n",
    "first_subscriber_df"
   ]
  },
  {
   "cell_type": "code",
   "execution_count": 30,
   "metadata": {},
   "outputs": [
    {
     "output_type": "execute_result",
     "data": {
      "text/plain": [
       "                   bikeid  birth year start station name  \\\n",
       "usertype   gender                                          \n",
       "Subscriber 2        29444        1984      Grove St PATH   \n",
       "           2        26305        1989      Grove St PATH   \n",
       "           2        29276        1983      Grove St PATH   \n",
       "           1        26261        1990       Newport Pkwy   \n",
       "           1        29467        1976      Grove St PATH   \n",
       "...                   ...         ...                ...   \n",
       "           1        38937        1987        Astor Place   \n",
       "           2        35358        2001            Sip Ave   \n",
       "           1        19265        1987     Pershing Field   \n",
       "           1        20823        1990       Brunswick St   \n",
       "           2        21656        1995        Astor Place   \n",
       "\n",
       "                          end station name  bikeid count per start station  \n",
       "usertype   gender                                                           \n",
       "Subscriber 2                    Newark Ave                            6488  \n",
       "           2               Brunswick & 6th                            6488  \n",
       "           2              Marin Light Rail                            6488  \n",
       "           1                    Harborside                            1671  \n",
       "           1                   Astor Place                            6488  \n",
       "...                                    ...                             ...  \n",
       "           1                   Astor Place                             749  \n",
       "           2       Communipaw & Berry Lane                            3603  \n",
       "           1                Journal Square                             552  \n",
       "           1                    Newark Ave                            1271  \n",
       "           2                   Astor Place                             749  \n",
       "\n",
       "[1018 rows x 5 columns]"
      ],
      "text/html": "<div>\n<style scoped>\n    .dataframe tbody tr th:only-of-type {\n        vertical-align: middle;\n    }\n\n    .dataframe tbody tr th {\n        vertical-align: top;\n    }\n\n    .dataframe thead th {\n        text-align: right;\n    }\n</style>\n<table border=\"1\" class=\"dataframe\">\n  <thead>\n    <tr style=\"text-align: right;\">\n      <th></th>\n      <th></th>\n      <th>bikeid</th>\n      <th>birth year</th>\n      <th>start station name</th>\n      <th>end station name</th>\n      <th>bikeid count per start station</th>\n    </tr>\n    <tr>\n      <th>usertype</th>\n      <th>gender</th>\n      <th></th>\n      <th></th>\n      <th></th>\n      <th></th>\n      <th></th>\n    </tr>\n  </thead>\n  <tbody>\n    <tr>\n      <th rowspan=\"11\" valign=\"top\">Subscriber</th>\n      <th>2</th>\n      <td>29444</td>\n      <td>1984</td>\n      <td>Grove St PATH</td>\n      <td>Newark Ave</td>\n      <td>6488</td>\n    </tr>\n    <tr>\n      <th>2</th>\n      <td>26305</td>\n      <td>1989</td>\n      <td>Grove St PATH</td>\n      <td>Brunswick &amp; 6th</td>\n      <td>6488</td>\n    </tr>\n    <tr>\n      <th>2</th>\n      <td>29276</td>\n      <td>1983</td>\n      <td>Grove St PATH</td>\n      <td>Marin Light Rail</td>\n      <td>6488</td>\n    </tr>\n    <tr>\n      <th>1</th>\n      <td>26261</td>\n      <td>1990</td>\n      <td>Newport Pkwy</td>\n      <td>Harborside</td>\n      <td>1671</td>\n    </tr>\n    <tr>\n      <th>1</th>\n      <td>29467</td>\n      <td>1976</td>\n      <td>Grove St PATH</td>\n      <td>Astor Place</td>\n      <td>6488</td>\n    </tr>\n    <tr>\n      <th>...</th>\n      <td>...</td>\n      <td>...</td>\n      <td>...</td>\n      <td>...</td>\n      <td>...</td>\n    </tr>\n    <tr>\n      <th>1</th>\n      <td>38937</td>\n      <td>1987</td>\n      <td>Astor Place</td>\n      <td>Astor Place</td>\n      <td>749</td>\n    </tr>\n    <tr>\n      <th>2</th>\n      <td>35358</td>\n      <td>2001</td>\n      <td>Sip Ave</td>\n      <td>Communipaw &amp; Berry Lane</td>\n      <td>3603</td>\n    </tr>\n    <tr>\n      <th>1</th>\n      <td>19265</td>\n      <td>1987</td>\n      <td>Pershing Field</td>\n      <td>Journal Square</td>\n      <td>552</td>\n    </tr>\n    <tr>\n      <th>1</th>\n      <td>20823</td>\n      <td>1990</td>\n      <td>Brunswick St</td>\n      <td>Newark Ave</td>\n      <td>1271</td>\n    </tr>\n    <tr>\n      <th>2</th>\n      <td>21656</td>\n      <td>1995</td>\n      <td>Astor Place</td>\n      <td>Astor Place</td>\n      <td>749</td>\n    </tr>\n  </tbody>\n</table>\n<p>1018 rows × 5 columns</p>\n</div>"
     },
     "metadata": {},
     "execution_count": 30
    }
   ],
   "source": [
    "first_bikeid_subscriber_df = first_subscriber_df.drop_duplicates(subset=['bikeid'])\n",
    "first_bikeid_subscriber_df"
   ]
  },
  {
   "cell_type": "code",
   "execution_count": 31,
   "metadata": {},
   "outputs": [
    {
     "output_type": "execute_result",
     "data": {
      "text/plain": [
       "                   bikeid  birth year          start station name  \\\n",
       "usertype   gender                                                   \n",
       "Subscriber 1        26261        1990                Newport Pkwy   \n",
       "           1        29467        1976               Grove St PATH   \n",
       "           1        29290        1984                   City Hall   \n",
       "           1        26155        1963  Columbus Dr at Exchange Pl   \n",
       "           1        26283        1980  Columbus Dr at Exchange Pl   \n",
       "...                   ...         ...                         ...   \n",
       "           1        16584        1989            Heights Elevator   \n",
       "           1        33887        1991            Heights Elevator   \n",
       "           1        38937        1987                 Astor Place   \n",
       "           1        19265        1987              Pershing Field   \n",
       "           1        20823        1990                Brunswick St   \n",
       "\n",
       "                    end station name  bikeid count per start station  \n",
       "usertype   gender                                                     \n",
       "Subscriber 1              Harborside                            1671  \n",
       "           1             Astor Place                            6488  \n",
       "           1            Brunswick St                            1800  \n",
       "           1        Marin Light Rail                            2507  \n",
       "           1        Marin Light Rail                            2507  \n",
       "...                              ...                             ...  \n",
       "           1          Pershing Field                             277  \n",
       "           1       5 Corners Library                             277  \n",
       "           1             Astor Place                             749  \n",
       "           1          Journal Square                             552  \n",
       "           1              Newark Ave                            1271  \n",
       "\n",
       "[737 rows x 5 columns]"
      ],
      "text/html": "<div>\n<style scoped>\n    .dataframe tbody tr th:only-of-type {\n        vertical-align: middle;\n    }\n\n    .dataframe tbody tr th {\n        vertical-align: top;\n    }\n\n    .dataframe thead th {\n        text-align: right;\n    }\n</style>\n<table border=\"1\" class=\"dataframe\">\n  <thead>\n    <tr style=\"text-align: right;\">\n      <th></th>\n      <th></th>\n      <th>bikeid</th>\n      <th>birth year</th>\n      <th>start station name</th>\n      <th>end station name</th>\n      <th>bikeid count per start station</th>\n    </tr>\n    <tr>\n      <th>usertype</th>\n      <th>gender</th>\n      <th></th>\n      <th></th>\n      <th></th>\n      <th></th>\n      <th></th>\n    </tr>\n  </thead>\n  <tbody>\n    <tr>\n      <th rowspan=\"11\" valign=\"top\">Subscriber</th>\n      <th>1</th>\n      <td>26261</td>\n      <td>1990</td>\n      <td>Newport Pkwy</td>\n      <td>Harborside</td>\n      <td>1671</td>\n    </tr>\n    <tr>\n      <th>1</th>\n      <td>29467</td>\n      <td>1976</td>\n      <td>Grove St PATH</td>\n      <td>Astor Place</td>\n      <td>6488</td>\n    </tr>\n    <tr>\n      <th>1</th>\n      <td>29290</td>\n      <td>1984</td>\n      <td>City Hall</td>\n      <td>Brunswick St</td>\n      <td>1800</td>\n    </tr>\n    <tr>\n      <th>1</th>\n      <td>26155</td>\n      <td>1963</td>\n      <td>Columbus Dr at Exchange Pl</td>\n      <td>Marin Light Rail</td>\n      <td>2507</td>\n    </tr>\n    <tr>\n      <th>1</th>\n      <td>26283</td>\n      <td>1980</td>\n      <td>Columbus Dr at Exchange Pl</td>\n      <td>Marin Light Rail</td>\n      <td>2507</td>\n    </tr>\n    <tr>\n      <th>...</th>\n      <td>...</td>\n      <td>...</td>\n      <td>...</td>\n      <td>...</td>\n      <td>...</td>\n    </tr>\n    <tr>\n      <th>1</th>\n      <td>16584</td>\n      <td>1989</td>\n      <td>Heights Elevator</td>\n      <td>Pershing Field</td>\n      <td>277</td>\n    </tr>\n    <tr>\n      <th>1</th>\n      <td>33887</td>\n      <td>1991</td>\n      <td>Heights Elevator</td>\n      <td>5 Corners Library</td>\n      <td>277</td>\n    </tr>\n    <tr>\n      <th>1</th>\n      <td>38937</td>\n      <td>1987</td>\n      <td>Astor Place</td>\n      <td>Astor Place</td>\n      <td>749</td>\n    </tr>\n    <tr>\n      <th>1</th>\n      <td>19265</td>\n      <td>1987</td>\n      <td>Pershing Field</td>\n      <td>Journal Square</td>\n      <td>552</td>\n    </tr>\n    <tr>\n      <th>1</th>\n      <td>20823</td>\n      <td>1990</td>\n      <td>Brunswick St</td>\n      <td>Newark Ave</td>\n      <td>1271</td>\n    </tr>\n  </tbody>\n</table>\n<p>737 rows × 5 columns</p>\n</div>"
     },
     "metadata": {},
     "execution_count": 31
    }
   ],
   "source": [
    "first_male_subscriber_df = first_bikeid_subscriber_df.drop(index=['0', '2'], level=1)\n",
    "first_male_subscriber_df"
   ]
  },
  {
   "cell_type": "code",
   "execution_count": 33,
   "metadata": {},
   "outputs": [],
   "source": [
    "first_male_subscriber_df.to_csv(\"first_qtr_male_subscriber.csv\", index=False)"
   ]
  },
  {
   "cell_type": "code",
   "execution_count": 34,
   "metadata": {},
   "outputs": [
    {
     "output_type": "execute_result",
     "data": {
      "text/plain": [
       "                   bikeid  birth year          start station name  \\\n",
       "usertype   gender                                                   \n",
       "Subscriber 2        29444        1984               Grove St PATH   \n",
       "           2        26305        1989               Grove St PATH   \n",
       "           2        29276        1983               Grove St PATH   \n",
       "           2        29673        1964  Columbus Dr at Exchange Pl   \n",
       "           2        26301        1993                  Harborside   \n",
       "...                   ...         ...                         ...   \n",
       "           2        28081        1987            Heights Elevator   \n",
       "           2        39591        1981                Morris Canal   \n",
       "           2        41498        1989            Heights Elevator   \n",
       "           2        35358        2001                     Sip Ave   \n",
       "           2        21656        1995                 Astor Place   \n",
       "\n",
       "                          end station name  bikeid count per start station  \n",
       "usertype   gender                                                           \n",
       "Subscriber 2                    Newark Ave                            6488  \n",
       "           2               Brunswick & 6th                            6488  \n",
       "           2              Marin Light Rail                            6488  \n",
       "           2              Marin Light Rail                            2507  \n",
       "           2                  Jersey & 3rd                            2779  \n",
       "...                                    ...                             ...  \n",
       "           2                  Newport Pkwy                             277  \n",
       "           2              Essex Light Rail                            1342  \n",
       "           2             5 Corners Library                             277  \n",
       "           2       Communipaw & Berry Lane                            3603  \n",
       "           2                   Astor Place                             749  \n",
       "\n",
       "[267 rows x 5 columns]"
      ],
      "text/html": "<div>\n<style scoped>\n    .dataframe tbody tr th:only-of-type {\n        vertical-align: middle;\n    }\n\n    .dataframe tbody tr th {\n        vertical-align: top;\n    }\n\n    .dataframe thead th {\n        text-align: right;\n    }\n</style>\n<table border=\"1\" class=\"dataframe\">\n  <thead>\n    <tr style=\"text-align: right;\">\n      <th></th>\n      <th></th>\n      <th>bikeid</th>\n      <th>birth year</th>\n      <th>start station name</th>\n      <th>end station name</th>\n      <th>bikeid count per start station</th>\n    </tr>\n    <tr>\n      <th>usertype</th>\n      <th>gender</th>\n      <th></th>\n      <th></th>\n      <th></th>\n      <th></th>\n      <th></th>\n    </tr>\n  </thead>\n  <tbody>\n    <tr>\n      <th rowspan=\"11\" valign=\"top\">Subscriber</th>\n      <th>2</th>\n      <td>29444</td>\n      <td>1984</td>\n      <td>Grove St PATH</td>\n      <td>Newark Ave</td>\n      <td>6488</td>\n    </tr>\n    <tr>\n      <th>2</th>\n      <td>26305</td>\n      <td>1989</td>\n      <td>Grove St PATH</td>\n      <td>Brunswick &amp; 6th</td>\n      <td>6488</td>\n    </tr>\n    <tr>\n      <th>2</th>\n      <td>29276</td>\n      <td>1983</td>\n      <td>Grove St PATH</td>\n      <td>Marin Light Rail</td>\n      <td>6488</td>\n    </tr>\n    <tr>\n      <th>2</th>\n      <td>29673</td>\n      <td>1964</td>\n      <td>Columbus Dr at Exchange Pl</td>\n      <td>Marin Light Rail</td>\n      <td>2507</td>\n    </tr>\n    <tr>\n      <th>2</th>\n      <td>26301</td>\n      <td>1993</td>\n      <td>Harborside</td>\n      <td>Jersey &amp; 3rd</td>\n      <td>2779</td>\n    </tr>\n    <tr>\n      <th>...</th>\n      <td>...</td>\n      <td>...</td>\n      <td>...</td>\n      <td>...</td>\n      <td>...</td>\n    </tr>\n    <tr>\n      <th>2</th>\n      <td>28081</td>\n      <td>1987</td>\n      <td>Heights Elevator</td>\n      <td>Newport Pkwy</td>\n      <td>277</td>\n    </tr>\n    <tr>\n      <th>2</th>\n      <td>39591</td>\n      <td>1981</td>\n      <td>Morris Canal</td>\n      <td>Essex Light Rail</td>\n      <td>1342</td>\n    </tr>\n    <tr>\n      <th>2</th>\n      <td>41498</td>\n      <td>1989</td>\n      <td>Heights Elevator</td>\n      <td>5 Corners Library</td>\n      <td>277</td>\n    </tr>\n    <tr>\n      <th>2</th>\n      <td>35358</td>\n      <td>2001</td>\n      <td>Sip Ave</td>\n      <td>Communipaw &amp; Berry Lane</td>\n      <td>3603</td>\n    </tr>\n    <tr>\n      <th>2</th>\n      <td>21656</td>\n      <td>1995</td>\n      <td>Astor Place</td>\n      <td>Astor Place</td>\n      <td>749</td>\n    </tr>\n  </tbody>\n</table>\n<p>267 rows × 5 columns</p>\n</div>"
     },
     "metadata": {},
     "execution_count": 34
    }
   ],
   "source": [
    "first_female_subscriber_df = first_bikeid_subscriber_df.drop(index=['0', '1'], level=1)\n",
    "first_female_subscriber_df"
   ]
  },
  {
   "cell_type": "code",
   "execution_count": 35,
   "metadata": {},
   "outputs": [],
   "source": [
    "first_female_subscriber_df.to_csv(\"first_qtr_female_subscriber.csv\", index=False)"
   ]
  },
  {
   "cell_type": "code",
   "execution_count": 36,
   "metadata": {},
   "outputs": [
    {
     "output_type": "execute_result",
     "data": {
      "text/plain": [
       "                   bikeid  birth year start station name   end station name  \\\n",
       "usertype   gender                                                             \n",
       "Subscriber 0        29537        1968      Grove St PATH      Montgomery St   \n",
       "           0        29208        1980       Newport Pkwy       Newport Pkwy   \n",
       "           0        26171        1976       Brunswick St   Essex Light Rail   \n",
       "           0        29234        1969     Columbus Drive      Washington St   \n",
       "           0        29460        1981       Morris Canal           Grand St   \n",
       "           0        29275        1969      Fairmount Ave            Sip Ave   \n",
       "           0        29204        1969     Van Vorst Park           Grand St   \n",
       "           0        29682        1989    McGinley Square     Journal Square   \n",
       "           0        42136        1969      Grove St PATH  JC Medical Center   \n",
       "           0        42148        1969      Grove St PATH     Van Vorst Park   \n",
       "           0        42139        1969      Grove St PATH    Brunswick & 6th   \n",
       "           0        42206        1969         Harborside          Warren St   \n",
       "           0        42614        1969    Brunswick & 6th         Newark Ave   \n",
       "           0        30333        1969       Newport PATH       Morris Canal   \n",
       "\n",
       "                   bikeid count per start station  \n",
       "usertype   gender                                  \n",
       "Subscriber 0                                 6488  \n",
       "           0                                 1671  \n",
       "           0                                 1271  \n",
       "           0                                 1314  \n",
       "           0                                 1342  \n",
       "           0                                  560  \n",
       "           0                                 1233  \n",
       "           0                                 1336  \n",
       "           0                                 6488  \n",
       "           0                                 6488  \n",
       "           0                                 6488  \n",
       "           0                                 2779  \n",
       "           0                                 1760  \n",
       "           0                                 2449  "
      ],
      "text/html": "<div>\n<style scoped>\n    .dataframe tbody tr th:only-of-type {\n        vertical-align: middle;\n    }\n\n    .dataframe tbody tr th {\n        vertical-align: top;\n    }\n\n    .dataframe thead th {\n        text-align: right;\n    }\n</style>\n<table border=\"1\" class=\"dataframe\">\n  <thead>\n    <tr style=\"text-align: right;\">\n      <th></th>\n      <th></th>\n      <th>bikeid</th>\n      <th>birth year</th>\n      <th>start station name</th>\n      <th>end station name</th>\n      <th>bikeid count per start station</th>\n    </tr>\n    <tr>\n      <th>usertype</th>\n      <th>gender</th>\n      <th></th>\n      <th></th>\n      <th></th>\n      <th></th>\n      <th></th>\n    </tr>\n  </thead>\n  <tbody>\n    <tr>\n      <th rowspan=\"14\" valign=\"top\">Subscriber</th>\n      <th>0</th>\n      <td>29537</td>\n      <td>1968</td>\n      <td>Grove St PATH</td>\n      <td>Montgomery St</td>\n      <td>6488</td>\n    </tr>\n    <tr>\n      <th>0</th>\n      <td>29208</td>\n      <td>1980</td>\n      <td>Newport Pkwy</td>\n      <td>Newport Pkwy</td>\n      <td>1671</td>\n    </tr>\n    <tr>\n      <th>0</th>\n      <td>26171</td>\n      <td>1976</td>\n      <td>Brunswick St</td>\n      <td>Essex Light Rail</td>\n      <td>1271</td>\n    </tr>\n    <tr>\n      <th>0</th>\n      <td>29234</td>\n      <td>1969</td>\n      <td>Columbus Drive</td>\n      <td>Washington St</td>\n      <td>1314</td>\n    </tr>\n    <tr>\n      <th>0</th>\n      <td>29460</td>\n      <td>1981</td>\n      <td>Morris Canal</td>\n      <td>Grand St</td>\n      <td>1342</td>\n    </tr>\n    <tr>\n      <th>0</th>\n      <td>29275</td>\n      <td>1969</td>\n      <td>Fairmount Ave</td>\n      <td>Sip Ave</td>\n      <td>560</td>\n    </tr>\n    <tr>\n      <th>0</th>\n      <td>29204</td>\n      <td>1969</td>\n      <td>Van Vorst Park</td>\n      <td>Grand St</td>\n      <td>1233</td>\n    </tr>\n    <tr>\n      <th>0</th>\n      <td>29682</td>\n      <td>1989</td>\n      <td>McGinley Square</td>\n      <td>Journal Square</td>\n      <td>1336</td>\n    </tr>\n    <tr>\n      <th>0</th>\n      <td>42136</td>\n      <td>1969</td>\n      <td>Grove St PATH</td>\n      <td>JC Medical Center</td>\n      <td>6488</td>\n    </tr>\n    <tr>\n      <th>0</th>\n      <td>42148</td>\n      <td>1969</td>\n      <td>Grove St PATH</td>\n      <td>Van Vorst Park</td>\n      <td>6488</td>\n    </tr>\n    <tr>\n      <th>0</th>\n      <td>42139</td>\n      <td>1969</td>\n      <td>Grove St PATH</td>\n      <td>Brunswick &amp; 6th</td>\n      <td>6488</td>\n    </tr>\n    <tr>\n      <th>0</th>\n      <td>42206</td>\n      <td>1969</td>\n      <td>Harborside</td>\n      <td>Warren St</td>\n      <td>2779</td>\n    </tr>\n    <tr>\n      <th>0</th>\n      <td>42614</td>\n      <td>1969</td>\n      <td>Brunswick &amp; 6th</td>\n      <td>Newark Ave</td>\n      <td>1760</td>\n    </tr>\n    <tr>\n      <th>0</th>\n      <td>30333</td>\n      <td>1969</td>\n      <td>Newport PATH</td>\n      <td>Morris Canal</td>\n      <td>2449</td>\n    </tr>\n  </tbody>\n</table>\n</div>"
     },
     "metadata": {},
     "execution_count": 36
    }
   ],
   "source": [
    "first_unknown_subscriber_df = first_bikeid_subscriber_df.drop(index=['2', '1'], level=1)\n",
    "first_unknown_subscriber_df"
   ]
  },
  {
   "cell_type": "code",
   "execution_count": 37,
   "metadata": {},
   "outputs": [],
   "source": [
    "first_unknown_subscriber_df.to_csv(\"first_qtr_unknown_subscriber.csv\", index=False)"
   ]
  },
  {
   "cell_type": "code",
   "execution_count": 23,
   "metadata": {},
   "outputs": [],
   "source": [
    "# first_subscriber_df.to_csv(\"first_qtr_subscriber.csv\", index=False)"
   ]
  },
  {
   "cell_type": "code",
   "execution_count": 24,
   "metadata": {},
   "outputs": [],
   "source": [
    "# first_customer_df.to_csv(\"first_qtr_customer.csv\", index=False)"
   ]
  },
  {
   "cell_type": "code",
   "execution_count": 38,
   "metadata": {},
   "outputs": [
    {
     "output_type": "execute_result",
     "data": {
      "text/plain": [
       "                   tripduration                 starttime  \\\n",
       "usertype   gender                                           \n",
       "Customer   2               1437  2020-04-01 01:06:20.6300   \n",
       "Subscriber 2                264  2020-04-01 05:02:42.0570   \n",
       "           1                254  2020-04-01 06:20:28.1190   \n",
       "           1                429  2020-04-01 06:33:30.5170   \n",
       "           1                805  2020-04-01 06:38:32.9220   \n",
       "...                         ...                       ...   \n",
       "Customer   0               2828  2020-06-30 23:53:19.7380   \n",
       "           0               2729  2020-06-30 23:54:44.0100   \n",
       "           0               2788  2020-06-30 23:54:52.1920   \n",
       "           0               2702  2020-06-30 23:56:14.6650   \n",
       "           2               2649  2020-06-30 23:57:46.1490   \n",
       "\n",
       "                                   stoptime  start station id  \\\n",
       "usertype   gender                                               \n",
       "Customer   2       2020-04-01 01:30:17.9680              3678   \n",
       "Subscriber 2       2020-04-01 05:07:06.1260              3207   \n",
       "           1       2020-04-01 06:24:42.1380              3678   \n",
       "           1       2020-04-01 06:40:40.1990              3195   \n",
       "           1       2020-04-01 06:51:58.2050              3193   \n",
       "...                                     ...               ...   \n",
       "Customer   0       2020-07-01 00:40:28.5760              3199   \n",
       "           0       2020-07-01 00:40:13.6470              3199   \n",
       "           0       2020-07-01 00:41:20.6500              3199   \n",
       "           0       2020-07-01 00:41:16.7820              3199   \n",
       "           2       2020-07-01 00:41:55.5060              3199   \n",
       "\n",
       "                  start station name  start station latitude  \\\n",
       "usertype   gender                                              \n",
       "Customer   2           Fairmount Ave               40.725726   \n",
       "Subscriber 2             Oakland Ave               40.737604   \n",
       "           1           Fairmount Ave               40.725726   \n",
       "           1                 Sip Ave               40.730897   \n",
       "           1            Lincoln Park               40.724605   \n",
       "...                              ...                     ...   \n",
       "Customer   0            Newport Pkwy               40.728745   \n",
       "           0            Newport Pkwy               40.728745   \n",
       "           0            Newport Pkwy               40.728745   \n",
       "           0            Newport Pkwy               40.728745   \n",
       "           2            Newport Pkwy               40.728745   \n",
       "\n",
       "                   start station longitude  end station id end station name  \\\n",
       "usertype   gender                                                             \n",
       "Customer   2                    -74.071959            3678    Fairmount Ave   \n",
       "Subscriber 2                    -74.052478            3195          Sip Ave   \n",
       "           1                    -74.071959            3195          Sip Ave   \n",
       "           1                    -74.063913            3679       Bergen Ave   \n",
       "           1                    -74.078406            3195          Sip Ave   \n",
       "...                                    ...             ...              ...   \n",
       "Customer   0                    -74.032108            3199     Newport Pkwy   \n",
       "           0                    -74.032108            3199     Newport Pkwy   \n",
       "           0                    -74.032108            3199     Newport Pkwy   \n",
       "           0                    -74.032108            3199     Newport Pkwy   \n",
       "           2                    -74.032108            3199     Newport Pkwy   \n",
       "\n",
       "                   end station latitude  end station longitude  bikeid  \\\n",
       "usertype   gender                                                        \n",
       "Customer   2                  40.725726             -74.071959   42314   \n",
       "Subscriber 2                  40.730897             -74.063913   42146   \n",
       "           1                  40.730897             -74.063913   42255   \n",
       "           1                  40.722104             -74.071455   42529   \n",
       "           1                  40.730897             -74.063913   42362   \n",
       "...                                 ...                    ...     ...   \n",
       "Customer   0                  40.728745             -74.032108   18351   \n",
       "           0                  40.728745             -74.032108   44401   \n",
       "           0                  40.728745             -74.032108   42334   \n",
       "           0                  40.728745             -74.032108   42463   \n",
       "           2                  40.728745             -74.032108   42468   \n",
       "\n",
       "                   birth year  \n",
       "usertype   gender              \n",
       "Customer   2             2002  \n",
       "Subscriber 2             1963  \n",
       "           1             1981  \n",
       "           1             1964  \n",
       "           1             1965  \n",
       "...                       ...  \n",
       "Customer   0             1969  \n",
       "           0             1969  \n",
       "           0             1969  \n",
       "           0             1969  \n",
       "           2             1998  \n",
       "\n",
       "[71266 rows x 13 columns]"
      ],
      "text/html": "<div>\n<style scoped>\n    .dataframe tbody tr th:only-of-type {\n        vertical-align: middle;\n    }\n\n    .dataframe tbody tr th {\n        vertical-align: top;\n    }\n\n    .dataframe thead th {\n        text-align: right;\n    }\n</style>\n<table border=\"1\" class=\"dataframe\">\n  <thead>\n    <tr style=\"text-align: right;\">\n      <th></th>\n      <th></th>\n      <th>tripduration</th>\n      <th>starttime</th>\n      <th>stoptime</th>\n      <th>start station id</th>\n      <th>start station name</th>\n      <th>start station latitude</th>\n      <th>start station longitude</th>\n      <th>end station id</th>\n      <th>end station name</th>\n      <th>end station latitude</th>\n      <th>end station longitude</th>\n      <th>bikeid</th>\n      <th>birth year</th>\n    </tr>\n    <tr>\n      <th>usertype</th>\n      <th>gender</th>\n      <th></th>\n      <th></th>\n      <th></th>\n      <th></th>\n      <th></th>\n      <th></th>\n      <th></th>\n      <th></th>\n      <th></th>\n      <th></th>\n      <th></th>\n      <th></th>\n      <th></th>\n    </tr>\n  </thead>\n  <tbody>\n    <tr>\n      <th>Customer</th>\n      <th>2</th>\n      <td>1437</td>\n      <td>2020-04-01 01:06:20.6300</td>\n      <td>2020-04-01 01:30:17.9680</td>\n      <td>3678</td>\n      <td>Fairmount Ave</td>\n      <td>40.725726</td>\n      <td>-74.071959</td>\n      <td>3678</td>\n      <td>Fairmount Ave</td>\n      <td>40.725726</td>\n      <td>-74.071959</td>\n      <td>42314</td>\n      <td>2002</td>\n    </tr>\n    <tr>\n      <th rowspan=\"4\" valign=\"top\">Subscriber</th>\n      <th>2</th>\n      <td>264</td>\n      <td>2020-04-01 05:02:42.0570</td>\n      <td>2020-04-01 05:07:06.1260</td>\n      <td>3207</td>\n      <td>Oakland Ave</td>\n      <td>40.737604</td>\n      <td>-74.052478</td>\n      <td>3195</td>\n      <td>Sip Ave</td>\n      <td>40.730897</td>\n      <td>-74.063913</td>\n      <td>42146</td>\n      <td>1963</td>\n    </tr>\n    <tr>\n      <th>1</th>\n      <td>254</td>\n      <td>2020-04-01 06:20:28.1190</td>\n      <td>2020-04-01 06:24:42.1380</td>\n      <td>3678</td>\n      <td>Fairmount Ave</td>\n      <td>40.725726</td>\n      <td>-74.071959</td>\n      <td>3195</td>\n      <td>Sip Ave</td>\n      <td>40.730897</td>\n      <td>-74.063913</td>\n      <td>42255</td>\n      <td>1981</td>\n    </tr>\n    <tr>\n      <th>1</th>\n      <td>429</td>\n      <td>2020-04-01 06:33:30.5170</td>\n      <td>2020-04-01 06:40:40.1990</td>\n      <td>3195</td>\n      <td>Sip Ave</td>\n      <td>40.730897</td>\n      <td>-74.063913</td>\n      <td>3679</td>\n      <td>Bergen Ave</td>\n      <td>40.722104</td>\n      <td>-74.071455</td>\n      <td>42529</td>\n      <td>1964</td>\n    </tr>\n    <tr>\n      <th>1</th>\n      <td>805</td>\n      <td>2020-04-01 06:38:32.9220</td>\n      <td>2020-04-01 06:51:58.2050</td>\n      <td>3193</td>\n      <td>Lincoln Park</td>\n      <td>40.724605</td>\n      <td>-74.078406</td>\n      <td>3195</td>\n      <td>Sip Ave</td>\n      <td>40.730897</td>\n      <td>-74.063913</td>\n      <td>42362</td>\n      <td>1965</td>\n    </tr>\n    <tr>\n      <th>...</th>\n      <th>...</th>\n      <td>...</td>\n      <td>...</td>\n      <td>...</td>\n      <td>...</td>\n      <td>...</td>\n      <td>...</td>\n      <td>...</td>\n      <td>...</td>\n      <td>...</td>\n      <td>...</td>\n      <td>...</td>\n      <td>...</td>\n      <td>...</td>\n    </tr>\n    <tr>\n      <th rowspan=\"5\" valign=\"top\">Customer</th>\n      <th>0</th>\n      <td>2828</td>\n      <td>2020-06-30 23:53:19.7380</td>\n      <td>2020-07-01 00:40:28.5760</td>\n      <td>3199</td>\n      <td>Newport Pkwy</td>\n      <td>40.728745</td>\n      <td>-74.032108</td>\n      <td>3199</td>\n      <td>Newport Pkwy</td>\n      <td>40.728745</td>\n      <td>-74.032108</td>\n      <td>18351</td>\n      <td>1969</td>\n    </tr>\n    <tr>\n      <th>0</th>\n      <td>2729</td>\n      <td>2020-06-30 23:54:44.0100</td>\n      <td>2020-07-01 00:40:13.6470</td>\n      <td>3199</td>\n      <td>Newport Pkwy</td>\n      <td>40.728745</td>\n      <td>-74.032108</td>\n      <td>3199</td>\n      <td>Newport Pkwy</td>\n      <td>40.728745</td>\n      <td>-74.032108</td>\n      <td>44401</td>\n      <td>1969</td>\n    </tr>\n    <tr>\n      <th>0</th>\n      <td>2788</td>\n      <td>2020-06-30 23:54:52.1920</td>\n      <td>2020-07-01 00:41:20.6500</td>\n      <td>3199</td>\n      <td>Newport Pkwy</td>\n      <td>40.728745</td>\n      <td>-74.032108</td>\n      <td>3199</td>\n      <td>Newport Pkwy</td>\n      <td>40.728745</td>\n      <td>-74.032108</td>\n      <td>42334</td>\n      <td>1969</td>\n    </tr>\n    <tr>\n      <th>0</th>\n      <td>2702</td>\n      <td>2020-06-30 23:56:14.6650</td>\n      <td>2020-07-01 00:41:16.7820</td>\n      <td>3199</td>\n      <td>Newport Pkwy</td>\n      <td>40.728745</td>\n      <td>-74.032108</td>\n      <td>3199</td>\n      <td>Newport Pkwy</td>\n      <td>40.728745</td>\n      <td>-74.032108</td>\n      <td>42463</td>\n      <td>1969</td>\n    </tr>\n    <tr>\n      <th>2</th>\n      <td>2649</td>\n      <td>2020-06-30 23:57:46.1490</td>\n      <td>2020-07-01 00:41:55.5060</td>\n      <td>3199</td>\n      <td>Newport Pkwy</td>\n      <td>40.728745</td>\n      <td>-74.032108</td>\n      <td>3199</td>\n      <td>Newport Pkwy</td>\n      <td>40.728745</td>\n      <td>-74.032108</td>\n      <td>42468</td>\n      <td>1998</td>\n    </tr>\n  </tbody>\n</table>\n<p>71266 rows × 13 columns</p>\n</div>"
     },
     "metadata": {},
     "execution_count": 38
    }
   ],
   "source": [
    "second_qtr_df = second_qtr.set_index([\"usertype\", \"gender\"])\n",
    "second_qtr_df"
   ]
  },
  {
   "cell_type": "code",
   "execution_count": 39,
   "metadata": {},
   "outputs": [
    {
     "output_type": "execute_result",
     "data": {
      "text/plain": [
       "                   tripduration                 starttime  \\\n",
       "usertype   gender                                           \n",
       "Subscriber 2                264  2020-04-01 05:02:42.0570   \n",
       "           1                254  2020-04-01 06:20:28.1190   \n",
       "           1                429  2020-04-01 06:33:30.5170   \n",
       "           1                805  2020-04-01 06:38:32.9220   \n",
       "           1                317  2020-04-01 06:43:44.5300   \n",
       "\n",
       "                                   stoptime  start station id  \\\n",
       "usertype   gender                                               \n",
       "Subscriber 2       2020-04-01 05:07:06.1260              3207   \n",
       "           1       2020-04-01 06:24:42.1380              3678   \n",
       "           1       2020-04-01 06:40:40.1990              3195   \n",
       "           1       2020-04-01 06:51:58.2050              3193   \n",
       "           1       2020-04-01 06:49:01.8340              3211   \n",
       "\n",
       "                  start station name  start station latitude  \\\n",
       "usertype   gender                                              \n",
       "Subscriber 2             Oakland Ave               40.737604   \n",
       "           1           Fairmount Ave               40.725726   \n",
       "           1                 Sip Ave               40.730897   \n",
       "           1            Lincoln Park               40.724605   \n",
       "           1              Newark Ave               40.721525   \n",
       "\n",
       "                   start station longitude  end station id   end station name  \\\n",
       "usertype   gender                                                               \n",
       "Subscriber 2                    -74.052478            3195            Sip Ave   \n",
       "           1                    -74.071959            3195            Sip Ave   \n",
       "           1                    -74.063913            3679         Bergen Ave   \n",
       "           1                    -74.078406            3195            Sip Ave   \n",
       "           1                    -74.046305            3205  JC Medical Center   \n",
       "\n",
       "                   end station latitude  end station longitude  bikeid  \\\n",
       "usertype   gender                                                        \n",
       "Subscriber 2                  40.730897             -74.063913   42146   \n",
       "           1                  40.730897             -74.063913   42255   \n",
       "           1                  40.722104             -74.071455   42529   \n",
       "           1                  40.730897             -74.063913   42362   \n",
       "           1                  40.716540             -74.049638   42636   \n",
       "\n",
       "                   birth year  \n",
       "usertype   gender              \n",
       "Subscriber 2             1963  \n",
       "           1             1981  \n",
       "           1             1964  \n",
       "           1             1965  \n",
       "           1             1956  "
      ],
      "text/html": "<div>\n<style scoped>\n    .dataframe tbody tr th:only-of-type {\n        vertical-align: middle;\n    }\n\n    .dataframe tbody tr th {\n        vertical-align: top;\n    }\n\n    .dataframe thead th {\n        text-align: right;\n    }\n</style>\n<table border=\"1\" class=\"dataframe\">\n  <thead>\n    <tr style=\"text-align: right;\">\n      <th></th>\n      <th></th>\n      <th>tripduration</th>\n      <th>starttime</th>\n      <th>stoptime</th>\n      <th>start station id</th>\n      <th>start station name</th>\n      <th>start station latitude</th>\n      <th>start station longitude</th>\n      <th>end station id</th>\n      <th>end station name</th>\n      <th>end station latitude</th>\n      <th>end station longitude</th>\n      <th>bikeid</th>\n      <th>birth year</th>\n    </tr>\n    <tr>\n      <th>usertype</th>\n      <th>gender</th>\n      <th></th>\n      <th></th>\n      <th></th>\n      <th></th>\n      <th></th>\n      <th></th>\n      <th></th>\n      <th></th>\n      <th></th>\n      <th></th>\n      <th></th>\n      <th></th>\n      <th></th>\n    </tr>\n  </thead>\n  <tbody>\n    <tr>\n      <th rowspan=\"5\" valign=\"top\">Subscriber</th>\n      <th>2</th>\n      <td>264</td>\n      <td>2020-04-01 05:02:42.0570</td>\n      <td>2020-04-01 05:07:06.1260</td>\n      <td>3207</td>\n      <td>Oakland Ave</td>\n      <td>40.737604</td>\n      <td>-74.052478</td>\n      <td>3195</td>\n      <td>Sip Ave</td>\n      <td>40.730897</td>\n      <td>-74.063913</td>\n      <td>42146</td>\n      <td>1963</td>\n    </tr>\n    <tr>\n      <th>1</th>\n      <td>254</td>\n      <td>2020-04-01 06:20:28.1190</td>\n      <td>2020-04-01 06:24:42.1380</td>\n      <td>3678</td>\n      <td>Fairmount Ave</td>\n      <td>40.725726</td>\n      <td>-74.071959</td>\n      <td>3195</td>\n      <td>Sip Ave</td>\n      <td>40.730897</td>\n      <td>-74.063913</td>\n      <td>42255</td>\n      <td>1981</td>\n    </tr>\n    <tr>\n      <th>1</th>\n      <td>429</td>\n      <td>2020-04-01 06:33:30.5170</td>\n      <td>2020-04-01 06:40:40.1990</td>\n      <td>3195</td>\n      <td>Sip Ave</td>\n      <td>40.730897</td>\n      <td>-74.063913</td>\n      <td>3679</td>\n      <td>Bergen Ave</td>\n      <td>40.722104</td>\n      <td>-74.071455</td>\n      <td>42529</td>\n      <td>1964</td>\n    </tr>\n    <tr>\n      <th>1</th>\n      <td>805</td>\n      <td>2020-04-01 06:38:32.9220</td>\n      <td>2020-04-01 06:51:58.2050</td>\n      <td>3193</td>\n      <td>Lincoln Park</td>\n      <td>40.724605</td>\n      <td>-74.078406</td>\n      <td>3195</td>\n      <td>Sip Ave</td>\n      <td>40.730897</td>\n      <td>-74.063913</td>\n      <td>42362</td>\n      <td>1965</td>\n    </tr>\n    <tr>\n      <th>1</th>\n      <td>317</td>\n      <td>2020-04-01 06:43:44.5300</td>\n      <td>2020-04-01 06:49:01.8340</td>\n      <td>3211</td>\n      <td>Newark Ave</td>\n      <td>40.721525</td>\n      <td>-74.046305</td>\n      <td>3205</td>\n      <td>JC Medical Center</td>\n      <td>40.716540</td>\n      <td>-74.049638</td>\n      <td>42636</td>\n      <td>1956</td>\n    </tr>\n  </tbody>\n</table>\n</div>"
     },
     "metadata": {},
     "execution_count": 39
    }
   ],
   "source": [
    "second_qtr_subscriber_df = second_qtr_df.drop(index='Customer', level=0)\n",
    "second_qtr_subscriber_df.head()"
   ]
  },
  {
   "cell_type": "code",
   "execution_count": 40,
   "metadata": {},
   "outputs": [
    {
     "output_type": "execute_result",
     "data": {
      "text/plain": [
       "                   bikeid  birth year start station name   end station name\n",
       "usertype   gender                                                          \n",
       "Subscriber 2        42146        1963        Oakland Ave            Sip Ave\n",
       "           1        42255        1981      Fairmount Ave            Sip Ave\n",
       "           1        42529        1964            Sip Ave         Bergen Ave\n",
       "           1        42362        1965       Lincoln Park            Sip Ave\n",
       "           1        42636        1956         Newark Ave  JC Medical Center"
      ],
      "text/html": "<div>\n<style scoped>\n    .dataframe tbody tr th:only-of-type {\n        vertical-align: middle;\n    }\n\n    .dataframe tbody tr th {\n        vertical-align: top;\n    }\n\n    .dataframe thead th {\n        text-align: right;\n    }\n</style>\n<table border=\"1\" class=\"dataframe\">\n  <thead>\n    <tr style=\"text-align: right;\">\n      <th></th>\n      <th></th>\n      <th>bikeid</th>\n      <th>birth year</th>\n      <th>start station name</th>\n      <th>end station name</th>\n    </tr>\n    <tr>\n      <th>usertype</th>\n      <th>gender</th>\n      <th></th>\n      <th></th>\n      <th></th>\n      <th></th>\n    </tr>\n  </thead>\n  <tbody>\n    <tr>\n      <th rowspan=\"5\" valign=\"top\">Subscriber</th>\n      <th>2</th>\n      <td>42146</td>\n      <td>1963</td>\n      <td>Oakland Ave</td>\n      <td>Sip Ave</td>\n    </tr>\n    <tr>\n      <th>1</th>\n      <td>42255</td>\n      <td>1981</td>\n      <td>Fairmount Ave</td>\n      <td>Sip Ave</td>\n    </tr>\n    <tr>\n      <th>1</th>\n      <td>42529</td>\n      <td>1964</td>\n      <td>Sip Ave</td>\n      <td>Bergen Ave</td>\n    </tr>\n    <tr>\n      <th>1</th>\n      <td>42362</td>\n      <td>1965</td>\n      <td>Lincoln Park</td>\n      <td>Sip Ave</td>\n    </tr>\n    <tr>\n      <th>1</th>\n      <td>42636</td>\n      <td>1956</td>\n      <td>Newark Ave</td>\n      <td>JC Medical Center</td>\n    </tr>\n  </tbody>\n</table>\n</div>"
     },
     "metadata": {},
     "execution_count": 40
    }
   ],
   "source": [
    "second_qtr_subscriber_df = second_qtr_subscriber_df[[\"bikeid\", \"birth year\", \"start station name\", \"end station name\"]]\n",
    "second_qtr_subscriber_df.head()"
   ]
  },
  {
   "cell_type": "code",
   "execution_count": 41,
   "metadata": {},
   "outputs": [
    {
     "output_type": "execute_result",
     "data": {
      "text/plain": [
       "                   bikeid  birth year          start station name  \\\n",
       "usertype   gender                                                   \n",
       "Subscriber 2        42146        1963                 Oakland Ave   \n",
       "           1        42255        1981               Fairmount Ave   \n",
       "           1        42529        1964                     Sip Ave   \n",
       "           1        42362        1965                Lincoln Park   \n",
       "           1        42636        1956                  Newark Ave   \n",
       "...                   ...         ...                         ...   \n",
       "           1        20748        1984               Hamilton Park   \n",
       "           1        33738        1978                Lincoln Park   \n",
       "           1        40436        1984               Hamilton Park   \n",
       "           1        41498        1988  Columbus Dr at Exchange Pl   \n",
       "           1        44543        1993                  Harborside   \n",
       "\n",
       "                    end station name  bikeid count per start station  \n",
       "usertype   gender                                                     \n",
       "Subscriber 2                 Sip Ave                             224  \n",
       "           1                 Sip Ave                             393  \n",
       "           1              Bergen Ave                            1575  \n",
       "           1                 Sip Ave                             611  \n",
       "           1       JC Medical Center                            1108  \n",
       "...                              ...                             ...  \n",
       "           1         Jersey & 6th St                            1733  \n",
       "           1              Bergen Ave                             611  \n",
       "           1            Brunswick St                            1733  \n",
       "           1           Hamilton Park                            1204  \n",
       "           1           Grove St PATH                            1574  \n",
       "\n",
       "[39469 rows x 5 columns]"
      ],
      "text/html": "<div>\n<style scoped>\n    .dataframe tbody tr th:only-of-type {\n        vertical-align: middle;\n    }\n\n    .dataframe tbody tr th {\n        vertical-align: top;\n    }\n\n    .dataframe thead th {\n        text-align: right;\n    }\n</style>\n<table border=\"1\" class=\"dataframe\">\n  <thead>\n    <tr style=\"text-align: right;\">\n      <th></th>\n      <th></th>\n      <th>bikeid</th>\n      <th>birth year</th>\n      <th>start station name</th>\n      <th>end station name</th>\n      <th>bikeid count per start station</th>\n    </tr>\n    <tr>\n      <th>usertype</th>\n      <th>gender</th>\n      <th></th>\n      <th></th>\n      <th></th>\n      <th></th>\n      <th></th>\n    </tr>\n  </thead>\n  <tbody>\n    <tr>\n      <th rowspan=\"11\" valign=\"top\">Subscriber</th>\n      <th>2</th>\n      <td>42146</td>\n      <td>1963</td>\n      <td>Oakland Ave</td>\n      <td>Sip Ave</td>\n      <td>224</td>\n    </tr>\n    <tr>\n      <th>1</th>\n      <td>42255</td>\n      <td>1981</td>\n      <td>Fairmount Ave</td>\n      <td>Sip Ave</td>\n      <td>393</td>\n    </tr>\n    <tr>\n      <th>1</th>\n      <td>42529</td>\n      <td>1964</td>\n      <td>Sip Ave</td>\n      <td>Bergen Ave</td>\n      <td>1575</td>\n    </tr>\n    <tr>\n      <th>1</th>\n      <td>42362</td>\n      <td>1965</td>\n      <td>Lincoln Park</td>\n      <td>Sip Ave</td>\n      <td>611</td>\n    </tr>\n    <tr>\n      <th>1</th>\n      <td>42636</td>\n      <td>1956</td>\n      <td>Newark Ave</td>\n      <td>JC Medical Center</td>\n      <td>1108</td>\n    </tr>\n    <tr>\n      <th>...</th>\n      <td>...</td>\n      <td>...</td>\n      <td>...</td>\n      <td>...</td>\n      <td>...</td>\n    </tr>\n    <tr>\n      <th>1</th>\n      <td>20748</td>\n      <td>1984</td>\n      <td>Hamilton Park</td>\n      <td>Jersey &amp; 6th St</td>\n      <td>1733</td>\n    </tr>\n    <tr>\n      <th>1</th>\n      <td>33738</td>\n      <td>1978</td>\n      <td>Lincoln Park</td>\n      <td>Bergen Ave</td>\n      <td>611</td>\n    </tr>\n    <tr>\n      <th>1</th>\n      <td>40436</td>\n      <td>1984</td>\n      <td>Hamilton Park</td>\n      <td>Brunswick St</td>\n      <td>1733</td>\n    </tr>\n    <tr>\n      <th>1</th>\n      <td>41498</td>\n      <td>1988</td>\n      <td>Columbus Dr at Exchange Pl</td>\n      <td>Hamilton Park</td>\n      <td>1204</td>\n    </tr>\n    <tr>\n      <th>1</th>\n      <td>44543</td>\n      <td>1993</td>\n      <td>Harborside</td>\n      <td>Grove St PATH</td>\n      <td>1574</td>\n    </tr>\n  </tbody>\n</table>\n<p>39469 rows × 5 columns</p>\n</div>"
     },
     "metadata": {},
     "execution_count": 41
    }
   ],
   "source": [
    "second_qtr_subscriber_df[\"bikeid count per start station\"] = second_qtr_subscriber_df.groupby(\"start station name\")[\"bikeid\"].transform(len)\n",
    "second_qtr_subscriber_df"
   ]
  },
  {
   "cell_type": "code",
   "execution_count": 42,
   "metadata": {},
   "outputs": [
    {
     "output_type": "execute_result",
     "data": {
      "text/plain": [
       "                   bikeid  birth year start station name  \\\n",
       "usertype   gender                                          \n",
       "Subscriber 2        42146        1963        Oakland Ave   \n",
       "           1        42255        1981      Fairmount Ave   \n",
       "           1        42529        1964            Sip Ave   \n",
       "           1        42362        1965       Lincoln Park   \n",
       "           1        42636        1956         Newark Ave   \n",
       "...                   ...         ...                ...   \n",
       "           1        44334        1992     Riverview Park   \n",
       "           2        29855        1992   Marin Light Rail   \n",
       "           1        44492        1988            Sip Ave   \n",
       "           1        43489        1989   Marin Light Rail   \n",
       "           1        44413        1970         Newark Ave   \n",
       "\n",
       "                        end station name  bikeid count per start station  \n",
       "usertype   gender                                                         \n",
       "Subscriber 2                     Sip Ave                             224  \n",
       "           1                     Sip Ave                             393  \n",
       "           1                  Bergen Ave                            1575  \n",
       "           1                     Sip Ave                             611  \n",
       "           1           JC Medical Center                            1108  \n",
       "...                                  ...                             ...  \n",
       "           1              Riverview Park                             233  \n",
       "           2              Columbus Drive                            1702  \n",
       "           1       Baldwin at Montgomery                            1575  \n",
       "           1            Marin Light Rail                            1702  \n",
       "           1             Jersey & 6th St                            1108  \n",
       "\n",
       "[791 rows x 5 columns]"
      ],
      "text/html": "<div>\n<style scoped>\n    .dataframe tbody tr th:only-of-type {\n        vertical-align: middle;\n    }\n\n    .dataframe tbody tr th {\n        vertical-align: top;\n    }\n\n    .dataframe thead th {\n        text-align: right;\n    }\n</style>\n<table border=\"1\" class=\"dataframe\">\n  <thead>\n    <tr style=\"text-align: right;\">\n      <th></th>\n      <th></th>\n      <th>bikeid</th>\n      <th>birth year</th>\n      <th>start station name</th>\n      <th>end station name</th>\n      <th>bikeid count per start station</th>\n    </tr>\n    <tr>\n      <th>usertype</th>\n      <th>gender</th>\n      <th></th>\n      <th></th>\n      <th></th>\n      <th></th>\n      <th></th>\n    </tr>\n  </thead>\n  <tbody>\n    <tr>\n      <th rowspan=\"11\" valign=\"top\">Subscriber</th>\n      <th>2</th>\n      <td>42146</td>\n      <td>1963</td>\n      <td>Oakland Ave</td>\n      <td>Sip Ave</td>\n      <td>224</td>\n    </tr>\n    <tr>\n      <th>1</th>\n      <td>42255</td>\n      <td>1981</td>\n      <td>Fairmount Ave</td>\n      <td>Sip Ave</td>\n      <td>393</td>\n    </tr>\n    <tr>\n      <th>1</th>\n      <td>42529</td>\n      <td>1964</td>\n      <td>Sip Ave</td>\n      <td>Bergen Ave</td>\n      <td>1575</td>\n    </tr>\n    <tr>\n      <th>1</th>\n      <td>42362</td>\n      <td>1965</td>\n      <td>Lincoln Park</td>\n      <td>Sip Ave</td>\n      <td>611</td>\n    </tr>\n    <tr>\n      <th>1</th>\n      <td>42636</td>\n      <td>1956</td>\n      <td>Newark Ave</td>\n      <td>JC Medical Center</td>\n      <td>1108</td>\n    </tr>\n    <tr>\n      <th>...</th>\n      <td>...</td>\n      <td>...</td>\n      <td>...</td>\n      <td>...</td>\n      <td>...</td>\n    </tr>\n    <tr>\n      <th>1</th>\n      <td>44334</td>\n      <td>1992</td>\n      <td>Riverview Park</td>\n      <td>Riverview Park</td>\n      <td>233</td>\n    </tr>\n    <tr>\n      <th>2</th>\n      <td>29855</td>\n      <td>1992</td>\n      <td>Marin Light Rail</td>\n      <td>Columbus Drive</td>\n      <td>1702</td>\n    </tr>\n    <tr>\n      <th>1</th>\n      <td>44492</td>\n      <td>1988</td>\n      <td>Sip Ave</td>\n      <td>Baldwin at Montgomery</td>\n      <td>1575</td>\n    </tr>\n    <tr>\n      <th>1</th>\n      <td>43489</td>\n      <td>1989</td>\n      <td>Marin Light Rail</td>\n      <td>Marin Light Rail</td>\n      <td>1702</td>\n    </tr>\n    <tr>\n      <th>1</th>\n      <td>44413</td>\n      <td>1970</td>\n      <td>Newark Ave</td>\n      <td>Jersey &amp; 6th St</td>\n      <td>1108</td>\n    </tr>\n  </tbody>\n</table>\n<p>791 rows × 5 columns</p>\n</div>"
     },
     "metadata": {},
     "execution_count": 42
    }
   ],
   "source": [
    "second_bikeid_subscriber_df = second_qtr_subscriber_df.drop_duplicates(subset=['bikeid'])\n",
    "second_bikeid_subscriber_df"
   ]
  },
  {
   "cell_type": "code",
   "execution_count": 43,
   "metadata": {},
   "outputs": [
    {
     "output_type": "execute_result",
     "data": {
      "text/plain": [
       "                   bikeid  birth year start station name  \\\n",
       "usertype   gender                                          \n",
       "Subscriber 1        42255        1981      Fairmount Ave   \n",
       "           1        42529        1964            Sip Ave   \n",
       "           1        42362        1965       Lincoln Park   \n",
       "           1        42636        1956         Newark Ave   \n",
       "           1        42336        1967       Morris Canal   \n",
       "...                   ...         ...                ...   \n",
       "           1        44403        1959       Glenwood Ave   \n",
       "           1        44334        1992     Riverview Park   \n",
       "           1        44492        1988            Sip Ave   \n",
       "           1        43489        1989   Marin Light Rail   \n",
       "           1        44413        1970         Newark Ave   \n",
       "\n",
       "                             end station name  bikeid count per start station  \n",
       "usertype   gender                                                              \n",
       "Subscriber 1                          Sip Ave                             393  \n",
       "           1                       Bergen Ave                            1575  \n",
       "           1                          Sip Ave                             611  \n",
       "           1                JC Medical Center                            1108  \n",
       "           1       Columbus Dr at Exchange Pl                            1147  \n",
       "...                                       ...                             ...  \n",
       "           1                     Glenwood Ave                             348  \n",
       "           1                   Riverview Park                             233  \n",
       "           1            Baldwin at Montgomery                            1575  \n",
       "           1                 Marin Light Rail                            1702  \n",
       "           1                  Jersey & 6th St                            1108  \n",
       "\n",
       "[552 rows x 5 columns]"
      ],
      "text/html": "<div>\n<style scoped>\n    .dataframe tbody tr th:only-of-type {\n        vertical-align: middle;\n    }\n\n    .dataframe tbody tr th {\n        vertical-align: top;\n    }\n\n    .dataframe thead th {\n        text-align: right;\n    }\n</style>\n<table border=\"1\" class=\"dataframe\">\n  <thead>\n    <tr style=\"text-align: right;\">\n      <th></th>\n      <th></th>\n      <th>bikeid</th>\n      <th>birth year</th>\n      <th>start station name</th>\n      <th>end station name</th>\n      <th>bikeid count per start station</th>\n    </tr>\n    <tr>\n      <th>usertype</th>\n      <th>gender</th>\n      <th></th>\n      <th></th>\n      <th></th>\n      <th></th>\n      <th></th>\n    </tr>\n  </thead>\n  <tbody>\n    <tr>\n      <th rowspan=\"11\" valign=\"top\">Subscriber</th>\n      <th>1</th>\n      <td>42255</td>\n      <td>1981</td>\n      <td>Fairmount Ave</td>\n      <td>Sip Ave</td>\n      <td>393</td>\n    </tr>\n    <tr>\n      <th>1</th>\n      <td>42529</td>\n      <td>1964</td>\n      <td>Sip Ave</td>\n      <td>Bergen Ave</td>\n      <td>1575</td>\n    </tr>\n    <tr>\n      <th>1</th>\n      <td>42362</td>\n      <td>1965</td>\n      <td>Lincoln Park</td>\n      <td>Sip Ave</td>\n      <td>611</td>\n    </tr>\n    <tr>\n      <th>1</th>\n      <td>42636</td>\n      <td>1956</td>\n      <td>Newark Ave</td>\n      <td>JC Medical Center</td>\n      <td>1108</td>\n    </tr>\n    <tr>\n      <th>1</th>\n      <td>42336</td>\n      <td>1967</td>\n      <td>Morris Canal</td>\n      <td>Columbus Dr at Exchange Pl</td>\n      <td>1147</td>\n    </tr>\n    <tr>\n      <th>...</th>\n      <td>...</td>\n      <td>...</td>\n      <td>...</td>\n      <td>...</td>\n      <td>...</td>\n    </tr>\n    <tr>\n      <th>1</th>\n      <td>44403</td>\n      <td>1959</td>\n      <td>Glenwood Ave</td>\n      <td>Glenwood Ave</td>\n      <td>348</td>\n    </tr>\n    <tr>\n      <th>1</th>\n      <td>44334</td>\n      <td>1992</td>\n      <td>Riverview Park</td>\n      <td>Riverview Park</td>\n      <td>233</td>\n    </tr>\n    <tr>\n      <th>1</th>\n      <td>44492</td>\n      <td>1988</td>\n      <td>Sip Ave</td>\n      <td>Baldwin at Montgomery</td>\n      <td>1575</td>\n    </tr>\n    <tr>\n      <th>1</th>\n      <td>43489</td>\n      <td>1989</td>\n      <td>Marin Light Rail</td>\n      <td>Marin Light Rail</td>\n      <td>1702</td>\n    </tr>\n    <tr>\n      <th>1</th>\n      <td>44413</td>\n      <td>1970</td>\n      <td>Newark Ave</td>\n      <td>Jersey &amp; 6th St</td>\n      <td>1108</td>\n    </tr>\n  </tbody>\n</table>\n<p>552 rows × 5 columns</p>\n</div>"
     },
     "metadata": {},
     "execution_count": 43
    }
   ],
   "source": [
    "second_male_subscriber_df = second_bikeid_subscriber_df.drop(index=['0', '2'], level=1)\n",
    "second_male_subscriber_df"
   ]
  },
  {
   "cell_type": "code",
   "execution_count": 44,
   "metadata": {},
   "outputs": [],
   "source": [
    "second_male_subscriber_df.to_csv(\"second_qtr_male_subscriber.csv\", index=False)"
   ]
  },
  {
   "cell_type": "code",
   "execution_count": 45,
   "metadata": {},
   "outputs": [
    {
     "output_type": "execute_result",
     "data": {
      "text/plain": [
       "                   bikeid  birth year   start station name  \\\n",
       "usertype   gender                                            \n",
       "Subscriber 2        42146        1963          Oakland Ave   \n",
       "           2        40910        1970        Hamilton Park   \n",
       "           2        42223        1977              Hilltop   \n",
       "           2        42495        1962           Harborside   \n",
       "           2        42473        1971   Liberty Light Rail   \n",
       "...                   ...         ...                  ...   \n",
       "           2        44336        1992   Liberty Light Rail   \n",
       "           2        44433        1988            City Hall   \n",
       "           2        44369        1981  Leonard Gordon Park   \n",
       "           2        44371        1991               Dey St   \n",
       "           2        29855        1992     Marin Light Rail   \n",
       "\n",
       "                             end station name  bikeid count per start station  \n",
       "usertype   gender                                                              \n",
       "Subscriber 2                          Sip Ave                             224  \n",
       "           2                    Grove St PATH                            1733  \n",
       "           2                JC Medical Center                             455  \n",
       "           2                     Morris Canal                            1574  \n",
       "           2               Liberty Light Rail                            1606  \n",
       "...                                       ...                             ...  \n",
       "           2                     Newport Pkwy                            1606  \n",
       "           2       Columbus Dr at Exchange Pl                            1367  \n",
       "           2                     Glenwood Ave                              90  \n",
       "           2                           Dey St                             232  \n",
       "           2                   Columbus Drive                            1702  \n",
       "\n",
       "[226 rows x 5 columns]"
      ],
      "text/html": "<div>\n<style scoped>\n    .dataframe tbody tr th:only-of-type {\n        vertical-align: middle;\n    }\n\n    .dataframe tbody tr th {\n        vertical-align: top;\n    }\n\n    .dataframe thead th {\n        text-align: right;\n    }\n</style>\n<table border=\"1\" class=\"dataframe\">\n  <thead>\n    <tr style=\"text-align: right;\">\n      <th></th>\n      <th></th>\n      <th>bikeid</th>\n      <th>birth year</th>\n      <th>start station name</th>\n      <th>end station name</th>\n      <th>bikeid count per start station</th>\n    </tr>\n    <tr>\n      <th>usertype</th>\n      <th>gender</th>\n      <th></th>\n      <th></th>\n      <th></th>\n      <th></th>\n      <th></th>\n    </tr>\n  </thead>\n  <tbody>\n    <tr>\n      <th rowspan=\"11\" valign=\"top\">Subscriber</th>\n      <th>2</th>\n      <td>42146</td>\n      <td>1963</td>\n      <td>Oakland Ave</td>\n      <td>Sip Ave</td>\n      <td>224</td>\n    </tr>\n    <tr>\n      <th>2</th>\n      <td>40910</td>\n      <td>1970</td>\n      <td>Hamilton Park</td>\n      <td>Grove St PATH</td>\n      <td>1733</td>\n    </tr>\n    <tr>\n      <th>2</th>\n      <td>42223</td>\n      <td>1977</td>\n      <td>Hilltop</td>\n      <td>JC Medical Center</td>\n      <td>455</td>\n    </tr>\n    <tr>\n      <th>2</th>\n      <td>42495</td>\n      <td>1962</td>\n      <td>Harborside</td>\n      <td>Morris Canal</td>\n      <td>1574</td>\n    </tr>\n    <tr>\n      <th>2</th>\n      <td>42473</td>\n      <td>1971</td>\n      <td>Liberty Light Rail</td>\n      <td>Liberty Light Rail</td>\n      <td>1606</td>\n    </tr>\n    <tr>\n      <th>...</th>\n      <td>...</td>\n      <td>...</td>\n      <td>...</td>\n      <td>...</td>\n      <td>...</td>\n    </tr>\n    <tr>\n      <th>2</th>\n      <td>44336</td>\n      <td>1992</td>\n      <td>Liberty Light Rail</td>\n      <td>Newport Pkwy</td>\n      <td>1606</td>\n    </tr>\n    <tr>\n      <th>2</th>\n      <td>44433</td>\n      <td>1988</td>\n      <td>City Hall</td>\n      <td>Columbus Dr at Exchange Pl</td>\n      <td>1367</td>\n    </tr>\n    <tr>\n      <th>2</th>\n      <td>44369</td>\n      <td>1981</td>\n      <td>Leonard Gordon Park</td>\n      <td>Glenwood Ave</td>\n      <td>90</td>\n    </tr>\n    <tr>\n      <th>2</th>\n      <td>44371</td>\n      <td>1991</td>\n      <td>Dey St</td>\n      <td>Dey St</td>\n      <td>232</td>\n    </tr>\n    <tr>\n      <th>2</th>\n      <td>29855</td>\n      <td>1992</td>\n      <td>Marin Light Rail</td>\n      <td>Columbus Drive</td>\n      <td>1702</td>\n    </tr>\n  </tbody>\n</table>\n<p>226 rows × 5 columns</p>\n</div>"
     },
     "metadata": {},
     "execution_count": 45
    }
   ],
   "source": [
    "second_female_subscriber_df = second_bikeid_subscriber_df.drop(index=['0', '1'], level=1)\n",
    "second_female_subscriber_df"
   ]
  },
  {
   "cell_type": "code",
   "execution_count": 46,
   "metadata": {},
   "outputs": [],
   "source": [
    "second_female_subscriber_df.to_csv(\"second_qtr_female_subscriber.csv\", index=False)"
   ]
  },
  {
   "cell_type": "code",
   "execution_count": 48,
   "metadata": {},
   "outputs": [
    {
     "output_type": "execute_result",
     "data": {
      "text/plain": [
       "                   bikeid  birth year     start station name  \\\n",
       "usertype   gender                                              \n",
       "Subscriber 0        25963        1989  Baldwin at Montgomery   \n",
       "           0        42356        1995                 Dey St   \n",
       "           0        42193        1995                 Dey St   \n",
       "           0        42451        1968          Montgomery St   \n",
       "           0        42371        1970                Sip Ave   \n",
       "           0        42232        1989  Baldwin at Montgomery   \n",
       "           0        42434        1997            Oakland Ave   \n",
       "           0        42176        1989        McGinley Square   \n",
       "           0        42609        1997            Oakland Ave   \n",
       "           0        27458        1969          Fairmount Ave   \n",
       "           0        33352        1989                Hilltop   \n",
       "           0        44223        1969            Astor Place   \n",
       "           0        44226        1995                 Dey St   \n",
       "\n",
       "                     end station name  bikeid count per start station  \n",
       "usertype   gender                                                      \n",
       "Subscriber 0            Grove St PATH                             591  \n",
       "           0              Dixon Mills                             232  \n",
       "           0       Liberty Light Rail                             232  \n",
       "           0                  York St                             606  \n",
       "           0             Glenwood Ave                            1575  \n",
       "           0               Bergen Ave                             591  \n",
       "           0               Newark Ave                             224  \n",
       "           0                  Sip Ave                             742  \n",
       "           0               Newark Ave                             224  \n",
       "           0                  Sip Ave                             393  \n",
       "           0               Newark Ave                             455  \n",
       "           0                  Sip Ave                             491  \n",
       "           0              Dixon Mills                             232  "
      ],
      "text/html": "<div>\n<style scoped>\n    .dataframe tbody tr th:only-of-type {\n        vertical-align: middle;\n    }\n\n    .dataframe tbody tr th {\n        vertical-align: top;\n    }\n\n    .dataframe thead th {\n        text-align: right;\n    }\n</style>\n<table border=\"1\" class=\"dataframe\">\n  <thead>\n    <tr style=\"text-align: right;\">\n      <th></th>\n      <th></th>\n      <th>bikeid</th>\n      <th>birth year</th>\n      <th>start station name</th>\n      <th>end station name</th>\n      <th>bikeid count per start station</th>\n    </tr>\n    <tr>\n      <th>usertype</th>\n      <th>gender</th>\n      <th></th>\n      <th></th>\n      <th></th>\n      <th></th>\n      <th></th>\n    </tr>\n  </thead>\n  <tbody>\n    <tr>\n      <th rowspan=\"13\" valign=\"top\">Subscriber</th>\n      <th>0</th>\n      <td>25963</td>\n      <td>1989</td>\n      <td>Baldwin at Montgomery</td>\n      <td>Grove St PATH</td>\n      <td>591</td>\n    </tr>\n    <tr>\n      <th>0</th>\n      <td>42356</td>\n      <td>1995</td>\n      <td>Dey St</td>\n      <td>Dixon Mills</td>\n      <td>232</td>\n    </tr>\n    <tr>\n      <th>0</th>\n      <td>42193</td>\n      <td>1995</td>\n      <td>Dey St</td>\n      <td>Liberty Light Rail</td>\n      <td>232</td>\n    </tr>\n    <tr>\n      <th>0</th>\n      <td>42451</td>\n      <td>1968</td>\n      <td>Montgomery St</td>\n      <td>York St</td>\n      <td>606</td>\n    </tr>\n    <tr>\n      <th>0</th>\n      <td>42371</td>\n      <td>1970</td>\n      <td>Sip Ave</td>\n      <td>Glenwood Ave</td>\n      <td>1575</td>\n    </tr>\n    <tr>\n      <th>0</th>\n      <td>42232</td>\n      <td>1989</td>\n      <td>Baldwin at Montgomery</td>\n      <td>Bergen Ave</td>\n      <td>591</td>\n    </tr>\n    <tr>\n      <th>0</th>\n      <td>42434</td>\n      <td>1997</td>\n      <td>Oakland Ave</td>\n      <td>Newark Ave</td>\n      <td>224</td>\n    </tr>\n    <tr>\n      <th>0</th>\n      <td>42176</td>\n      <td>1989</td>\n      <td>McGinley Square</td>\n      <td>Sip Ave</td>\n      <td>742</td>\n    </tr>\n    <tr>\n      <th>0</th>\n      <td>42609</td>\n      <td>1997</td>\n      <td>Oakland Ave</td>\n      <td>Newark Ave</td>\n      <td>224</td>\n    </tr>\n    <tr>\n      <th>0</th>\n      <td>27458</td>\n      <td>1969</td>\n      <td>Fairmount Ave</td>\n      <td>Sip Ave</td>\n      <td>393</td>\n    </tr>\n    <tr>\n      <th>0</th>\n      <td>33352</td>\n      <td>1989</td>\n      <td>Hilltop</td>\n      <td>Newark Ave</td>\n      <td>455</td>\n    </tr>\n    <tr>\n      <th>0</th>\n      <td>44223</td>\n      <td>1969</td>\n      <td>Astor Place</td>\n      <td>Sip Ave</td>\n      <td>491</td>\n    </tr>\n    <tr>\n      <th>0</th>\n      <td>44226</td>\n      <td>1995</td>\n      <td>Dey St</td>\n      <td>Dixon Mills</td>\n      <td>232</td>\n    </tr>\n  </tbody>\n</table>\n</div>"
     },
     "metadata": {},
     "execution_count": 48
    }
   ],
   "source": [
    "second_unknown_subscriber_df = second_bikeid_subscriber_df.drop(index=['2', '1'], level=1)\n",
    "second_unknown_subscriber_df"
   ]
  },
  {
   "cell_type": "code",
   "execution_count": 50,
   "metadata": {},
   "outputs": [],
   "source": [
    "second_unknown_subscriber_df.to_csv(\"second_qtr_unknown_subscriber.csv\", index=False)"
   ]
  },
  {
   "cell_type": "code",
   "execution_count": 51,
   "metadata": {},
   "outputs": [
    {
     "output_type": "execute_result",
     "data": {
      "text/plain": [
       "                 tripduration                 starttime  \\\n",
       "usertype gender                                           \n",
       "Customer 2               1437  2020-04-01 01:06:20.6300   \n",
       "         1                613  2020-04-01 07:58:29.6170   \n",
       "         0                228  2020-04-01 08:34:01.4890   \n",
       "         1                515  2020-04-01 09:12:16.9040   \n",
       "         0               1271  2020-04-01 10:55:55.9620   \n",
       "\n",
       "                                 stoptime  start station id  \\\n",
       "usertype gender                                               \n",
       "Customer 2       2020-04-01 01:30:17.9680              3678   \n",
       "         1       2020-04-01 08:08:43.3140              3210   \n",
       "         0       2020-04-01 08:37:50.2690              3185   \n",
       "         1       2020-04-01 09:20:51.9840              3276   \n",
       "         0       2020-04-01 11:17:06.9640              3481   \n",
       "\n",
       "                start station name  start station latitude  \\\n",
       "usertype gender                                              \n",
       "Customer 2           Fairmount Ave               40.725726   \n",
       "         1          Pershing Field               40.742677   \n",
       "         0               City Hall               40.717733   \n",
       "         1        Marin Light Rail               40.714584   \n",
       "         0                 York St               40.716490   \n",
       "\n",
       "                 start station longitude  end station id    end station name  \\\n",
       "usertype gender                                                                \n",
       "Customer 2                    -74.071959            3678       Fairmount Ave   \n",
       "         1                    -74.051789            3279         Dixon Mills   \n",
       "         0                    -74.043845            3483       Montgomery St   \n",
       "         1                    -74.042817            3203       Hamilton Park   \n",
       "         0                    -74.041050            3192  Liberty Light Rail   \n",
       "\n",
       "                 end station latitude  end station longitude  bikeid  \\\n",
       "usertype gender                                                        \n",
       "Customer 2                  40.725726             -74.071959   42314   \n",
       "         1                  40.721630             -74.049968   42600   \n",
       "         0                  40.719420             -74.050990   42377   \n",
       "         1                  40.727596             -74.044247   42520   \n",
       "         0                  40.711242             -74.055701   42301   \n",
       "\n",
       "                 birth year  \n",
       "usertype gender              \n",
       "Customer 2             2002  \n",
       "         1             1981  \n",
       "         0             1969  \n",
       "         1             1990  \n",
       "         0             1969  "
      ],
      "text/html": "<div>\n<style scoped>\n    .dataframe tbody tr th:only-of-type {\n        vertical-align: middle;\n    }\n\n    .dataframe tbody tr th {\n        vertical-align: top;\n    }\n\n    .dataframe thead th {\n        text-align: right;\n    }\n</style>\n<table border=\"1\" class=\"dataframe\">\n  <thead>\n    <tr style=\"text-align: right;\">\n      <th></th>\n      <th></th>\n      <th>tripduration</th>\n      <th>starttime</th>\n      <th>stoptime</th>\n      <th>start station id</th>\n      <th>start station name</th>\n      <th>start station latitude</th>\n      <th>start station longitude</th>\n      <th>end station id</th>\n      <th>end station name</th>\n      <th>end station latitude</th>\n      <th>end station longitude</th>\n      <th>bikeid</th>\n      <th>birth year</th>\n    </tr>\n    <tr>\n      <th>usertype</th>\n      <th>gender</th>\n      <th></th>\n      <th></th>\n      <th></th>\n      <th></th>\n      <th></th>\n      <th></th>\n      <th></th>\n      <th></th>\n      <th></th>\n      <th></th>\n      <th></th>\n      <th></th>\n      <th></th>\n    </tr>\n  </thead>\n  <tbody>\n    <tr>\n      <th rowspan=\"5\" valign=\"top\">Customer</th>\n      <th>2</th>\n      <td>1437</td>\n      <td>2020-04-01 01:06:20.6300</td>\n      <td>2020-04-01 01:30:17.9680</td>\n      <td>3678</td>\n      <td>Fairmount Ave</td>\n      <td>40.725726</td>\n      <td>-74.071959</td>\n      <td>3678</td>\n      <td>Fairmount Ave</td>\n      <td>40.725726</td>\n      <td>-74.071959</td>\n      <td>42314</td>\n      <td>2002</td>\n    </tr>\n    <tr>\n      <th>1</th>\n      <td>613</td>\n      <td>2020-04-01 07:58:29.6170</td>\n      <td>2020-04-01 08:08:43.3140</td>\n      <td>3210</td>\n      <td>Pershing Field</td>\n      <td>40.742677</td>\n      <td>-74.051789</td>\n      <td>3279</td>\n      <td>Dixon Mills</td>\n      <td>40.721630</td>\n      <td>-74.049968</td>\n      <td>42600</td>\n      <td>1981</td>\n    </tr>\n    <tr>\n      <th>0</th>\n      <td>228</td>\n      <td>2020-04-01 08:34:01.4890</td>\n      <td>2020-04-01 08:37:50.2690</td>\n      <td>3185</td>\n      <td>City Hall</td>\n      <td>40.717733</td>\n      <td>-74.043845</td>\n      <td>3483</td>\n      <td>Montgomery St</td>\n      <td>40.719420</td>\n      <td>-74.050990</td>\n      <td>42377</td>\n      <td>1969</td>\n    </tr>\n    <tr>\n      <th>1</th>\n      <td>515</td>\n      <td>2020-04-01 09:12:16.9040</td>\n      <td>2020-04-01 09:20:51.9840</td>\n      <td>3276</td>\n      <td>Marin Light Rail</td>\n      <td>40.714584</td>\n      <td>-74.042817</td>\n      <td>3203</td>\n      <td>Hamilton Park</td>\n      <td>40.727596</td>\n      <td>-74.044247</td>\n      <td>42520</td>\n      <td>1990</td>\n    </tr>\n    <tr>\n      <th>0</th>\n      <td>1271</td>\n      <td>2020-04-01 10:55:55.9620</td>\n      <td>2020-04-01 11:17:06.9640</td>\n      <td>3481</td>\n      <td>York St</td>\n      <td>40.716490</td>\n      <td>-74.041050</td>\n      <td>3192</td>\n      <td>Liberty Light Rail</td>\n      <td>40.711242</td>\n      <td>-74.055701</td>\n      <td>42301</td>\n      <td>1969</td>\n    </tr>\n  </tbody>\n</table>\n</div>"
     },
     "metadata": {},
     "execution_count": 51
    }
   ],
   "source": [
    "second_qtr_customer_df = second_qtr_df.drop(index='Subscriber', level=0)\n",
    "second_qtr_customer_df.head()"
   ]
  },
  {
   "cell_type": "code",
   "execution_count": 52,
   "metadata": {},
   "outputs": [
    {
     "output_type": "execute_result",
     "data": {
      "text/plain": [
       "                 bikeid  birth year start station name    end station name\n",
       "usertype gender                                                           \n",
       "Customer 2        42314        2002      Fairmount Ave       Fairmount Ave\n",
       "         1        42600        1981     Pershing Field         Dixon Mills\n",
       "         0        42377        1969          City Hall       Montgomery St\n",
       "         1        42520        1990   Marin Light Rail       Hamilton Park\n",
       "         0        42301        1969            York St  Liberty Light Rail"
      ],
      "text/html": "<div>\n<style scoped>\n    .dataframe tbody tr th:only-of-type {\n        vertical-align: middle;\n    }\n\n    .dataframe tbody tr th {\n        vertical-align: top;\n    }\n\n    .dataframe thead th {\n        text-align: right;\n    }\n</style>\n<table border=\"1\" class=\"dataframe\">\n  <thead>\n    <tr style=\"text-align: right;\">\n      <th></th>\n      <th></th>\n      <th>bikeid</th>\n      <th>birth year</th>\n      <th>start station name</th>\n      <th>end station name</th>\n    </tr>\n    <tr>\n      <th>usertype</th>\n      <th>gender</th>\n      <th></th>\n      <th></th>\n      <th></th>\n      <th></th>\n    </tr>\n  </thead>\n  <tbody>\n    <tr>\n      <th rowspan=\"5\" valign=\"top\">Customer</th>\n      <th>2</th>\n      <td>42314</td>\n      <td>2002</td>\n      <td>Fairmount Ave</td>\n      <td>Fairmount Ave</td>\n    </tr>\n    <tr>\n      <th>1</th>\n      <td>42600</td>\n      <td>1981</td>\n      <td>Pershing Field</td>\n      <td>Dixon Mills</td>\n    </tr>\n    <tr>\n      <th>0</th>\n      <td>42377</td>\n      <td>1969</td>\n      <td>City Hall</td>\n      <td>Montgomery St</td>\n    </tr>\n    <tr>\n      <th>1</th>\n      <td>42520</td>\n      <td>1990</td>\n      <td>Marin Light Rail</td>\n      <td>Hamilton Park</td>\n    </tr>\n    <tr>\n      <th>0</th>\n      <td>42301</td>\n      <td>1969</td>\n      <td>York St</td>\n      <td>Liberty Light Rail</td>\n    </tr>\n  </tbody>\n</table>\n</div>"
     },
     "metadata": {},
     "execution_count": 52
    }
   ],
   "source": [
    "second_qtr_customer_df = second_qtr_customer_df[[\"bikeid\", \"birth year\", \"start station name\", \"end station name\"]]\n",
    "second_qtr_customer_df.head()"
   ]
  },
  {
   "cell_type": "code",
   "execution_count": 53,
   "metadata": {},
   "outputs": [
    {
     "output_type": "execute_result",
     "data": {
      "text/plain": [
       "                 bikeid  birth year start station name    end station name  \\\n",
       "usertype gender                                                              \n",
       "Customer 2        42314        2002      Fairmount Ave       Fairmount Ave   \n",
       "         1        42600        1981     Pershing Field         Dixon Mills   \n",
       "         0        42377        1969          City Hall       Montgomery St   \n",
       "         1        42520        1990   Marin Light Rail       Hamilton Park   \n",
       "         0        42301        1969            York St  Liberty Light Rail   \n",
       "...                 ...         ...                ...                 ...   \n",
       "         0        18351        1969       Newport Pkwy        Newport Pkwy   \n",
       "         0        44401        1969       Newport Pkwy        Newport Pkwy   \n",
       "         0        42334        1969       Newport Pkwy        Newport Pkwy   \n",
       "         0        42463        1969       Newport Pkwy        Newport Pkwy   \n",
       "         2        42468        1998       Newport Pkwy        Newport Pkwy   \n",
       "\n",
       "                 bikeid count per start station  \n",
       "usertype gender                                  \n",
       "Customer 2                                  223  \n",
       "         1                                  388  \n",
       "         0                                  727  \n",
       "         1                                 1205  \n",
       "         0                                  343  \n",
       "...                                         ...  \n",
       "         0                                 2359  \n",
       "         0                                 2359  \n",
       "         0                                 2359  \n",
       "         0                                 2359  \n",
       "         2                                 2359  \n",
       "\n",
       "[31797 rows x 5 columns]"
      ],
      "text/html": "<div>\n<style scoped>\n    .dataframe tbody tr th:only-of-type {\n        vertical-align: middle;\n    }\n\n    .dataframe tbody tr th {\n        vertical-align: top;\n    }\n\n    .dataframe thead th {\n        text-align: right;\n    }\n</style>\n<table border=\"1\" class=\"dataframe\">\n  <thead>\n    <tr style=\"text-align: right;\">\n      <th></th>\n      <th></th>\n      <th>bikeid</th>\n      <th>birth year</th>\n      <th>start station name</th>\n      <th>end station name</th>\n      <th>bikeid count per start station</th>\n    </tr>\n    <tr>\n      <th>usertype</th>\n      <th>gender</th>\n      <th></th>\n      <th></th>\n      <th></th>\n      <th></th>\n      <th></th>\n    </tr>\n  </thead>\n  <tbody>\n    <tr>\n      <th rowspan=\"11\" valign=\"top\">Customer</th>\n      <th>2</th>\n      <td>42314</td>\n      <td>2002</td>\n      <td>Fairmount Ave</td>\n      <td>Fairmount Ave</td>\n      <td>223</td>\n    </tr>\n    <tr>\n      <th>1</th>\n      <td>42600</td>\n      <td>1981</td>\n      <td>Pershing Field</td>\n      <td>Dixon Mills</td>\n      <td>388</td>\n    </tr>\n    <tr>\n      <th>0</th>\n      <td>42377</td>\n      <td>1969</td>\n      <td>City Hall</td>\n      <td>Montgomery St</td>\n      <td>727</td>\n    </tr>\n    <tr>\n      <th>1</th>\n      <td>42520</td>\n      <td>1990</td>\n      <td>Marin Light Rail</td>\n      <td>Hamilton Park</td>\n      <td>1205</td>\n    </tr>\n    <tr>\n      <th>0</th>\n      <td>42301</td>\n      <td>1969</td>\n      <td>York St</td>\n      <td>Liberty Light Rail</td>\n      <td>343</td>\n    </tr>\n    <tr>\n      <th>...</th>\n      <td>...</td>\n      <td>...</td>\n      <td>...</td>\n      <td>...</td>\n      <td>...</td>\n    </tr>\n    <tr>\n      <th>0</th>\n      <td>18351</td>\n      <td>1969</td>\n      <td>Newport Pkwy</td>\n      <td>Newport Pkwy</td>\n      <td>2359</td>\n    </tr>\n    <tr>\n      <th>0</th>\n      <td>44401</td>\n      <td>1969</td>\n      <td>Newport Pkwy</td>\n      <td>Newport Pkwy</td>\n      <td>2359</td>\n    </tr>\n    <tr>\n      <th>0</th>\n      <td>42334</td>\n      <td>1969</td>\n      <td>Newport Pkwy</td>\n      <td>Newport Pkwy</td>\n      <td>2359</td>\n    </tr>\n    <tr>\n      <th>0</th>\n      <td>42463</td>\n      <td>1969</td>\n      <td>Newport Pkwy</td>\n      <td>Newport Pkwy</td>\n      <td>2359</td>\n    </tr>\n    <tr>\n      <th>2</th>\n      <td>42468</td>\n      <td>1998</td>\n      <td>Newport Pkwy</td>\n      <td>Newport Pkwy</td>\n      <td>2359</td>\n    </tr>\n  </tbody>\n</table>\n<p>31797 rows × 5 columns</p>\n</div>"
     },
     "metadata": {},
     "execution_count": 53
    }
   ],
   "source": [
    "second_qtr_customer_df[\"bikeid count per start station\"] = second_qtr_customer_df.groupby(\"start station name\")[\"bikeid\"].transform(len)\n",
    "second_qtr_customer_df"
   ]
  },
  {
   "cell_type": "code",
   "execution_count": 54,
   "metadata": {},
   "outputs": [
    {
     "output_type": "execute_result",
     "data": {
      "text/plain": [
       "                 bikeid  birth year start station name       end station name  \\\n",
       "usertype gender                                                                 \n",
       "Customer 2        42314        2002      Fairmount Ave          Fairmount Ave   \n",
       "         1        42600        1981     Pershing Field            Dixon Mills   \n",
       "         0        42377        1969          City Hall          Montgomery St   \n",
       "         1        42520        1990   Marin Light Rail          Hamilton Park   \n",
       "         0        42301        1969            York St     Liberty Light Rail   \n",
       "...                 ...         ...                ...                    ...   \n",
       "         2        44421        1996    McGinley Square                Sip Ave   \n",
       "         1        44492        1996    McGinley Square                Sip Ave   \n",
       "         1        37829        2002         Newark Ave  Baldwin at Montgomery   \n",
       "         2        43489        1989   Marin Light Rail       Marin Light Rail   \n",
       "         0        44369        1969      Hamilton Park          Hamilton Park   \n",
       "\n",
       "                 bikeid count per start station  \n",
       "usertype gender                                  \n",
       "Customer 2                                  223  \n",
       "         1                                  388  \n",
       "         0                                  727  \n",
       "         1                                 1205  \n",
       "         0                                  343  \n",
       "...                                         ...  \n",
       "         2                                  306  \n",
       "         1                                  306  \n",
       "         1                                  582  \n",
       "         2                                 1205  \n",
       "         0                                 1305  \n",
       "\n",
       "[783 rows x 5 columns]"
      ],
      "text/html": "<div>\n<style scoped>\n    .dataframe tbody tr th:only-of-type {\n        vertical-align: middle;\n    }\n\n    .dataframe tbody tr th {\n        vertical-align: top;\n    }\n\n    .dataframe thead th {\n        text-align: right;\n    }\n</style>\n<table border=\"1\" class=\"dataframe\">\n  <thead>\n    <tr style=\"text-align: right;\">\n      <th></th>\n      <th></th>\n      <th>bikeid</th>\n      <th>birth year</th>\n      <th>start station name</th>\n      <th>end station name</th>\n      <th>bikeid count per start station</th>\n    </tr>\n    <tr>\n      <th>usertype</th>\n      <th>gender</th>\n      <th></th>\n      <th></th>\n      <th></th>\n      <th></th>\n      <th></th>\n    </tr>\n  </thead>\n  <tbody>\n    <tr>\n      <th rowspan=\"11\" valign=\"top\">Customer</th>\n      <th>2</th>\n      <td>42314</td>\n      <td>2002</td>\n      <td>Fairmount Ave</td>\n      <td>Fairmount Ave</td>\n      <td>223</td>\n    </tr>\n    <tr>\n      <th>1</th>\n      <td>42600</td>\n      <td>1981</td>\n      <td>Pershing Field</td>\n      <td>Dixon Mills</td>\n      <td>388</td>\n    </tr>\n    <tr>\n      <th>0</th>\n      <td>42377</td>\n      <td>1969</td>\n      <td>City Hall</td>\n      <td>Montgomery St</td>\n      <td>727</td>\n    </tr>\n    <tr>\n      <th>1</th>\n      <td>42520</td>\n      <td>1990</td>\n      <td>Marin Light Rail</td>\n      <td>Hamilton Park</td>\n      <td>1205</td>\n    </tr>\n    <tr>\n      <th>0</th>\n      <td>42301</td>\n      <td>1969</td>\n      <td>York St</td>\n      <td>Liberty Light Rail</td>\n      <td>343</td>\n    </tr>\n    <tr>\n      <th>...</th>\n      <td>...</td>\n      <td>...</td>\n      <td>...</td>\n      <td>...</td>\n      <td>...</td>\n    </tr>\n    <tr>\n      <th>2</th>\n      <td>44421</td>\n      <td>1996</td>\n      <td>McGinley Square</td>\n      <td>Sip Ave</td>\n      <td>306</td>\n    </tr>\n    <tr>\n      <th>1</th>\n      <td>44492</td>\n      <td>1996</td>\n      <td>McGinley Square</td>\n      <td>Sip Ave</td>\n      <td>306</td>\n    </tr>\n    <tr>\n      <th>1</th>\n      <td>37829</td>\n      <td>2002</td>\n      <td>Newark Ave</td>\n      <td>Baldwin at Montgomery</td>\n      <td>582</td>\n    </tr>\n    <tr>\n      <th>2</th>\n      <td>43489</td>\n      <td>1989</td>\n      <td>Marin Light Rail</td>\n      <td>Marin Light Rail</td>\n      <td>1205</td>\n    </tr>\n    <tr>\n      <th>0</th>\n      <td>44369</td>\n      <td>1969</td>\n      <td>Hamilton Park</td>\n      <td>Hamilton Park</td>\n      <td>1305</td>\n    </tr>\n  </tbody>\n</table>\n<p>783 rows × 5 columns</p>\n</div>"
     },
     "metadata": {},
     "execution_count": 54
    }
   ],
   "source": [
    "second_bikeid_customer_df = second_qtr_customer_df.drop_duplicates(subset=['bikeid'])\n",
    "second_bikeid_customer_df"
   ]
  },
  {
   "cell_type": "code",
   "execution_count": 55,
   "metadata": {},
   "outputs": [
    {
     "output_type": "execute_result",
     "data": {
      "text/plain": [
       "                 bikeid  birth year  start station name  \\\n",
       "usertype gender                                           \n",
       "Customer 1        42600        1981      Pershing Field   \n",
       "         1        42520        1990    Marin Light Rail   \n",
       "         1        42181        1982  Liberty Light Rail   \n",
       "         1        42199        1986  Liberty Light Rail   \n",
       "         1        42505        1989    Marin Light Rail   \n",
       "...                 ...         ...                 ...   \n",
       "         1        44371        1992              Dey St   \n",
       "         1        44399        1994              Dey St   \n",
       "         1        29855        1991      Columbus Drive   \n",
       "         1        44492        1996     McGinley Square   \n",
       "         1        37829        2002          Newark Ave   \n",
       "\n",
       "                      end station name  bikeid count per start station  \n",
       "usertype gender                                                         \n",
       "Customer 1                 Dixon Mills                             388  \n",
       "         1               Hamilton Park                            1205  \n",
       "         1          Liberty Light Rail                            3710  \n",
       "         1          Liberty Light Rail                            3710  \n",
       "         1            Marin Light Rail                            1205  \n",
       "...                                ...                             ...  \n",
       "         1                      Dey St                             171  \n",
       "         1                      Dey St                             171  \n",
       "         1           JC Medical Center                             765  \n",
       "         1                     Sip Ave                             306  \n",
       "         1       Baldwin at Montgomery                             582  \n",
       "\n",
       "[260 rows x 5 columns]"
      ],
      "text/html": "<div>\n<style scoped>\n    .dataframe tbody tr th:only-of-type {\n        vertical-align: middle;\n    }\n\n    .dataframe tbody tr th {\n        vertical-align: top;\n    }\n\n    .dataframe thead th {\n        text-align: right;\n    }\n</style>\n<table border=\"1\" class=\"dataframe\">\n  <thead>\n    <tr style=\"text-align: right;\">\n      <th></th>\n      <th></th>\n      <th>bikeid</th>\n      <th>birth year</th>\n      <th>start station name</th>\n      <th>end station name</th>\n      <th>bikeid count per start station</th>\n    </tr>\n    <tr>\n      <th>usertype</th>\n      <th>gender</th>\n      <th></th>\n      <th></th>\n      <th></th>\n      <th></th>\n      <th></th>\n    </tr>\n  </thead>\n  <tbody>\n    <tr>\n      <th rowspan=\"11\" valign=\"top\">Customer</th>\n      <th>1</th>\n      <td>42600</td>\n      <td>1981</td>\n      <td>Pershing Field</td>\n      <td>Dixon Mills</td>\n      <td>388</td>\n    </tr>\n    <tr>\n      <th>1</th>\n      <td>42520</td>\n      <td>1990</td>\n      <td>Marin Light Rail</td>\n      <td>Hamilton Park</td>\n      <td>1205</td>\n    </tr>\n    <tr>\n      <th>1</th>\n      <td>42181</td>\n      <td>1982</td>\n      <td>Liberty Light Rail</td>\n      <td>Liberty Light Rail</td>\n      <td>3710</td>\n    </tr>\n    <tr>\n      <th>1</th>\n      <td>42199</td>\n      <td>1986</td>\n      <td>Liberty Light Rail</td>\n      <td>Liberty Light Rail</td>\n      <td>3710</td>\n    </tr>\n    <tr>\n      <th>1</th>\n      <td>42505</td>\n      <td>1989</td>\n      <td>Marin Light Rail</td>\n      <td>Marin Light Rail</td>\n      <td>1205</td>\n    </tr>\n    <tr>\n      <th>...</th>\n      <td>...</td>\n      <td>...</td>\n      <td>...</td>\n      <td>...</td>\n      <td>...</td>\n    </tr>\n    <tr>\n      <th>1</th>\n      <td>44371</td>\n      <td>1992</td>\n      <td>Dey St</td>\n      <td>Dey St</td>\n      <td>171</td>\n    </tr>\n    <tr>\n      <th>1</th>\n      <td>44399</td>\n      <td>1994</td>\n      <td>Dey St</td>\n      <td>Dey St</td>\n      <td>171</td>\n    </tr>\n    <tr>\n      <th>1</th>\n      <td>29855</td>\n      <td>1991</td>\n      <td>Columbus Drive</td>\n      <td>JC Medical Center</td>\n      <td>765</td>\n    </tr>\n    <tr>\n      <th>1</th>\n      <td>44492</td>\n      <td>1996</td>\n      <td>McGinley Square</td>\n      <td>Sip Ave</td>\n      <td>306</td>\n    </tr>\n    <tr>\n      <th>1</th>\n      <td>37829</td>\n      <td>2002</td>\n      <td>Newark Ave</td>\n      <td>Baldwin at Montgomery</td>\n      <td>582</td>\n    </tr>\n  </tbody>\n</table>\n<p>260 rows × 5 columns</p>\n</div>"
     },
     "metadata": {},
     "execution_count": 55
    }
   ],
   "source": [
    "second_male_customer_df = second_bikeid_customer_df.drop(index=['0', '2'], level=1)\n",
    "second_male_customer_df"
   ]
  },
  {
   "cell_type": "code",
   "execution_count": 56,
   "metadata": {},
   "outputs": [],
   "source": [
    "second_male_customer_df.to_csv(\"second_qtr_male_customer.csv\", index=False)"
   ]
  },
  {
   "cell_type": "code",
   "execution_count": null,
   "metadata": {},
   "outputs": [],
   "source": [
    "second_female_customer_df = second_bikeid_customer_df.drop(index=['0', '1'], level=1)\n",
    "second_female_customer_df"
   ]
  },
  {
   "cell_type": "code",
   "execution_count": null,
   "metadata": {},
   "outputs": [],
   "source": [
    "second_female_customer_df.to_csv(\"second_qtr_female_customer.csv\", index=False)"
   ]
  },
  {
   "cell_type": "code",
   "execution_count": null,
   "metadata": {},
   "outputs": [],
   "source": [
    "second_unknown_costumer_df = second_bikeid_customer_df.drop(index=['2', '1'], level=1)\n",
    "second_unknown_customer_df"
   ]
  },
  {
   "cell_type": "code",
   "execution_count": null,
   "metadata": {},
   "outputs": [],
   "source": [
    "second_unknown_costumer_df.to_csv(\"second_qtr_unknown_costumer.csv\", index=False)"
   ]
  },
  {
   "cell_type": "code",
   "execution_count": 28,
   "metadata": {},
   "outputs": [],
   "source": [
    "# second_qtr_subscriber_df.to_csv(\"second_qtr_subscriber.csv\", index=False)"
   ]
  },
  {
   "cell_type": "code",
   "execution_count": 29,
   "metadata": {},
   "outputs": [],
   "source": [
    "# second_qtr_customer_df.to_csv(\"second_qtr_customer.csv\", index=False)"
   ]
  },
  {
   "cell_type": "code",
   "execution_count": 78,
   "metadata": {},
   "outputs": [
    {
     "output_type": "execute_result",
     "data": {
      "text/plain": [
       "                   tripduration                 starttime  \\\n",
       "usertype   gender                                           \n",
       "Customer   0               2333  2020-07-01 00:23:19.8220   \n",
       "Subscriber 1               1203  2020-07-01 00:27:45.2420   \n",
       "           1                786  2020-07-01 00:34:17.8680   \n",
       "           2               1488  2020-07-01 00:51:07.5310   \n",
       "           1               2682  2020-07-01 00:51:16.3880   \n",
       "...                         ...                       ...   \n",
       "           2                270  2020-10-13 15:05:35.0860   \n",
       "           1                400  2020-10-13 15:09:03.4890   \n",
       "           1                206  2020-10-13 15:11:34.3500   \n",
       "           1                216  2020-10-13 15:11:49.1510   \n",
       "           1                418  2020-10-13 15:12:31.7920   \n",
       "\n",
       "                                   stoptime  start station id  \\\n",
       "usertype   gender                                               \n",
       "Customer   0       2020-07-01 01:02:13.2980              3694   \n",
       "Subscriber 1       2020-07-01 00:47:49.1960              3791   \n",
       "           1       2020-07-01 00:47:24.6310              3792   \n",
       "           2       2020-07-01 01:15:56.0200              3677   \n",
       "           1       2020-07-01 01:35:58.4590              3191   \n",
       "...                                     ...               ...   \n",
       "           2       2020-10-13 15:10:05.3430              3207   \n",
       "           1       2020-10-13 15:15:43.9750              3209   \n",
       "           1       2020-10-13 15:15:00.5030              3195   \n",
       "           1       2020-10-13 15:15:25.6930              3195   \n",
       "           1       2020-10-13 15:19:30.5280              3267   \n",
       "\n",
       "                           start station name  start station latitude  \\\n",
       "usertype   gender                                                       \n",
       "Customer   0                   Jackson Square               40.711130   \n",
       "Subscriber 1       Hoboken Ave at Monmouth St               40.735208   \n",
       "           1       Columbus Dr at Exchange Pl               40.716870   \n",
       "           2                     Glenwood Ave               40.727551   \n",
       "           1                         Union St               40.718211   \n",
       "...                                       ...                     ...   \n",
       "           2                      Oakland Ave               40.737604   \n",
       "           1                     Brunswick St               40.724176   \n",
       "           1                          Sip Ave               40.730897   \n",
       "           1                          Sip Ave               40.730897   \n",
       "           1                     Morris Canal               40.712419   \n",
       "\n",
       "                   start station longitude  end station id  \\\n",
       "usertype   gender                                            \n",
       "Customer   0                    -74.078900            3276   \n",
       "Subscriber 1                    -74.046964            3202   \n",
       "           1                    -74.032810            3225   \n",
       "           2                    -74.071061            3194   \n",
       "           1                    -74.083639            3193   \n",
       "...                                    ...             ...   \n",
       "           2                    -74.052478            3640   \n",
       "           1                    -74.050656            3209   \n",
       "           1                    -74.063913            3194   \n",
       "           1                    -74.063913            3225   \n",
       "           1                    -74.038526            3186   \n",
       "\n",
       "                        end station name  end station latitude  \\\n",
       "usertype   gender                                                \n",
       "Customer   0            Marin Light Rail             40.714584   \n",
       "Subscriber 1                Newport PATH             40.727224   \n",
       "           1       Baldwin at Montgomery             40.723659   \n",
       "           2             McGinley Square             40.725340   \n",
       "           1                Lincoln Park             40.724605   \n",
       "...                                  ...                   ...   \n",
       "           2              Journal Square             40.733670   \n",
       "           1                Brunswick St             40.724176   \n",
       "           1             McGinley Square             40.725340   \n",
       "           1       Baldwin at Montgomery             40.723659   \n",
       "           1               Grove St PATH             40.719586   \n",
       "\n",
       "                   end station longitude  bikeid  birth year  \n",
       "usertype   gender                                             \n",
       "Customer   0                  -74.042817   42579        1969  \n",
       "Subscriber 1                  -74.033759   42564        1965  \n",
       "           1                  -74.064194   42219        1994  \n",
       "           2                  -74.067622   44424        1995  \n",
       "           1                  -74.078406   42186        1993  \n",
       "...                                  ...     ...         ...  \n",
       "           2                  -74.062500   44744        1963  \n",
       "           1                  -74.050656   45345        1984  \n",
       "           1                  -74.067622   47019        1993  \n",
       "           1                  -74.064194   42191        1966  \n",
       "           1                  -74.043117   47255        1991  \n",
       "\n",
       "[135780 rows x 13 columns]"
      ],
      "text/html": "<div>\n<style scoped>\n    .dataframe tbody tr th:only-of-type {\n        vertical-align: middle;\n    }\n\n    .dataframe tbody tr th {\n        vertical-align: top;\n    }\n\n    .dataframe thead th {\n        text-align: right;\n    }\n</style>\n<table border=\"1\" class=\"dataframe\">\n  <thead>\n    <tr style=\"text-align: right;\">\n      <th></th>\n      <th></th>\n      <th>tripduration</th>\n      <th>starttime</th>\n      <th>stoptime</th>\n      <th>start station id</th>\n      <th>start station name</th>\n      <th>start station latitude</th>\n      <th>start station longitude</th>\n      <th>end station id</th>\n      <th>end station name</th>\n      <th>end station latitude</th>\n      <th>end station longitude</th>\n      <th>bikeid</th>\n      <th>birth year</th>\n    </tr>\n    <tr>\n      <th>usertype</th>\n      <th>gender</th>\n      <th></th>\n      <th></th>\n      <th></th>\n      <th></th>\n      <th></th>\n      <th></th>\n      <th></th>\n      <th></th>\n      <th></th>\n      <th></th>\n      <th></th>\n      <th></th>\n      <th></th>\n    </tr>\n  </thead>\n  <tbody>\n    <tr>\n      <th>Customer</th>\n      <th>0</th>\n      <td>2333</td>\n      <td>2020-07-01 00:23:19.8220</td>\n      <td>2020-07-01 01:02:13.2980</td>\n      <td>3694</td>\n      <td>Jackson Square</td>\n      <td>40.711130</td>\n      <td>-74.078900</td>\n      <td>3276</td>\n      <td>Marin Light Rail</td>\n      <td>40.714584</td>\n      <td>-74.042817</td>\n      <td>42579</td>\n      <td>1969</td>\n    </tr>\n    <tr>\n      <th rowspan=\"10\" valign=\"top\">Subscriber</th>\n      <th>1</th>\n      <td>1203</td>\n      <td>2020-07-01 00:27:45.2420</td>\n      <td>2020-07-01 00:47:49.1960</td>\n      <td>3791</td>\n      <td>Hoboken Ave at Monmouth St</td>\n      <td>40.735208</td>\n      <td>-74.046964</td>\n      <td>3202</td>\n      <td>Newport PATH</td>\n      <td>40.727224</td>\n      <td>-74.033759</td>\n      <td>42564</td>\n      <td>1965</td>\n    </tr>\n    <tr>\n      <th>1</th>\n      <td>786</td>\n      <td>2020-07-01 00:34:17.8680</td>\n      <td>2020-07-01 00:47:24.6310</td>\n      <td>3792</td>\n      <td>Columbus Dr at Exchange Pl</td>\n      <td>40.716870</td>\n      <td>-74.032810</td>\n      <td>3225</td>\n      <td>Baldwin at Montgomery</td>\n      <td>40.723659</td>\n      <td>-74.064194</td>\n      <td>42219</td>\n      <td>1994</td>\n    </tr>\n    <tr>\n      <th>2</th>\n      <td>1488</td>\n      <td>2020-07-01 00:51:07.5310</td>\n      <td>2020-07-01 01:15:56.0200</td>\n      <td>3677</td>\n      <td>Glenwood Ave</td>\n      <td>40.727551</td>\n      <td>-74.071061</td>\n      <td>3194</td>\n      <td>McGinley Square</td>\n      <td>40.725340</td>\n      <td>-74.067622</td>\n      <td>44424</td>\n      <td>1995</td>\n    </tr>\n    <tr>\n      <th>1</th>\n      <td>2682</td>\n      <td>2020-07-01 00:51:16.3880</td>\n      <td>2020-07-01 01:35:58.4590</td>\n      <td>3191</td>\n      <td>Union St</td>\n      <td>40.718211</td>\n      <td>-74.083639</td>\n      <td>3193</td>\n      <td>Lincoln Park</td>\n      <td>40.724605</td>\n      <td>-74.078406</td>\n      <td>42186</td>\n      <td>1993</td>\n    </tr>\n    <tr>\n      <th>...</th>\n      <td>...</td>\n      <td>...</td>\n      <td>...</td>\n      <td>...</td>\n      <td>...</td>\n      <td>...</td>\n      <td>...</td>\n      <td>...</td>\n      <td>...</td>\n      <td>...</td>\n      <td>...</td>\n      <td>...</td>\n      <td>...</td>\n    </tr>\n    <tr>\n      <th>2</th>\n      <td>270</td>\n      <td>2020-10-13 15:05:35.0860</td>\n      <td>2020-10-13 15:10:05.3430</td>\n      <td>3207</td>\n      <td>Oakland Ave</td>\n      <td>40.737604</td>\n      <td>-74.052478</td>\n      <td>3640</td>\n      <td>Journal Square</td>\n      <td>40.733670</td>\n      <td>-74.062500</td>\n      <td>44744</td>\n      <td>1963</td>\n    </tr>\n    <tr>\n      <th>1</th>\n      <td>400</td>\n      <td>2020-10-13 15:09:03.4890</td>\n      <td>2020-10-13 15:15:43.9750</td>\n      <td>3209</td>\n      <td>Brunswick St</td>\n      <td>40.724176</td>\n      <td>-74.050656</td>\n      <td>3209</td>\n      <td>Brunswick St</td>\n      <td>40.724176</td>\n      <td>-74.050656</td>\n      <td>45345</td>\n      <td>1984</td>\n    </tr>\n    <tr>\n      <th>1</th>\n      <td>206</td>\n      <td>2020-10-13 15:11:34.3500</td>\n      <td>2020-10-13 15:15:00.5030</td>\n      <td>3195</td>\n      <td>Sip Ave</td>\n      <td>40.730897</td>\n      <td>-74.063913</td>\n      <td>3194</td>\n      <td>McGinley Square</td>\n      <td>40.725340</td>\n      <td>-74.067622</td>\n      <td>47019</td>\n      <td>1993</td>\n    </tr>\n    <tr>\n      <th>1</th>\n      <td>216</td>\n      <td>2020-10-13 15:11:49.1510</td>\n      <td>2020-10-13 15:15:25.6930</td>\n      <td>3195</td>\n      <td>Sip Ave</td>\n      <td>40.730897</td>\n      <td>-74.063913</td>\n      <td>3225</td>\n      <td>Baldwin at Montgomery</td>\n      <td>40.723659</td>\n      <td>-74.064194</td>\n      <td>42191</td>\n      <td>1966</td>\n    </tr>\n    <tr>\n      <th>1</th>\n      <td>418</td>\n      <td>2020-10-13 15:12:31.7920</td>\n      <td>2020-10-13 15:19:30.5280</td>\n      <td>3267</td>\n      <td>Morris Canal</td>\n      <td>40.712419</td>\n      <td>-74.038526</td>\n      <td>3186</td>\n      <td>Grove St PATH</td>\n      <td>40.719586</td>\n      <td>-74.043117</td>\n      <td>47255</td>\n      <td>1991</td>\n    </tr>\n  </tbody>\n</table>\n<p>135780 rows × 13 columns</p>\n</div>"
     },
     "metadata": {},
     "execution_count": 78
    }
   ],
   "source": [
    "third_qtr_df = third_qtr.set_index([\"usertype\", \"gender\"])\n",
    "third_qtr_df"
   ]
  },
  {
   "cell_type": "code",
   "execution_count": 79,
   "metadata": {},
   "outputs": [
    {
     "output_type": "execute_result",
     "data": {
      "text/plain": [
       "                   tripduration                 starttime  \\\n",
       "usertype   gender                                           \n",
       "Subscriber 1               1203  2020-07-01 00:27:45.2420   \n",
       "           1                786  2020-07-01 00:34:17.8680   \n",
       "           2               1488  2020-07-01 00:51:07.5310   \n",
       "           1               2682  2020-07-01 00:51:16.3880   \n",
       "           1                824  2020-07-01 01:29:46.1440   \n",
       "\n",
       "                                   stoptime  start station id  \\\n",
       "usertype   gender                                               \n",
       "Subscriber 1       2020-07-01 00:47:49.1960              3791   \n",
       "           1       2020-07-01 00:47:24.6310              3792   \n",
       "           2       2020-07-01 01:15:56.0200              3677   \n",
       "           1       2020-07-01 01:35:58.4590              3191   \n",
       "           1       2020-07-01 01:43:30.2360              3186   \n",
       "\n",
       "                           start station name  start station latitude  \\\n",
       "usertype   gender                                                       \n",
       "Subscriber 1       Hoboken Ave at Monmouth St               40.735208   \n",
       "           1       Columbus Dr at Exchange Pl               40.716870   \n",
       "           2                     Glenwood Ave               40.727551   \n",
       "           1                         Union St               40.718211   \n",
       "           1                    Grove St PATH               40.719586   \n",
       "\n",
       "                   start station longitude  end station id  \\\n",
       "usertype   gender                                            \n",
       "Subscriber 1                    -74.046964            3202   \n",
       "           1                    -74.032810            3225   \n",
       "           2                    -74.071061            3194   \n",
       "           1                    -74.083639            3193   \n",
       "           1                    -74.043117            3195   \n",
       "\n",
       "                        end station name  end station latitude  \\\n",
       "usertype   gender                                                \n",
       "Subscriber 1                Newport PATH             40.727224   \n",
       "           1       Baldwin at Montgomery             40.723659   \n",
       "           2             McGinley Square             40.725340   \n",
       "           1                Lincoln Park             40.724605   \n",
       "           1                     Sip Ave             40.730897   \n",
       "\n",
       "                   end station longitude  bikeid  birth year  \n",
       "usertype   gender                                             \n",
       "Subscriber 1                  -74.033759   42564        1965  \n",
       "           1                  -74.064194   42219        1994  \n",
       "           2                  -74.067622   44424        1995  \n",
       "           1                  -74.078406   42186        1993  \n",
       "           1                  -74.063913   44225        1986  "
      ],
      "text/html": "<div>\n<style scoped>\n    .dataframe tbody tr th:only-of-type {\n        vertical-align: middle;\n    }\n\n    .dataframe tbody tr th {\n        vertical-align: top;\n    }\n\n    .dataframe thead th {\n        text-align: right;\n    }\n</style>\n<table border=\"1\" class=\"dataframe\">\n  <thead>\n    <tr style=\"text-align: right;\">\n      <th></th>\n      <th></th>\n      <th>tripduration</th>\n      <th>starttime</th>\n      <th>stoptime</th>\n      <th>start station id</th>\n      <th>start station name</th>\n      <th>start station latitude</th>\n      <th>start station longitude</th>\n      <th>end station id</th>\n      <th>end station name</th>\n      <th>end station latitude</th>\n      <th>end station longitude</th>\n      <th>bikeid</th>\n      <th>birth year</th>\n    </tr>\n    <tr>\n      <th>usertype</th>\n      <th>gender</th>\n      <th></th>\n      <th></th>\n      <th></th>\n      <th></th>\n      <th></th>\n      <th></th>\n      <th></th>\n      <th></th>\n      <th></th>\n      <th></th>\n      <th></th>\n      <th></th>\n      <th></th>\n    </tr>\n  </thead>\n  <tbody>\n    <tr>\n      <th rowspan=\"5\" valign=\"top\">Subscriber</th>\n      <th>1</th>\n      <td>1203</td>\n      <td>2020-07-01 00:27:45.2420</td>\n      <td>2020-07-01 00:47:49.1960</td>\n      <td>3791</td>\n      <td>Hoboken Ave at Monmouth St</td>\n      <td>40.735208</td>\n      <td>-74.046964</td>\n      <td>3202</td>\n      <td>Newport PATH</td>\n      <td>40.727224</td>\n      <td>-74.033759</td>\n      <td>42564</td>\n      <td>1965</td>\n    </tr>\n    <tr>\n      <th>1</th>\n      <td>786</td>\n      <td>2020-07-01 00:34:17.8680</td>\n      <td>2020-07-01 00:47:24.6310</td>\n      <td>3792</td>\n      <td>Columbus Dr at Exchange Pl</td>\n      <td>40.716870</td>\n      <td>-74.032810</td>\n      <td>3225</td>\n      <td>Baldwin at Montgomery</td>\n      <td>40.723659</td>\n      <td>-74.064194</td>\n      <td>42219</td>\n      <td>1994</td>\n    </tr>\n    <tr>\n      <th>2</th>\n      <td>1488</td>\n      <td>2020-07-01 00:51:07.5310</td>\n      <td>2020-07-01 01:15:56.0200</td>\n      <td>3677</td>\n      <td>Glenwood Ave</td>\n      <td>40.727551</td>\n      <td>-74.071061</td>\n      <td>3194</td>\n      <td>McGinley Square</td>\n      <td>40.725340</td>\n      <td>-74.067622</td>\n      <td>44424</td>\n      <td>1995</td>\n    </tr>\n    <tr>\n      <th>1</th>\n      <td>2682</td>\n      <td>2020-07-01 00:51:16.3880</td>\n      <td>2020-07-01 01:35:58.4590</td>\n      <td>3191</td>\n      <td>Union St</td>\n      <td>40.718211</td>\n      <td>-74.083639</td>\n      <td>3193</td>\n      <td>Lincoln Park</td>\n      <td>40.724605</td>\n      <td>-74.078406</td>\n      <td>42186</td>\n      <td>1993</td>\n    </tr>\n    <tr>\n      <th>1</th>\n      <td>824</td>\n      <td>2020-07-01 01:29:46.1440</td>\n      <td>2020-07-01 01:43:30.2360</td>\n      <td>3186</td>\n      <td>Grove St PATH</td>\n      <td>40.719586</td>\n      <td>-74.043117</td>\n      <td>3195</td>\n      <td>Sip Ave</td>\n      <td>40.730897</td>\n      <td>-74.063913</td>\n      <td>44225</td>\n      <td>1986</td>\n    </tr>\n  </tbody>\n</table>\n</div>"
     },
     "metadata": {},
     "execution_count": 79
    }
   ],
   "source": [
    "third_qtr_subscriber_df = third_qtr_df.drop(index='Customer', level=0)\n",
    "third_qtr_subscriber_df.head()"
   ]
  },
  {
   "cell_type": "code",
   "execution_count": null,
   "metadata": {},
   "outputs": [],
   "source": [
    "third_qtr_subscriber_df = third_qtr_subscriber_df[[\"bikeid\", \"birth year\", \"start station name\", \"end station name\"]]\n",
    "third_qtr_subscriber_df.head()"
   ]
  },
  {
   "cell_type": "code",
   "execution_count": null,
   "metadata": {},
   "outputs": [],
   "source": [
    "third_qtr_subscriber_df[\"bikeid count per start station\"] = third_qtr_subscriber_df.groupby(\"start station name\")[\"bikeid\"].transform(len)\n",
    "third_qtr_subscriber_df"
   ]
  },
  {
   "cell_type": "code",
   "execution_count": null,
   "metadata": {},
   "outputs": [],
   "source": [
    "third_bikeid_subscriber_df = third_qtr_subscriber_df.drop_duplicates(subset=['bikeid'])\n",
    "third_bikeid_subscriber_df"
   ]
  },
  {
   "cell_type": "code",
   "execution_count": null,
   "metadata": {},
   "outputs": [],
   "source": [
    "third_male_subscriber_df = third_bikeid_subscriber_df.drop(index=['0', '2'], level=1)\n",
    "third_male_subscriber_df"
   ]
  },
  {
   "cell_type": "code",
   "execution_count": null,
   "metadata": {},
   "outputs": [],
   "source": [
    "third_male_subscriber_df.to_csv(\"third_qtr_male_subscriber.csv\", index=False)"
   ]
  },
  {
   "cell_type": "code",
   "execution_count": null,
   "metadata": {},
   "outputs": [],
   "source": [
    "third_female_subscriber_df = third_bikeid_subscriber_df.drop(index=['0', '1'], level=1)\n",
    "third_female_subscriber_df"
   ]
  },
  {
   "cell_type": "code",
   "execution_count": null,
   "metadata": {},
   "outputs": [],
   "source": [
    "third_female_subscriber_df.to_csv(\"third_qtr_female_subscriber.csv\", index=False)"
   ]
  },
  {
   "cell_type": "code",
   "execution_count": null,
   "metadata": {},
   "outputs": [],
   "source": [
    "third_unknown_subscriber_df = third_bikeid_subscriber_df.drop(index=['2', '1'], level=1)\n",
    "third_unknown_subscriber_df"
   ]
  },
  {
   "cell_type": "code",
   "execution_count": null,
   "metadata": {},
   "outputs": [],
   "source": [
    "third_unknown_subscriber_df.to_csv(\"third_qtr_unknown_subscriber.csv\", index=False)"
   ]
  },
  {
   "cell_type": "code",
   "execution_count": 81,
   "metadata": {},
   "outputs": [
    {
     "output_type": "execute_result",
     "data": {
      "text/plain": [
       "                 tripduration                 starttime  \\\n",
       "usertype gender                                           \n",
       "Customer 0               2333  2020-07-01 00:23:19.8220   \n",
       "         0                750  2020-07-01 01:05:08.8790   \n",
       "         0                529  2020-07-01 01:13:12.2900   \n",
       "         0                686  2020-07-01 01:39:17.2430   \n",
       "         0               1963  2020-07-01 02:03:47.1320   \n",
       "\n",
       "                                 stoptime  start station id  \\\n",
       "usertype gender                                               \n",
       "Customer 0       2020-07-01 01:02:13.2980              3694   \n",
       "         0       2020-07-01 01:17:39.2000              3276   \n",
       "         0       2020-07-01 01:22:02.2810              3206   \n",
       "         0       2020-07-01 01:50:43.3910              3270   \n",
       "         0       2020-07-01 02:36:30.2480              3206   \n",
       "\n",
       "                start station name  start station latitude  \\\n",
       "usertype gender                                              \n",
       "Customer 0          Jackson Square               40.711130   \n",
       "         0        Marin Light Rail               40.714584   \n",
       "         0                 Hilltop               40.731169   \n",
       "         0         Jersey & 6th St               40.725289   \n",
       "         0                 Hilltop               40.731169   \n",
       "\n",
       "                 start station longitude  end station id  \\\n",
       "usertype gender                                            \n",
       "Customer 0                    -74.078900            3276   \n",
       "         0                    -74.042817            3792   \n",
       "         0                    -74.057574            3187   \n",
       "         0                    -74.045572            3270   \n",
       "         0                    -74.057574            3191   \n",
       "\n",
       "                           end station name  end station latitude  \\\n",
       "usertype gender                                                     \n",
       "Customer 0                 Marin Light Rail             40.714584   \n",
       "         0       Columbus Dr at Exchange Pl             40.716870   \n",
       "         0                        Warren St             40.721124   \n",
       "         0                  Jersey & 6th St             40.725289   \n",
       "         0                         Union St             40.718211   \n",
       "\n",
       "                 end station longitude  bikeid  birth year  \n",
       "usertype gender                                             \n",
       "Customer 0                  -74.042817   42579        1969  \n",
       "         0                  -74.032810   42446        1969  \n",
       "         0                  -74.038051   44415        1969  \n",
       "         0                  -74.045572   20748        1969  \n",
       "         0                  -74.083639   42363        1969  "
      ],
      "text/html": "<div>\n<style scoped>\n    .dataframe tbody tr th:only-of-type {\n        vertical-align: middle;\n    }\n\n    .dataframe tbody tr th {\n        vertical-align: top;\n    }\n\n    .dataframe thead th {\n        text-align: right;\n    }\n</style>\n<table border=\"1\" class=\"dataframe\">\n  <thead>\n    <tr style=\"text-align: right;\">\n      <th></th>\n      <th></th>\n      <th>tripduration</th>\n      <th>starttime</th>\n      <th>stoptime</th>\n      <th>start station id</th>\n      <th>start station name</th>\n      <th>start station latitude</th>\n      <th>start station longitude</th>\n      <th>end station id</th>\n      <th>end station name</th>\n      <th>end station latitude</th>\n      <th>end station longitude</th>\n      <th>bikeid</th>\n      <th>birth year</th>\n    </tr>\n    <tr>\n      <th>usertype</th>\n      <th>gender</th>\n      <th></th>\n      <th></th>\n      <th></th>\n      <th></th>\n      <th></th>\n      <th></th>\n      <th></th>\n      <th></th>\n      <th></th>\n      <th></th>\n      <th></th>\n      <th></th>\n      <th></th>\n    </tr>\n  </thead>\n  <tbody>\n    <tr>\n      <th rowspan=\"5\" valign=\"top\">Customer</th>\n      <th>0</th>\n      <td>2333</td>\n      <td>2020-07-01 00:23:19.8220</td>\n      <td>2020-07-01 01:02:13.2980</td>\n      <td>3694</td>\n      <td>Jackson Square</td>\n      <td>40.711130</td>\n      <td>-74.078900</td>\n      <td>3276</td>\n      <td>Marin Light Rail</td>\n      <td>40.714584</td>\n      <td>-74.042817</td>\n      <td>42579</td>\n      <td>1969</td>\n    </tr>\n    <tr>\n      <th>0</th>\n      <td>750</td>\n      <td>2020-07-01 01:05:08.8790</td>\n      <td>2020-07-01 01:17:39.2000</td>\n      <td>3276</td>\n      <td>Marin Light Rail</td>\n      <td>40.714584</td>\n      <td>-74.042817</td>\n      <td>3792</td>\n      <td>Columbus Dr at Exchange Pl</td>\n      <td>40.716870</td>\n      <td>-74.032810</td>\n      <td>42446</td>\n      <td>1969</td>\n    </tr>\n    <tr>\n      <th>0</th>\n      <td>529</td>\n      <td>2020-07-01 01:13:12.2900</td>\n      <td>2020-07-01 01:22:02.2810</td>\n      <td>3206</td>\n      <td>Hilltop</td>\n      <td>40.731169</td>\n      <td>-74.057574</td>\n      <td>3187</td>\n      <td>Warren St</td>\n      <td>40.721124</td>\n      <td>-74.038051</td>\n      <td>44415</td>\n      <td>1969</td>\n    </tr>\n    <tr>\n      <th>0</th>\n      <td>686</td>\n      <td>2020-07-01 01:39:17.2430</td>\n      <td>2020-07-01 01:50:43.3910</td>\n      <td>3270</td>\n      <td>Jersey &amp; 6th St</td>\n      <td>40.725289</td>\n      <td>-74.045572</td>\n      <td>3270</td>\n      <td>Jersey &amp; 6th St</td>\n      <td>40.725289</td>\n      <td>-74.045572</td>\n      <td>20748</td>\n      <td>1969</td>\n    </tr>\n    <tr>\n      <th>0</th>\n      <td>1963</td>\n      <td>2020-07-01 02:03:47.1320</td>\n      <td>2020-07-01 02:36:30.2480</td>\n      <td>3206</td>\n      <td>Hilltop</td>\n      <td>40.731169</td>\n      <td>-74.057574</td>\n      <td>3191</td>\n      <td>Union St</td>\n      <td>40.718211</td>\n      <td>-74.083639</td>\n      <td>42363</td>\n      <td>1969</td>\n    </tr>\n  </tbody>\n</table>\n</div>"
     },
     "metadata": {},
     "execution_count": 81
    }
   ],
   "source": [
    "third_qtr_customer_df = third_qtr_df.drop(index='Subscriber', level=0)\n",
    "third_qtr_customer_df.head()"
   ]
  },
  {
   "cell_type": "code",
   "execution_count": null,
   "metadata": {},
   "outputs": [],
   "source": [
    "third_qtr_customer_df = third_qtr_customer_df[[\"bikeid\", \"birth year\", \"start station name\", \"end station name\"]]\n",
    "third_qtr_customer_df.head()"
   ]
  },
  {
   "cell_type": "code",
   "execution_count": null,
   "metadata": {},
   "outputs": [],
   "source": [
    "third_qtr_customer_df[\"bikeid count per start station\"] = third_qtr_customer_df.groupby(\"start station name\")[\"bikeid\"].transform(len)\r\n",
    "third_qtr_customer_df"
   ]
  },
  {
   "cell_type": "code",
   "execution_count": null,
   "metadata": {},
   "outputs": [],
   "source": [
    "third_bikeid_customer_df = third_qtr_customer_df.drop_duplicates(subset=['bikeid'])\n",
    "third_bikeid_customer_df"
   ]
  },
  {
   "cell_type": "code",
   "execution_count": null,
   "metadata": {},
   "outputs": [],
   "source": [
    "third_male_customer_df = third_bikeid_customer_df.drop(index=['0', '2'], level=1)\n",
    "third_male_customer_df"
   ]
  },
  {
   "cell_type": "code",
   "execution_count": null,
   "metadata": {},
   "outputs": [],
   "source": [
    "third_male_customer_df.to_csv(\"third_qtr_male_subscriber.csv\", index=False)"
   ]
  },
  {
   "cell_type": "code",
   "execution_count": null,
   "metadata": {},
   "outputs": [],
   "source": [
    "third_female_customer_df = third_bikeid_customer_df.drop(index=['0', '1'], level=1)\n",
    "third_female_customer_df"
   ]
  },
  {
   "cell_type": "code",
   "execution_count": null,
   "metadata": {},
   "outputs": [],
   "source": [
    "third_female_customer_df.to_csv(\"third_qtr_female_subscriber.csv\", index=False)"
   ]
  },
  {
   "cell_type": "code",
   "execution_count": null,
   "metadata": {},
   "outputs": [],
   "source": [
    "third_unknown_customer_df = third_bikeid_customer_df.drop(index=['2', '1'], level=1)\n",
    "third_unknown_customer_df"
   ]
  },
  {
   "cell_type": "code",
   "execution_count": null,
   "metadata": {},
   "outputs": [],
   "source": [
    "third_unknown_customer_df.to_csv(\"third_qtr_unknown_subscriber.csv\", index=False)"
   ]
  },
  {
   "cell_type": "code",
   "execution_count": 33,
   "metadata": {},
   "outputs": [],
   "source": [
    "# third_qtr_subscriber_df.to_csv(\"third_qtr_subscriber.csv\", index=False)"
   ]
  },
  {
   "cell_type": "code",
   "execution_count": 34,
   "metadata": {},
   "outputs": [],
   "source": [
    "# third_qtr_customer_df.to_csv(\"third_qtr_customer.csv\", index=False)"
   ]
  },
  {
   "cell_type": "code",
   "execution_count": 82,
   "metadata": {},
   "outputs": [
    {
     "output_type": "execute_result",
     "data": {
      "text/plain": [
       "                   tripduration                 starttime  \\\n",
       "usertype   gender                                           \n",
       "Subscriber 1                156  2020-10-01 00:02:40.2600   \n",
       "           1                143  2020-10-01 00:02:53.5020   \n",
       "           2                305  2020-10-01 00:04:31.3160   \n",
       "Customer   1               1097  2020-10-01 00:05:18.3680   \n",
       "Subscriber 1                277  2020-10-01 00:09:17.5990   \n",
       "...                         ...                       ...   \n",
       "Customer   0               1750  2020-12-31 23:07:44.0030   \n",
       "           0               1519  2020-12-31 23:18:00.2630   \n",
       "           1               1761  2020-12-31 23:31:09.4620   \n",
       "           0                637  2020-12-31 23:35:45.4640   \n",
       "Subscriber 1               1607  2020-12-31 23:48:34.5750   \n",
       "\n",
       "                                   stoptime  start station id  \\\n",
       "usertype   gender                                               \n",
       "Subscriber 1       2020-10-01 00:05:17.0140              3186   \n",
       "           1       2020-10-01 00:05:16.9650              3186   \n",
       "           2       2020-10-01 00:09:36.3840              3273   \n",
       "Customer   1       2020-10-01 00:23:36.1240              3199   \n",
       "Subscriber 1       2020-10-01 00:13:55.5150              3199   \n",
       "...                                     ...               ...   \n",
       "Customer   0       2020-12-31 23:36:54.4710              3199   \n",
       "           0       2020-12-31 23:43:19.8590              3184   \n",
       "           1       2021-01-01 00:00:31.3290              3195   \n",
       "           0       2020-12-31 23:46:22.7300              3681   \n",
       "Subscriber 1       2021-01-01 00:15:22.3090              3267   \n",
       "\n",
       "                  start station name  start station latitude  \\\n",
       "usertype   gender                                              \n",
       "Subscriber 1           Grove St PATH               40.719586   \n",
       "           1           Grove St PATH               40.719586   \n",
       "           2            Manila & 1st               40.721651   \n",
       "Customer   1            Newport Pkwy               40.728745   \n",
       "Subscriber 1            Newport Pkwy               40.728745   \n",
       "...                              ...                     ...   \n",
       "Customer   0            Newport Pkwy               40.728745   \n",
       "           0             Paulus Hook               40.714145   \n",
       "           1                 Sip Ave               40.730897   \n",
       "           0                Grand St               40.715178   \n",
       "Subscriber 1            Morris Canal               40.712419   \n",
       "\n",
       "                   start station longitude  end station id  \\\n",
       "usertype   gender                                            \n",
       "Subscriber 1                    -74.043117            3270   \n",
       "           1                    -74.043117            3270   \n",
       "           2                    -74.042884            3269   \n",
       "Customer   1                    -74.032108            3281   \n",
       "Subscriber 1                    -74.032108            3638   \n",
       "...                                    ...             ...   \n",
       "Customer   0                    -74.032108            3199   \n",
       "           0                    -74.033552            3195   \n",
       "           1                    -74.063913            3270   \n",
       "           0                    -74.037683            3199   \n",
       "Subscriber 1                    -74.038526            3267   \n",
       "\n",
       "                      end station name  end station latitude  \\\n",
       "usertype   gender                                              \n",
       "Subscriber 1           Jersey & 6th St             40.725289   \n",
       "           1           Jersey & 6th St             40.725289   \n",
       "           2           Brunswick & 6th             40.726012   \n",
       "Customer   1       Leonard Gordon Park             40.745910   \n",
       "Subscriber 1             Washington St             40.724294   \n",
       "...                                ...                   ...   \n",
       "Customer   0              Newport Pkwy             40.728745   \n",
       "           0                   Sip Ave             40.730897   \n",
       "           1           Jersey & 6th St             40.725289   \n",
       "           0              Newport Pkwy             40.728745   \n",
       "Subscriber 1              Morris Canal             40.712419   \n",
       "\n",
       "                   end station longitude  bikeid  birth year  \n",
       "usertype   gender                                             \n",
       "Subscriber 1                  -74.045572   42293        1996  \n",
       "           1                  -74.045572   44740        1998  \n",
       "           2                  -74.050389   41369        1988  \n",
       "Customer   1                  -74.057271   42285        2001  \n",
       "Subscriber 1                  -74.035483   45231        1965  \n",
       "...                                  ...     ...         ...  \n",
       "Customer   0                  -74.032108   40440        1969  \n",
       "           0                  -74.063913   46340        1969  \n",
       "           1                  -74.045572   40907        1998  \n",
       "           0                  -74.032108   42250        1969  \n",
       "Subscriber 1                  -74.038526   48742        1982  \n",
       "\n",
       "[63055 rows x 13 columns]"
      ],
      "text/html": "<div>\n<style scoped>\n    .dataframe tbody tr th:only-of-type {\n        vertical-align: middle;\n    }\n\n    .dataframe tbody tr th {\n        vertical-align: top;\n    }\n\n    .dataframe thead th {\n        text-align: right;\n    }\n</style>\n<table border=\"1\" class=\"dataframe\">\n  <thead>\n    <tr style=\"text-align: right;\">\n      <th></th>\n      <th></th>\n      <th>tripduration</th>\n      <th>starttime</th>\n      <th>stoptime</th>\n      <th>start station id</th>\n      <th>start station name</th>\n      <th>start station latitude</th>\n      <th>start station longitude</th>\n      <th>end station id</th>\n      <th>end station name</th>\n      <th>end station latitude</th>\n      <th>end station longitude</th>\n      <th>bikeid</th>\n      <th>birth year</th>\n    </tr>\n    <tr>\n      <th>usertype</th>\n      <th>gender</th>\n      <th></th>\n      <th></th>\n      <th></th>\n      <th></th>\n      <th></th>\n      <th></th>\n      <th></th>\n      <th></th>\n      <th></th>\n      <th></th>\n      <th></th>\n      <th></th>\n      <th></th>\n    </tr>\n  </thead>\n  <tbody>\n    <tr>\n      <th rowspan=\"3\" valign=\"top\">Subscriber</th>\n      <th>1</th>\n      <td>156</td>\n      <td>2020-10-01 00:02:40.2600</td>\n      <td>2020-10-01 00:05:17.0140</td>\n      <td>3186</td>\n      <td>Grove St PATH</td>\n      <td>40.719586</td>\n      <td>-74.043117</td>\n      <td>3270</td>\n      <td>Jersey &amp; 6th St</td>\n      <td>40.725289</td>\n      <td>-74.045572</td>\n      <td>42293</td>\n      <td>1996</td>\n    </tr>\n    <tr>\n      <th>1</th>\n      <td>143</td>\n      <td>2020-10-01 00:02:53.5020</td>\n      <td>2020-10-01 00:05:16.9650</td>\n      <td>3186</td>\n      <td>Grove St PATH</td>\n      <td>40.719586</td>\n      <td>-74.043117</td>\n      <td>3270</td>\n      <td>Jersey &amp; 6th St</td>\n      <td>40.725289</td>\n      <td>-74.045572</td>\n      <td>44740</td>\n      <td>1998</td>\n    </tr>\n    <tr>\n      <th>2</th>\n      <td>305</td>\n      <td>2020-10-01 00:04:31.3160</td>\n      <td>2020-10-01 00:09:36.3840</td>\n      <td>3273</td>\n      <td>Manila &amp; 1st</td>\n      <td>40.721651</td>\n      <td>-74.042884</td>\n      <td>3269</td>\n      <td>Brunswick &amp; 6th</td>\n      <td>40.726012</td>\n      <td>-74.050389</td>\n      <td>41369</td>\n      <td>1988</td>\n    </tr>\n    <tr>\n      <th>Customer</th>\n      <th>1</th>\n      <td>1097</td>\n      <td>2020-10-01 00:05:18.3680</td>\n      <td>2020-10-01 00:23:36.1240</td>\n      <td>3199</td>\n      <td>Newport Pkwy</td>\n      <td>40.728745</td>\n      <td>-74.032108</td>\n      <td>3281</td>\n      <td>Leonard Gordon Park</td>\n      <td>40.745910</td>\n      <td>-74.057271</td>\n      <td>42285</td>\n      <td>2001</td>\n    </tr>\n    <tr>\n      <th>Subscriber</th>\n      <th>1</th>\n      <td>277</td>\n      <td>2020-10-01 00:09:17.5990</td>\n      <td>2020-10-01 00:13:55.5150</td>\n      <td>3199</td>\n      <td>Newport Pkwy</td>\n      <td>40.728745</td>\n      <td>-74.032108</td>\n      <td>3638</td>\n      <td>Washington St</td>\n      <td>40.724294</td>\n      <td>-74.035483</td>\n      <td>45231</td>\n      <td>1965</td>\n    </tr>\n    <tr>\n      <th>...</th>\n      <th>...</th>\n      <td>...</td>\n      <td>...</td>\n      <td>...</td>\n      <td>...</td>\n      <td>...</td>\n      <td>...</td>\n      <td>...</td>\n      <td>...</td>\n      <td>...</td>\n      <td>...</td>\n      <td>...</td>\n      <td>...</td>\n      <td>...</td>\n    </tr>\n    <tr>\n      <th rowspan=\"4\" valign=\"top\">Customer</th>\n      <th>0</th>\n      <td>1750</td>\n      <td>2020-12-31 23:07:44.0030</td>\n      <td>2020-12-31 23:36:54.4710</td>\n      <td>3199</td>\n      <td>Newport Pkwy</td>\n      <td>40.728745</td>\n      <td>-74.032108</td>\n      <td>3199</td>\n      <td>Newport Pkwy</td>\n      <td>40.728745</td>\n      <td>-74.032108</td>\n      <td>40440</td>\n      <td>1969</td>\n    </tr>\n    <tr>\n      <th>0</th>\n      <td>1519</td>\n      <td>2020-12-31 23:18:00.2630</td>\n      <td>2020-12-31 23:43:19.8590</td>\n      <td>3184</td>\n      <td>Paulus Hook</td>\n      <td>40.714145</td>\n      <td>-74.033552</td>\n      <td>3195</td>\n      <td>Sip Ave</td>\n      <td>40.730897</td>\n      <td>-74.063913</td>\n      <td>46340</td>\n      <td>1969</td>\n    </tr>\n    <tr>\n      <th>1</th>\n      <td>1761</td>\n      <td>2020-12-31 23:31:09.4620</td>\n      <td>2021-01-01 00:00:31.3290</td>\n      <td>3195</td>\n      <td>Sip Ave</td>\n      <td>40.730897</td>\n      <td>-74.063913</td>\n      <td>3270</td>\n      <td>Jersey &amp; 6th St</td>\n      <td>40.725289</td>\n      <td>-74.045572</td>\n      <td>40907</td>\n      <td>1998</td>\n    </tr>\n    <tr>\n      <th>0</th>\n      <td>637</td>\n      <td>2020-12-31 23:35:45.4640</td>\n      <td>2020-12-31 23:46:22.7300</td>\n      <td>3681</td>\n      <td>Grand St</td>\n      <td>40.715178</td>\n      <td>-74.037683</td>\n      <td>3199</td>\n      <td>Newport Pkwy</td>\n      <td>40.728745</td>\n      <td>-74.032108</td>\n      <td>42250</td>\n      <td>1969</td>\n    </tr>\n    <tr>\n      <th>Subscriber</th>\n      <th>1</th>\n      <td>1607</td>\n      <td>2020-12-31 23:48:34.5750</td>\n      <td>2021-01-01 00:15:22.3090</td>\n      <td>3267</td>\n      <td>Morris Canal</td>\n      <td>40.712419</td>\n      <td>-74.038526</td>\n      <td>3267</td>\n      <td>Morris Canal</td>\n      <td>40.712419</td>\n      <td>-74.038526</td>\n      <td>48742</td>\n      <td>1982</td>\n    </tr>\n  </tbody>\n</table>\n<p>63055 rows × 13 columns</p>\n</div>"
     },
     "metadata": {},
     "execution_count": 82
    }
   ],
   "source": [
    "fourth_qtr_df = fourth_qtr.set_index([\"usertype\", \"gender\"])\n",
    "fourth_qtr_df"
   ]
  },
  {
   "cell_type": "code",
   "execution_count": 83,
   "metadata": {},
   "outputs": [
    {
     "output_type": "execute_result",
     "data": {
      "text/plain": [
       "                   tripduration                 starttime  \\\n",
       "usertype   gender                                           \n",
       "Subscriber 1                156  2020-10-01 00:02:40.2600   \n",
       "           1                143  2020-10-01 00:02:53.5020   \n",
       "           2                305  2020-10-01 00:04:31.3160   \n",
       "           1                277  2020-10-01 00:09:17.5990   \n",
       "           2                537  2020-10-01 00:10:06.1260   \n",
       "\n",
       "                                   stoptime  start station id  \\\n",
       "usertype   gender                                               \n",
       "Subscriber 1       2020-10-01 00:05:17.0140              3186   \n",
       "           1       2020-10-01 00:05:16.9650              3186   \n",
       "           2       2020-10-01 00:09:36.3840              3273   \n",
       "           1       2020-10-01 00:13:55.5150              3199   \n",
       "           2       2020-10-01 00:19:03.2760              3195   \n",
       "\n",
       "                  start station name  start station latitude  \\\n",
       "usertype   gender                                              \n",
       "Subscriber 1           Grove St PATH               40.719586   \n",
       "           1           Grove St PATH               40.719586   \n",
       "           2            Manila & 1st               40.721651   \n",
       "           1            Newport Pkwy               40.728745   \n",
       "           2                 Sip Ave               40.730897   \n",
       "\n",
       "                   start station longitude  end station id end station name  \\\n",
       "usertype   gender                                                             \n",
       "Subscriber 1                    -74.043117            3270  Jersey & 6th St   \n",
       "           1                    -74.043117            3270  Jersey & 6th St   \n",
       "           2                    -74.042884            3269  Brunswick & 6th   \n",
       "           1                    -74.032108            3638    Washington St   \n",
       "           2                    -74.063913            3280      Astor Place   \n",
       "\n",
       "                   end station latitude  end station longitude  bikeid  \\\n",
       "usertype   gender                                                        \n",
       "Subscriber 1                  40.725289             -74.045572   42293   \n",
       "           1                  40.725289             -74.045572   44740   \n",
       "           2                  40.726012             -74.050389   41369   \n",
       "           1                  40.724294             -74.035483   45231   \n",
       "           2                  40.719282             -74.071262   27453   \n",
       "\n",
       "                   birth year  \n",
       "usertype   gender              \n",
       "Subscriber 1             1996  \n",
       "           1             1998  \n",
       "           2             1988  \n",
       "           1             1965  \n",
       "           2             1997  "
      ],
      "text/html": "<div>\n<style scoped>\n    .dataframe tbody tr th:only-of-type {\n        vertical-align: middle;\n    }\n\n    .dataframe tbody tr th {\n        vertical-align: top;\n    }\n\n    .dataframe thead th {\n        text-align: right;\n    }\n</style>\n<table border=\"1\" class=\"dataframe\">\n  <thead>\n    <tr style=\"text-align: right;\">\n      <th></th>\n      <th></th>\n      <th>tripduration</th>\n      <th>starttime</th>\n      <th>stoptime</th>\n      <th>start station id</th>\n      <th>start station name</th>\n      <th>start station latitude</th>\n      <th>start station longitude</th>\n      <th>end station id</th>\n      <th>end station name</th>\n      <th>end station latitude</th>\n      <th>end station longitude</th>\n      <th>bikeid</th>\n      <th>birth year</th>\n    </tr>\n    <tr>\n      <th>usertype</th>\n      <th>gender</th>\n      <th></th>\n      <th></th>\n      <th></th>\n      <th></th>\n      <th></th>\n      <th></th>\n      <th></th>\n      <th></th>\n      <th></th>\n      <th></th>\n      <th></th>\n      <th></th>\n      <th></th>\n    </tr>\n  </thead>\n  <tbody>\n    <tr>\n      <th rowspan=\"5\" valign=\"top\">Subscriber</th>\n      <th>1</th>\n      <td>156</td>\n      <td>2020-10-01 00:02:40.2600</td>\n      <td>2020-10-01 00:05:17.0140</td>\n      <td>3186</td>\n      <td>Grove St PATH</td>\n      <td>40.719586</td>\n      <td>-74.043117</td>\n      <td>3270</td>\n      <td>Jersey &amp; 6th St</td>\n      <td>40.725289</td>\n      <td>-74.045572</td>\n      <td>42293</td>\n      <td>1996</td>\n    </tr>\n    <tr>\n      <th>1</th>\n      <td>143</td>\n      <td>2020-10-01 00:02:53.5020</td>\n      <td>2020-10-01 00:05:16.9650</td>\n      <td>3186</td>\n      <td>Grove St PATH</td>\n      <td>40.719586</td>\n      <td>-74.043117</td>\n      <td>3270</td>\n      <td>Jersey &amp; 6th St</td>\n      <td>40.725289</td>\n      <td>-74.045572</td>\n      <td>44740</td>\n      <td>1998</td>\n    </tr>\n    <tr>\n      <th>2</th>\n      <td>305</td>\n      <td>2020-10-01 00:04:31.3160</td>\n      <td>2020-10-01 00:09:36.3840</td>\n      <td>3273</td>\n      <td>Manila &amp; 1st</td>\n      <td>40.721651</td>\n      <td>-74.042884</td>\n      <td>3269</td>\n      <td>Brunswick &amp; 6th</td>\n      <td>40.726012</td>\n      <td>-74.050389</td>\n      <td>41369</td>\n      <td>1988</td>\n    </tr>\n    <tr>\n      <th>1</th>\n      <td>277</td>\n      <td>2020-10-01 00:09:17.5990</td>\n      <td>2020-10-01 00:13:55.5150</td>\n      <td>3199</td>\n      <td>Newport Pkwy</td>\n      <td>40.728745</td>\n      <td>-74.032108</td>\n      <td>3638</td>\n      <td>Washington St</td>\n      <td>40.724294</td>\n      <td>-74.035483</td>\n      <td>45231</td>\n      <td>1965</td>\n    </tr>\n    <tr>\n      <th>2</th>\n      <td>537</td>\n      <td>2020-10-01 00:10:06.1260</td>\n      <td>2020-10-01 00:19:03.2760</td>\n      <td>3195</td>\n      <td>Sip Ave</td>\n      <td>40.730897</td>\n      <td>-74.063913</td>\n      <td>3280</td>\n      <td>Astor Place</td>\n      <td>40.719282</td>\n      <td>-74.071262</td>\n      <td>27453</td>\n      <td>1997</td>\n    </tr>\n  </tbody>\n</table>\n</div>"
     },
     "metadata": {},
     "execution_count": 83
    }
   ],
   "source": [
    "fourth_qtr_subscriber_df = fourth_qtr_df.drop(index='Customer', level=0)\n",
    "fourth_qtr_subscriber_df.head()"
   ]
  },
  {
   "cell_type": "code",
   "execution_count": null,
   "metadata": {},
   "outputs": [],
   "source": [
    "fourth_qtr_subscriber_df = fourth_qtr_subscriber_df[[\"bikeid\", \"birth year\", \"start station name\", \"end station name\"]]\n",
    "fourth_qtr_subscriber_df.head()"
   ]
  },
  {
   "cell_type": "code",
   "execution_count": null,
   "metadata": {},
   "outputs": [],
   "source": [
    "fourth_qtr_subscriber_df[\"bikeid count per start station\"] = fourth_qtr_subscriber_df.groupby(\"start station name\")[\"bikeid\"].transform(len)\n",
    "fourth_qtr_subscriber_df"
   ]
  },
  {
   "cell_type": "code",
   "execution_count": null,
   "metadata": {},
   "outputs": [],
   "source": [
    "fourth_bikeid_subscriber_df = fourth_qtr_subscriber_df.drop_duplicates(subset=['bikeid'])\n",
    "fourth_bikeid_subscriber_df"
   ]
  },
  {
   "cell_type": "code",
   "execution_count": null,
   "metadata": {},
   "outputs": [],
   "source": [
    "fourth_male_subscriber_df = fourth_bikeid_subscriber_df.drop(index=['0', '2'], level=1)\n",
    "fourth_male_subscriber_df"
   ]
  },
  {
   "cell_type": "code",
   "execution_count": null,
   "metadata": {},
   "outputs": [],
   "source": [
    "fourth_male_subscriber_df.to_csv(\"fourth_qtr_male_subscriber.csv\", index=False)"
   ]
  },
  {
   "cell_type": "code",
   "execution_count": null,
   "metadata": {},
   "outputs": [],
   "source": [
    "fourth_female_subscriber_df = fourth_bikeid_subscriber_df.drop(index=['0', '1'], level=1)\n",
    "fourth_female_subscriber_df"
   ]
  },
  {
   "cell_type": "code",
   "execution_count": null,
   "metadata": {},
   "outputs": [],
   "source": [
    "fourth_female_subscriber_df.to_csv(\"fourth_qtr_female_subscriber.csv\", index=False)"
   ]
  },
  {
   "cell_type": "code",
   "execution_count": null,
   "metadata": {},
   "outputs": [],
   "source": [
    "fourth_unknown_subscriber_df = fourth_bikeid_subscriber_df.drop(index=['2', '1'], level=1)\n",
    "fourth_unknown_subscriber_df"
   ]
  },
  {
   "cell_type": "code",
   "execution_count": null,
   "metadata": {},
   "outputs": [],
   "source": [
    "fourth_unknown_subscriber_df.to_csv(\"fourth_qtr_unknown_subscriber.csv\", index=False)"
   ]
  },
  {
   "cell_type": "code",
   "execution_count": 84,
   "metadata": {},
   "outputs": [
    {
     "output_type": "execute_result",
     "data": {
      "text/plain": [
       "                 tripduration                 starttime  \\\n",
       "usertype gender                                           \n",
       "Customer 1               1097  2020-10-01 00:05:18.3680   \n",
       "         1               1233  2020-10-01 00:20:07.3210   \n",
       "         1                337  2020-10-01 00:38:42.9630   \n",
       "         1               1274  2020-10-01 00:38:55.3690   \n",
       "         1                449  2020-10-01 01:12:24.1430   \n",
       "\n",
       "                                 stoptime  start station id  \\\n",
       "usertype gender                                               \n",
       "Customer 1       2020-10-01 00:23:36.1240              3199   \n",
       "         1       2020-10-01 00:40:40.7130              3638   \n",
       "         1       2020-10-01 00:44:20.2270              3206   \n",
       "         1       2020-10-01 01:00:09.9350              3280   \n",
       "         1       2020-10-01 01:19:54.0460              3198   \n",
       "\n",
       "                start station name  start station latitude  \\\n",
       "usertype gender                                              \n",
       "Customer 1            Newport Pkwy               40.728745   \n",
       "         1           Washington St               40.724294   \n",
       "         1                 Hilltop               40.731169   \n",
       "         1             Astor Place               40.719282   \n",
       "         1        Heights Elevator               40.748716   \n",
       "\n",
       "                 start station longitude  end station id  \\\n",
       "usertype gender                                            \n",
       "Customer 1                    -74.032108            3281   \n",
       "         1                    -74.035483            3225   \n",
       "         1                    -74.057574            3212   \n",
       "         1                    -74.071262            3193   \n",
       "         1                    -74.040443            3791   \n",
       "\n",
       "                           end station name  end station latitude  \\\n",
       "usertype gender                                                     \n",
       "Customer 1              Leonard Gordon Park             40.745910   \n",
       "         1            Baldwin at Montgomery             40.723659   \n",
       "         1                  Christ Hospital             40.734786   \n",
       "         1                     Lincoln Park             40.724605   \n",
       "         1       Hoboken Ave at Monmouth St             40.735208   \n",
       "\n",
       "                 end station longitude  bikeid  birth year  \n",
       "usertype gender                                             \n",
       "Customer 1                  -74.057271   42285        2001  \n",
       "         1                  -74.064194   39591        1997  \n",
       "         1                  -74.050444   21500        1993  \n",
       "         1                  -74.078406   29072        1999  \n",
       "         1                  -74.046964   42140        1995  "
      ],
      "text/html": "<div>\n<style scoped>\n    .dataframe tbody tr th:only-of-type {\n        vertical-align: middle;\n    }\n\n    .dataframe tbody tr th {\n        vertical-align: top;\n    }\n\n    .dataframe thead th {\n        text-align: right;\n    }\n</style>\n<table border=\"1\" class=\"dataframe\">\n  <thead>\n    <tr style=\"text-align: right;\">\n      <th></th>\n      <th></th>\n      <th>tripduration</th>\n      <th>starttime</th>\n      <th>stoptime</th>\n      <th>start station id</th>\n      <th>start station name</th>\n      <th>start station latitude</th>\n      <th>start station longitude</th>\n      <th>end station id</th>\n      <th>end station name</th>\n      <th>end station latitude</th>\n      <th>end station longitude</th>\n      <th>bikeid</th>\n      <th>birth year</th>\n    </tr>\n    <tr>\n      <th>usertype</th>\n      <th>gender</th>\n      <th></th>\n      <th></th>\n      <th></th>\n      <th></th>\n      <th></th>\n      <th></th>\n      <th></th>\n      <th></th>\n      <th></th>\n      <th></th>\n      <th></th>\n      <th></th>\n      <th></th>\n    </tr>\n  </thead>\n  <tbody>\n    <tr>\n      <th rowspan=\"5\" valign=\"top\">Customer</th>\n      <th>1</th>\n      <td>1097</td>\n      <td>2020-10-01 00:05:18.3680</td>\n      <td>2020-10-01 00:23:36.1240</td>\n      <td>3199</td>\n      <td>Newport Pkwy</td>\n      <td>40.728745</td>\n      <td>-74.032108</td>\n      <td>3281</td>\n      <td>Leonard Gordon Park</td>\n      <td>40.745910</td>\n      <td>-74.057271</td>\n      <td>42285</td>\n      <td>2001</td>\n    </tr>\n    <tr>\n      <th>1</th>\n      <td>1233</td>\n      <td>2020-10-01 00:20:07.3210</td>\n      <td>2020-10-01 00:40:40.7130</td>\n      <td>3638</td>\n      <td>Washington St</td>\n      <td>40.724294</td>\n      <td>-74.035483</td>\n      <td>3225</td>\n      <td>Baldwin at Montgomery</td>\n      <td>40.723659</td>\n      <td>-74.064194</td>\n      <td>39591</td>\n      <td>1997</td>\n    </tr>\n    <tr>\n      <th>1</th>\n      <td>337</td>\n      <td>2020-10-01 00:38:42.9630</td>\n      <td>2020-10-01 00:44:20.2270</td>\n      <td>3206</td>\n      <td>Hilltop</td>\n      <td>40.731169</td>\n      <td>-74.057574</td>\n      <td>3212</td>\n      <td>Christ Hospital</td>\n      <td>40.734786</td>\n      <td>-74.050444</td>\n      <td>21500</td>\n      <td>1993</td>\n    </tr>\n    <tr>\n      <th>1</th>\n      <td>1274</td>\n      <td>2020-10-01 00:38:55.3690</td>\n      <td>2020-10-01 01:00:09.9350</td>\n      <td>3280</td>\n      <td>Astor Place</td>\n      <td>40.719282</td>\n      <td>-74.071262</td>\n      <td>3193</td>\n      <td>Lincoln Park</td>\n      <td>40.724605</td>\n      <td>-74.078406</td>\n      <td>29072</td>\n      <td>1999</td>\n    </tr>\n    <tr>\n      <th>1</th>\n      <td>449</td>\n      <td>2020-10-01 01:12:24.1430</td>\n      <td>2020-10-01 01:19:54.0460</td>\n      <td>3198</td>\n      <td>Heights Elevator</td>\n      <td>40.748716</td>\n      <td>-74.040443</td>\n      <td>3791</td>\n      <td>Hoboken Ave at Monmouth St</td>\n      <td>40.735208</td>\n      <td>-74.046964</td>\n      <td>42140</td>\n      <td>1995</td>\n    </tr>\n  </tbody>\n</table>\n</div>"
     },
     "metadata": {},
     "execution_count": 84
    }
   ],
   "source": [
    "fourth_qtr_customer_df = fourth_qtr_df.drop(index='Subscriber', level=0)\n",
    "fourth_qtr_customer_df.head()"
   ]
  },
  {
   "cell_type": "code",
   "execution_count": null,
   "metadata": {},
   "outputs": [],
   "source": [
    "fourth_qtr_customer_df = fourth_qtr_customer_df[[\"bikeid\", \"birth year\", \"start station name\", \"end station name\"]]\n",
    "fourth_qtr_customer_df.head()"
   ]
  },
  {
   "cell_type": "code",
   "execution_count": null,
   "metadata": {},
   "outputs": [],
   "source": [
    "fourth_qtr_customer_df[\"bikeid count per start station\"] = fourth_qtr_customer_df.groupby(\"start station name\")[\"bikeid\"].transform(len)\n",
    "fourth_qtr_customer_df"
   ]
  },
  {
   "cell_type": "code",
   "execution_count": null,
   "metadata": {},
   "outputs": [],
   "source": [
    "fourth_bikeid_customer_df = fourth_qtr_customer_df.drop_duplicates(subset=['bikeid'])\n",
    "fourth_bikeid_customer_df"
   ]
  },
  {
   "cell_type": "code",
   "execution_count": null,
   "metadata": {},
   "outputs": [],
   "source": [
    "fourth_male_customer_df = fourth_bikeid_customer_df.drop(index=['0', '2'], level=1)\n",
    "fourth_male_customer_df"
   ]
  },
  {
   "cell_type": "code",
   "execution_count": null,
   "metadata": {},
   "outputs": [],
   "source": [
    "fourth_male_customer_df.to_csv(\"fourth_qtr_male_customer.csv\", index=False)"
   ]
  },
  {
   "cell_type": "code",
   "execution_count": null,
   "metadata": {},
   "outputs": [],
   "source": [
    "fourth_female_customer_df= = fourth_bikeid_customer_df.drop(index=['0', '1'], level=1)\n",
    "fourth_female_customer_df"
   ]
  },
  {
   "cell_type": "code",
   "execution_count": null,
   "metadata": {},
   "outputs": [],
   "source": [
    "fourth_female_customer_df.to_csv(\"fourth_qtr_female_customer.csv\", index=False)"
   ]
  },
  {
   "cell_type": "code",
   "execution_count": null,
   "metadata": {},
   "outputs": [],
   "source": [
    "fourth_unknown_customer_df = fourth_bikeid_customer_df.drop(index=['2', '1'], level=1)\n",
    "fourth_unknown_customer_df"
   ]
  },
  {
   "cell_type": "code",
   "execution_count": null,
   "metadata": {},
   "outputs": [],
   "source": [
    "fourth_unknown_customer_df.to_csv(\"fourth_qtr_unknown_customer.csv\", index=False)"
   ]
  },
  {
   "cell_type": "code",
   "execution_count": 38,
   "metadata": {},
   "outputs": [],
   "source": [
    "# fourth_qtr_subscriber_df.to_csv(\"fourth_qtr_subscriber.csv\", index=False)"
   ]
  },
  {
   "cell_type": "code",
   "execution_count": 39,
   "metadata": {},
   "outputs": [],
   "source": [
    "# fourth_qtr_customer_df.to_csv(\"fourth_qtr_customer.csv\", index=False)"
   ]
  }
 ]
}